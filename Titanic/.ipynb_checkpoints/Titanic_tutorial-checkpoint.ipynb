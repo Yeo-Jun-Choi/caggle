{
 "cells": [
  {
   "cell_type": "code",
   "execution_count": 161,
   "metadata": {},
   "outputs": [],
   "source": [
    "import os\n",
    "import numpy as np\n",
    "import pandas as pd\n",
    "import matplotlib.pyplot as plt\n",
    "import seaborn as sns\n",
    "import keras\n",
    "import sklearn"
   ]
  },
  {
   "cell_type": "code",
   "execution_count": 162,
   "metadata": {},
   "outputs": [],
   "source": [
    "plt.style.use('seaborn')\n",
    "sns.set(font_scale=2.5)\n",
    "# matplotlib의 기본 scheme말고 seaborn scheme을 세팅하면\n",
    "# 일일이 graph의 fontsize를 지정할 필요 없음"
   ]
  },
  {
   "cell_type": "code",
   "execution_count": 163,
   "metadata": {},
   "outputs": [],
   "source": [
    "import missingno as msno\n",
    "\n",
    "#ignore warnings\n",
    "import warnings\n",
    "warnings.filterwarnings('ignore')\n",
    "# 워닝 메세지 생략. 버전관리를 위해 필요한 정보라면 주석처리\n",
    "%matplotlib inline"
   ]
  },
  {
   "cell_type": "code",
   "execution_count": 164,
   "metadata": {
    "scrolled": true
   },
   "outputs": [
    {
     "data": {
      "text/plain": [
       "['.ipynb_checkpoints',\n",
       " '2019-1st-ml-month-with-kakr.zip',\n",
       " 'sample_submission.csv',\n",
       " 'test.csv',\n",
       " 'Titanic_tutorial.ipynb',\n",
       " 'train.csv']"
      ]
     },
     "execution_count": 164,
     "metadata": {},
     "output_type": "execute_result"
    }
   ],
   "source": [
    "os.listdir(\"../Titanic\")"
   ]
  },
  {
   "cell_type": "code",
   "execution_count": 165,
   "metadata": {},
   "outputs": [
    {
     "data": {
      "text/plain": [
       "'1.0.1'"
      ]
     },
     "execution_count": 165,
     "metadata": {},
     "output_type": "execute_result"
    }
   ],
   "source": [
    "pd.__version__"
   ]
  },
  {
   "cell_type": "code",
   "execution_count": 166,
   "metadata": {},
   "outputs": [],
   "source": [
    "train_data = pd.read_csv('../Titanic/train.csv')\n",
    "test_data = pd.read_csv('../Titanic/test.csv')\n",
    "submit_data = pd.read_csv('../Titanic/sample_submission.csv')"
   ]
  },
  {
   "cell_type": "code",
   "execution_count": 167,
   "metadata": {},
   "outputs": [
    {
     "name": "stdout",
     "output_type": "stream",
     "text": [
      "(891, 12) (418, 11) (418, 2)\n"
     ]
    }
   ],
   "source": [
    "print(train_data.shape, test_data.shape, submit_data.shape)"
   ]
  },
  {
   "cell_type": "code",
   "execution_count": 168,
   "metadata": {},
   "outputs": [
    {
     "data": {
      "text/plain": [
       "Index(['PassengerId', 'Survived', 'Pclass', 'Name', 'Sex', 'Age', 'SibSp',\n",
       "       'Parch', 'Ticket', 'Fare', 'Cabin', 'Embarked'],\n",
       "      dtype='object')"
      ]
     },
     "execution_count": 168,
     "metadata": {},
     "output_type": "execute_result"
    }
   ],
   "source": [
    "train_data.columns"
   ]
  },
  {
   "cell_type": "code",
   "execution_count": 169,
   "metadata": {},
   "outputs": [
    {
     "data": {
      "text/plain": [
       "Index(['PassengerId', 'Survived'], dtype='object')"
      ]
     },
     "execution_count": 169,
     "metadata": {},
     "output_type": "execute_result"
    }
   ],
   "source": [
    "submit_data.columns"
   ]
  },
  {
   "cell_type": "code",
   "execution_count": 170,
   "metadata": {},
   "outputs": [
    {
     "data": {
      "text/html": [
       "<div>\n",
       "<style scoped>\n",
       "    .dataframe tbody tr th:only-of-type {\n",
       "        vertical-align: middle;\n",
       "    }\n",
       "\n",
       "    .dataframe tbody tr th {\n",
       "        vertical-align: top;\n",
       "    }\n",
       "\n",
       "    .dataframe thead th {\n",
       "        text-align: right;\n",
       "    }\n",
       "</style>\n",
       "<table border=\"1\" class=\"dataframe\">\n",
       "  <thead>\n",
       "    <tr style=\"text-align: right;\">\n",
       "      <th></th>\n",
       "      <th>PassengerId</th>\n",
       "      <th>Survived</th>\n",
       "      <th>Pclass</th>\n",
       "      <th>Name</th>\n",
       "      <th>Sex</th>\n",
       "      <th>Age</th>\n",
       "      <th>SibSp</th>\n",
       "      <th>Parch</th>\n",
       "      <th>Ticket</th>\n",
       "      <th>Fare</th>\n",
       "      <th>Cabin</th>\n",
       "      <th>Embarked</th>\n",
       "    </tr>\n",
       "  </thead>\n",
       "  <tbody>\n",
       "    <tr>\n",
       "      <th>0</th>\n",
       "      <td>1</td>\n",
       "      <td>0</td>\n",
       "      <td>3</td>\n",
       "      <td>Braund, Mr. Owen Harris</td>\n",
       "      <td>male</td>\n",
       "      <td>22.0</td>\n",
       "      <td>1</td>\n",
       "      <td>0</td>\n",
       "      <td>A/5 21171</td>\n",
       "      <td>7.2500</td>\n",
       "      <td>NaN</td>\n",
       "      <td>S</td>\n",
       "    </tr>\n",
       "    <tr>\n",
       "      <th>1</th>\n",
       "      <td>2</td>\n",
       "      <td>1</td>\n",
       "      <td>1</td>\n",
       "      <td>Cumings, Mrs. John Bradley (Florence Briggs Th...</td>\n",
       "      <td>female</td>\n",
       "      <td>38.0</td>\n",
       "      <td>1</td>\n",
       "      <td>0</td>\n",
       "      <td>PC 17599</td>\n",
       "      <td>71.2833</td>\n",
       "      <td>C85</td>\n",
       "      <td>C</td>\n",
       "    </tr>\n",
       "    <tr>\n",
       "      <th>2</th>\n",
       "      <td>3</td>\n",
       "      <td>1</td>\n",
       "      <td>3</td>\n",
       "      <td>Heikkinen, Miss. Laina</td>\n",
       "      <td>female</td>\n",
       "      <td>26.0</td>\n",
       "      <td>0</td>\n",
       "      <td>0</td>\n",
       "      <td>STON/O2. 3101282</td>\n",
       "      <td>7.9250</td>\n",
       "      <td>NaN</td>\n",
       "      <td>S</td>\n",
       "    </tr>\n",
       "    <tr>\n",
       "      <th>3</th>\n",
       "      <td>4</td>\n",
       "      <td>1</td>\n",
       "      <td>1</td>\n",
       "      <td>Futrelle, Mrs. Jacques Heath (Lily May Peel)</td>\n",
       "      <td>female</td>\n",
       "      <td>35.0</td>\n",
       "      <td>1</td>\n",
       "      <td>0</td>\n",
       "      <td>113803</td>\n",
       "      <td>53.1000</td>\n",
       "      <td>C123</td>\n",
       "      <td>S</td>\n",
       "    </tr>\n",
       "    <tr>\n",
       "      <th>4</th>\n",
       "      <td>5</td>\n",
       "      <td>0</td>\n",
       "      <td>3</td>\n",
       "      <td>Allen, Mr. William Henry</td>\n",
       "      <td>male</td>\n",
       "      <td>35.0</td>\n",
       "      <td>0</td>\n",
       "      <td>0</td>\n",
       "      <td>373450</td>\n",
       "      <td>8.0500</td>\n",
       "      <td>NaN</td>\n",
       "      <td>S</td>\n",
       "    </tr>\n",
       "  </tbody>\n",
       "</table>\n",
       "</div>"
      ],
      "text/plain": [
       "   PassengerId  Survived  Pclass  \\\n",
       "0            1         0       3   \n",
       "1            2         1       1   \n",
       "2            3         1       3   \n",
       "3            4         1       1   \n",
       "4            5         0       3   \n",
       "\n",
       "                                                Name     Sex   Age  SibSp  \\\n",
       "0                            Braund, Mr. Owen Harris    male  22.0      1   \n",
       "1  Cumings, Mrs. John Bradley (Florence Briggs Th...  female  38.0      1   \n",
       "2                             Heikkinen, Miss. Laina  female  26.0      0   \n",
       "3       Futrelle, Mrs. Jacques Heath (Lily May Peel)  female  35.0      1   \n",
       "4                           Allen, Mr. William Henry    male  35.0      0   \n",
       "\n",
       "   Parch            Ticket     Fare Cabin Embarked  \n",
       "0      0         A/5 21171   7.2500   NaN        S  \n",
       "1      0          PC 17599  71.2833   C85        C  \n",
       "2      0  STON/O2. 3101282   7.9250   NaN        S  \n",
       "3      0            113803  53.1000  C123        S  \n",
       "4      0            373450   8.0500   NaN        S  "
      ]
     },
     "execution_count": 170,
     "metadata": {},
     "output_type": "execute_result"
    }
   ],
   "source": [
    "train_data.head()"
   ]
  },
  {
   "cell_type": "code",
   "execution_count": 171,
   "metadata": {},
   "outputs": [
    {
     "data": {
      "text/html": [
       "<div>\n",
       "<style scoped>\n",
       "    .dataframe tbody tr th:only-of-type {\n",
       "        vertical-align: middle;\n",
       "    }\n",
       "\n",
       "    .dataframe tbody tr th {\n",
       "        vertical-align: top;\n",
       "    }\n",
       "\n",
       "    .dataframe thead th {\n",
       "        text-align: right;\n",
       "    }\n",
       "</style>\n",
       "<table border=\"1\" class=\"dataframe\">\n",
       "  <thead>\n",
       "    <tr style=\"text-align: right;\">\n",
       "      <th></th>\n",
       "      <th>PassengerId</th>\n",
       "      <th>Pclass</th>\n",
       "      <th>Name</th>\n",
       "      <th>Sex</th>\n",
       "      <th>Age</th>\n",
       "      <th>SibSp</th>\n",
       "      <th>Parch</th>\n",
       "      <th>Ticket</th>\n",
       "      <th>Fare</th>\n",
       "      <th>Cabin</th>\n",
       "      <th>Embarked</th>\n",
       "    </tr>\n",
       "  </thead>\n",
       "  <tbody>\n",
       "    <tr>\n",
       "      <th>0</th>\n",
       "      <td>892</td>\n",
       "      <td>3</td>\n",
       "      <td>Kelly, Mr. James</td>\n",
       "      <td>male</td>\n",
       "      <td>34.5</td>\n",
       "      <td>0</td>\n",
       "      <td>0</td>\n",
       "      <td>330911</td>\n",
       "      <td>7.8292</td>\n",
       "      <td>NaN</td>\n",
       "      <td>Q</td>\n",
       "    </tr>\n",
       "    <tr>\n",
       "      <th>1</th>\n",
       "      <td>893</td>\n",
       "      <td>3</td>\n",
       "      <td>Wilkes, Mrs. James (Ellen Needs)</td>\n",
       "      <td>female</td>\n",
       "      <td>47.0</td>\n",
       "      <td>1</td>\n",
       "      <td>0</td>\n",
       "      <td>363272</td>\n",
       "      <td>7.0000</td>\n",
       "      <td>NaN</td>\n",
       "      <td>S</td>\n",
       "    </tr>\n",
       "    <tr>\n",
       "      <th>2</th>\n",
       "      <td>894</td>\n",
       "      <td>2</td>\n",
       "      <td>Myles, Mr. Thomas Francis</td>\n",
       "      <td>male</td>\n",
       "      <td>62.0</td>\n",
       "      <td>0</td>\n",
       "      <td>0</td>\n",
       "      <td>240276</td>\n",
       "      <td>9.6875</td>\n",
       "      <td>NaN</td>\n",
       "      <td>Q</td>\n",
       "    </tr>\n",
       "    <tr>\n",
       "      <th>3</th>\n",
       "      <td>895</td>\n",
       "      <td>3</td>\n",
       "      <td>Wirz, Mr. Albert</td>\n",
       "      <td>male</td>\n",
       "      <td>27.0</td>\n",
       "      <td>0</td>\n",
       "      <td>0</td>\n",
       "      <td>315154</td>\n",
       "      <td>8.6625</td>\n",
       "      <td>NaN</td>\n",
       "      <td>S</td>\n",
       "    </tr>\n",
       "    <tr>\n",
       "      <th>4</th>\n",
       "      <td>896</td>\n",
       "      <td>3</td>\n",
       "      <td>Hirvonen, Mrs. Alexander (Helga E Lindqvist)</td>\n",
       "      <td>female</td>\n",
       "      <td>22.0</td>\n",
       "      <td>1</td>\n",
       "      <td>1</td>\n",
       "      <td>3101298</td>\n",
       "      <td>12.2875</td>\n",
       "      <td>NaN</td>\n",
       "      <td>S</td>\n",
       "    </tr>\n",
       "  </tbody>\n",
       "</table>\n",
       "</div>"
      ],
      "text/plain": [
       "   PassengerId  Pclass                                          Name     Sex  \\\n",
       "0          892       3                              Kelly, Mr. James    male   \n",
       "1          893       3              Wilkes, Mrs. James (Ellen Needs)  female   \n",
       "2          894       2                     Myles, Mr. Thomas Francis    male   \n",
       "3          895       3                              Wirz, Mr. Albert    male   \n",
       "4          896       3  Hirvonen, Mrs. Alexander (Helga E Lindqvist)  female   \n",
       "\n",
       "    Age  SibSp  Parch   Ticket     Fare Cabin Embarked  \n",
       "0  34.5      0      0   330911   7.8292   NaN        Q  \n",
       "1  47.0      1      0   363272   7.0000   NaN        S  \n",
       "2  62.0      0      0   240276   9.6875   NaN        Q  \n",
       "3  27.0      0      0   315154   8.6625   NaN        S  \n",
       "4  22.0      1      1  3101298  12.2875   NaN        S  "
      ]
     },
     "execution_count": 171,
     "metadata": {},
     "output_type": "execute_result"
    }
   ],
   "source": [
    "test_data.head()"
   ]
  },
  {
   "cell_type": "code",
   "execution_count": 172,
   "metadata": {},
   "outputs": [
    {
     "data": {
      "text/html": [
       "<div>\n",
       "<style scoped>\n",
       "    .dataframe tbody tr th:only-of-type {\n",
       "        vertical-align: middle;\n",
       "    }\n",
       "\n",
       "    .dataframe tbody tr th {\n",
       "        vertical-align: top;\n",
       "    }\n",
       "\n",
       "    .dataframe thead th {\n",
       "        text-align: right;\n",
       "    }\n",
       "</style>\n",
       "<table border=\"1\" class=\"dataframe\">\n",
       "  <thead>\n",
       "    <tr style=\"text-align: right;\">\n",
       "      <th></th>\n",
       "      <th>PassengerId</th>\n",
       "      <th>Survived</th>\n",
       "    </tr>\n",
       "  </thead>\n",
       "  <tbody>\n",
       "    <tr>\n",
       "      <th>0</th>\n",
       "      <td>892</td>\n",
       "      <td>0</td>\n",
       "    </tr>\n",
       "    <tr>\n",
       "      <th>1</th>\n",
       "      <td>893</td>\n",
       "      <td>0</td>\n",
       "    </tr>\n",
       "    <tr>\n",
       "      <th>2</th>\n",
       "      <td>894</td>\n",
       "      <td>0</td>\n",
       "    </tr>\n",
       "    <tr>\n",
       "      <th>3</th>\n",
       "      <td>895</td>\n",
       "      <td>0</td>\n",
       "    </tr>\n",
       "    <tr>\n",
       "      <th>4</th>\n",
       "      <td>896</td>\n",
       "      <td>0</td>\n",
       "    </tr>\n",
       "  </tbody>\n",
       "</table>\n",
       "</div>"
      ],
      "text/plain": [
       "   PassengerId  Survived\n",
       "0          892         0\n",
       "1          893         0\n",
       "2          894         0\n",
       "3          895         0\n",
       "4          896         0"
      ]
     },
     "execution_count": 172,
     "metadata": {},
     "output_type": "execute_result"
    }
   ],
   "source": [
    "submit_data.head()"
   ]
  },
  {
   "cell_type": "markdown",
   "metadata": {},
   "source": [
    "- survival - 생존유무, target 값. (0 = 사망, 1 = 생존)\n",
    "- pclass - 티켓 클래스. (1 = 1st, 2 = 2nd, 3 = 3rd)\n",
    "- sex - 성별\n",
    "- Age - 나이(세)\n",
    "- sibsp - 함께 탑승한 형제자매, 배우자 수 총합\n",
    "- parch - 함께 탑승한 부모, 자녀 수 총합\n",
    "- ticket - 티켓 넘버\n",
    "- fare - 탑승 요금\n",
    "- cabin - 객실 넘버\n",
    "- bembarked - 탑승 항구"
   ]
  },
  {
   "cell_type": "code",
   "execution_count": 173,
   "metadata": {},
   "outputs": [
    {
     "data": {
      "text/plain": [
       "PassengerId      int64\n",
       "Survived         int64\n",
       "Pclass           int64\n",
       "Name            object\n",
       "Sex             object\n",
       "Age            float64\n",
       "SibSp            int64\n",
       "Parch            int64\n",
       "Ticket          object\n",
       "Fare           float64\n",
       "Cabin           object\n",
       "Embarked        object\n",
       "dtype: object"
      ]
     },
     "execution_count": 173,
     "metadata": {},
     "output_type": "execute_result"
    }
   ],
   "source": [
    "train_data.dtypes"
   ]
  },
  {
   "cell_type": "code",
   "execution_count": 174,
   "metadata": {},
   "outputs": [
    {
     "data": {
      "text/html": [
       "<div>\n",
       "<style scoped>\n",
       "    .dataframe tbody tr th:only-of-type {\n",
       "        vertical-align: middle;\n",
       "    }\n",
       "\n",
       "    .dataframe tbody tr th {\n",
       "        vertical-align: top;\n",
       "    }\n",
       "\n",
       "    .dataframe thead th {\n",
       "        text-align: right;\n",
       "    }\n",
       "</style>\n",
       "<table border=\"1\" class=\"dataframe\">\n",
       "  <thead>\n",
       "    <tr style=\"text-align: right;\">\n",
       "      <th></th>\n",
       "      <th>PassengerId</th>\n",
       "      <th>Survived</th>\n",
       "      <th>Pclass</th>\n",
       "      <th>Age</th>\n",
       "      <th>SibSp</th>\n",
       "      <th>Parch</th>\n",
       "      <th>Fare</th>\n",
       "    </tr>\n",
       "  </thead>\n",
       "  <tbody>\n",
       "    <tr>\n",
       "      <th>count</th>\n",
       "      <td>891.000000</td>\n",
       "      <td>891.000000</td>\n",
       "      <td>891.000000</td>\n",
       "      <td>714.000000</td>\n",
       "      <td>891.000000</td>\n",
       "      <td>891.000000</td>\n",
       "      <td>891.000000</td>\n",
       "    </tr>\n",
       "    <tr>\n",
       "      <th>mean</th>\n",
       "      <td>446.000000</td>\n",
       "      <td>0.383838</td>\n",
       "      <td>2.308642</td>\n",
       "      <td>29.699118</td>\n",
       "      <td>0.523008</td>\n",
       "      <td>0.381594</td>\n",
       "      <td>32.204208</td>\n",
       "    </tr>\n",
       "    <tr>\n",
       "      <th>std</th>\n",
       "      <td>257.353842</td>\n",
       "      <td>0.486592</td>\n",
       "      <td>0.836071</td>\n",
       "      <td>14.526497</td>\n",
       "      <td>1.102743</td>\n",
       "      <td>0.806057</td>\n",
       "      <td>49.693429</td>\n",
       "    </tr>\n",
       "    <tr>\n",
       "      <th>min</th>\n",
       "      <td>1.000000</td>\n",
       "      <td>0.000000</td>\n",
       "      <td>1.000000</td>\n",
       "      <td>0.420000</td>\n",
       "      <td>0.000000</td>\n",
       "      <td>0.000000</td>\n",
       "      <td>0.000000</td>\n",
       "    </tr>\n",
       "    <tr>\n",
       "      <th>25%</th>\n",
       "      <td>223.500000</td>\n",
       "      <td>0.000000</td>\n",
       "      <td>2.000000</td>\n",
       "      <td>20.125000</td>\n",
       "      <td>0.000000</td>\n",
       "      <td>0.000000</td>\n",
       "      <td>7.910400</td>\n",
       "    </tr>\n",
       "    <tr>\n",
       "      <th>50%</th>\n",
       "      <td>446.000000</td>\n",
       "      <td>0.000000</td>\n",
       "      <td>3.000000</td>\n",
       "      <td>28.000000</td>\n",
       "      <td>0.000000</td>\n",
       "      <td>0.000000</td>\n",
       "      <td>14.454200</td>\n",
       "    </tr>\n",
       "    <tr>\n",
       "      <th>75%</th>\n",
       "      <td>668.500000</td>\n",
       "      <td>1.000000</td>\n",
       "      <td>3.000000</td>\n",
       "      <td>38.000000</td>\n",
       "      <td>1.000000</td>\n",
       "      <td>0.000000</td>\n",
       "      <td>31.000000</td>\n",
       "    </tr>\n",
       "    <tr>\n",
       "      <th>max</th>\n",
       "      <td>891.000000</td>\n",
       "      <td>1.000000</td>\n",
       "      <td>3.000000</td>\n",
       "      <td>80.000000</td>\n",
       "      <td>8.000000</td>\n",
       "      <td>6.000000</td>\n",
       "      <td>512.329200</td>\n",
       "    </tr>\n",
       "  </tbody>\n",
       "</table>\n",
       "</div>"
      ],
      "text/plain": [
       "       PassengerId    Survived      Pclass         Age       SibSp  \\\n",
       "count   891.000000  891.000000  891.000000  714.000000  891.000000   \n",
       "mean    446.000000    0.383838    2.308642   29.699118    0.523008   \n",
       "std     257.353842    0.486592    0.836071   14.526497    1.102743   \n",
       "min       1.000000    0.000000    1.000000    0.420000    0.000000   \n",
       "25%     223.500000    0.000000    2.000000   20.125000    0.000000   \n",
       "50%     446.000000    0.000000    3.000000   28.000000    0.000000   \n",
       "75%     668.500000    1.000000    3.000000   38.000000    1.000000   \n",
       "max     891.000000    1.000000    3.000000   80.000000    8.000000   \n",
       "\n",
       "            Parch        Fare  \n",
       "count  891.000000  891.000000  \n",
       "mean     0.381594   32.204208  \n",
       "std      0.806057   49.693429  \n",
       "min      0.000000    0.000000  \n",
       "25%      0.000000    7.910400  \n",
       "50%      0.000000   14.454200  \n",
       "75%      0.000000   31.000000  \n",
       "max      6.000000  512.329200  "
      ]
     },
     "execution_count": 174,
     "metadata": {},
     "output_type": "execute_result"
    }
   ],
   "source": [
    "train_data.describe()"
   ]
  },
  {
   "cell_type": "code",
   "execution_count": 175,
   "metadata": {},
   "outputs": [
    {
     "data": {
      "text/html": [
       "<div>\n",
       "<style scoped>\n",
       "    .dataframe tbody tr th:only-of-type {\n",
       "        vertical-align: middle;\n",
       "    }\n",
       "\n",
       "    .dataframe tbody tr th {\n",
       "        vertical-align: top;\n",
       "    }\n",
       "\n",
       "    .dataframe thead th {\n",
       "        text-align: right;\n",
       "    }\n",
       "</style>\n",
       "<table border=\"1\" class=\"dataframe\">\n",
       "  <thead>\n",
       "    <tr style=\"text-align: right;\">\n",
       "      <th></th>\n",
       "      <th>PassengerId</th>\n",
       "      <th>Pclass</th>\n",
       "      <th>Age</th>\n",
       "      <th>SibSp</th>\n",
       "      <th>Parch</th>\n",
       "      <th>Fare</th>\n",
       "    </tr>\n",
       "  </thead>\n",
       "  <tbody>\n",
       "    <tr>\n",
       "      <th>count</th>\n",
       "      <td>418.000000</td>\n",
       "      <td>418.000000</td>\n",
       "      <td>332.000000</td>\n",
       "      <td>418.000000</td>\n",
       "      <td>418.000000</td>\n",
       "      <td>417.000000</td>\n",
       "    </tr>\n",
       "    <tr>\n",
       "      <th>mean</th>\n",
       "      <td>1100.500000</td>\n",
       "      <td>2.265550</td>\n",
       "      <td>30.272590</td>\n",
       "      <td>0.447368</td>\n",
       "      <td>0.392344</td>\n",
       "      <td>35.627188</td>\n",
       "    </tr>\n",
       "    <tr>\n",
       "      <th>std</th>\n",
       "      <td>120.810458</td>\n",
       "      <td>0.841838</td>\n",
       "      <td>14.181209</td>\n",
       "      <td>0.896760</td>\n",
       "      <td>0.981429</td>\n",
       "      <td>55.907576</td>\n",
       "    </tr>\n",
       "    <tr>\n",
       "      <th>min</th>\n",
       "      <td>892.000000</td>\n",
       "      <td>1.000000</td>\n",
       "      <td>0.170000</td>\n",
       "      <td>0.000000</td>\n",
       "      <td>0.000000</td>\n",
       "      <td>0.000000</td>\n",
       "    </tr>\n",
       "    <tr>\n",
       "      <th>25%</th>\n",
       "      <td>996.250000</td>\n",
       "      <td>1.000000</td>\n",
       "      <td>21.000000</td>\n",
       "      <td>0.000000</td>\n",
       "      <td>0.000000</td>\n",
       "      <td>7.895800</td>\n",
       "    </tr>\n",
       "    <tr>\n",
       "      <th>50%</th>\n",
       "      <td>1100.500000</td>\n",
       "      <td>3.000000</td>\n",
       "      <td>27.000000</td>\n",
       "      <td>0.000000</td>\n",
       "      <td>0.000000</td>\n",
       "      <td>14.454200</td>\n",
       "    </tr>\n",
       "    <tr>\n",
       "      <th>75%</th>\n",
       "      <td>1204.750000</td>\n",
       "      <td>3.000000</td>\n",
       "      <td>39.000000</td>\n",
       "      <td>1.000000</td>\n",
       "      <td>0.000000</td>\n",
       "      <td>31.500000</td>\n",
       "    </tr>\n",
       "    <tr>\n",
       "      <th>max</th>\n",
       "      <td>1309.000000</td>\n",
       "      <td>3.000000</td>\n",
       "      <td>76.000000</td>\n",
       "      <td>8.000000</td>\n",
       "      <td>9.000000</td>\n",
       "      <td>512.329200</td>\n",
       "    </tr>\n",
       "  </tbody>\n",
       "</table>\n",
       "</div>"
      ],
      "text/plain": [
       "       PassengerId      Pclass         Age       SibSp       Parch        Fare\n",
       "count   418.000000  418.000000  332.000000  418.000000  418.000000  417.000000\n",
       "mean   1100.500000    2.265550   30.272590    0.447368    0.392344   35.627188\n",
       "std     120.810458    0.841838   14.181209    0.896760    0.981429   55.907576\n",
       "min     892.000000    1.000000    0.170000    0.000000    0.000000    0.000000\n",
       "25%     996.250000    1.000000   21.000000    0.000000    0.000000    7.895800\n",
       "50%    1100.500000    3.000000   27.000000    0.000000    0.000000   14.454200\n",
       "75%    1204.750000    3.000000   39.000000    1.000000    0.000000   31.500000\n",
       "max    1309.000000    3.000000   76.000000    8.000000    9.000000  512.329200"
      ]
     },
     "execution_count": 175,
     "metadata": {},
     "output_type": "execute_result"
    }
   ],
   "source": [
    "test_data.describe()"
   ]
  },
  {
   "cell_type": "markdown",
   "metadata": {},
   "source": [
    "## 결측치 확인(Null data)"
   ]
  },
  {
   "cell_type": "code",
   "execution_count": 176,
   "metadata": {},
   "outputs": [
    {
     "data": {
      "text/plain": [
       "PassengerId    0.000000\n",
       "Survived       0.000000\n",
       "Pclass         0.000000\n",
       "Name           0.000000\n",
       "Sex            0.000000\n",
       "Age            0.198653\n",
       "SibSp          0.000000\n",
       "Parch          0.000000\n",
       "Ticket         0.000000\n",
       "Fare           0.000000\n",
       "Cabin          0.771044\n",
       "Embarked       0.002245\n",
       "dtype: float64"
      ]
     },
     "execution_count": 176,
     "metadata": {},
     "output_type": "execute_result"
    }
   ],
   "source": [
    "train_data.isnull().sum() / train_data.shape[0]"
   ]
  },
  {
   "cell_type": "code",
   "execution_count": 177,
   "metadata": {},
   "outputs": [
    {
     "data": {
      "text/plain": [
       "PassengerId    0.000000\n",
       "Pclass         0.000000\n",
       "Name           0.000000\n",
       "Sex            0.000000\n",
       "Age            0.205742\n",
       "SibSp          0.000000\n",
       "Parch          0.000000\n",
       "Ticket         0.000000\n",
       "Fare           0.002392\n",
       "Cabin          0.782297\n",
       "Embarked       0.000000\n",
       "dtype: float64"
      ]
     },
     "execution_count": 177,
     "metadata": {},
     "output_type": "execute_result"
    }
   ],
   "source": [
    "test_data.isnull().sum() / test_data.shape[0]"
   ]
  },
  {
   "cell_type": "code",
   "execution_count": 178,
   "metadata": {},
   "outputs": [
    {
     "data": {
      "image/png": "[encoded data removed]",
      "text/plain": [
       "<Figure size 1296x576 with 2 Axes>"
      ]
     },
     "metadata": {
      "needs_background": "light"
     },
     "output_type": "display_data"
    }
   ],
   "source": [
    "f, ax = plt.subplots(1,2, figsize=(18,8))\n",
    "\n",
    "train_data['Survived'].value_counts().plot.pie(explode=[0,0.1],autopct='%1.1f%%', ax=ax[0], shadow=True)\n",
    "#explode : pieplot의 data값끼리 떨어져 있는 간격\n",
    "#autopct : pitplot의 data값 표현\n",
    "#ax : 어떤 그래프가 우선적으로 표시될지\n",
    "\n",
    "ax[0].set_title('Pie plot - Survived')\n",
    "ax[0].set_ylabel('')\n",
    "\n",
    "sns.countplot('Survived',data=train_data, ax=ax[1])\n",
    "ax[1].set_title('Count plot - Survived')\n",
    "ax[1].set_xlabel(\"\")\n",
    "\n",
    "plt.show()"
   ]
  },
  {
   "cell_type": "markdown",
   "metadata": {},
   "source": [
    "## Binary classification문제의  특징\n",
    " - 0과 1로 분류되는 문제의 경우, 불균일(99:1, 98:2 등)할때\n",
    " 모델이 모든것을 0을 해도 정확도가 99%로 나옵니다.\n",
    " 따라서 1을 찾는 문제라면 원하는 결과를 얻을 수 없다.\n",
    " \n",
    " 지금 문제에선 해당사항 없으니 그대로 진행"
   ]
  },
  {
   "cell_type": "markdown",
   "metadata": {},
   "source": [
    "# 탐색적 데이터 분석(EDA, Exploratory Data Analysis)"
   ]
  },
  {
   "cell_type": "markdown",
   "metadata": {},
   "source": [
    "- 데이터 내에서 정보를 얻기 위해선 적절한 시각화 필요.\n",
    "- 시각화 lib는 matplotlib, seaborn, plotly등이 존재."
   ]
  },
  {
   "cell_type": "markdown",
   "metadata": {},
   "source": [
    "## 2.1 Pcalss\n",
    "먼저 Pclass 에 대해서 살펴보겠습니다.\n",
    "\n",
    "- Pclass는 서수형 데이터입니다.\n",
    " 즉, 카테고리이면서 순서가 있는 데이터 타입입니다.\n",
    " 먼저 Pclass 에 따른 생존률의 차이를 살펴보겠습니다.\n",
    "- 엑셀의 피벗 차트와 유사한 작업을 하게 되는데,\n",
    " pandas dataframe 에서는 groupby 를 사용하면 쉽게 할 수 있습니다.\n",
    " 또한 pivot 이라는 메소드도 있습니다.\n",
    "- Pclass,Survived 를 가져온 후, pclass 로 묶습니다.\n",
    " 그러고 나면 각 pclass 마다 0, 1 이 count가 되는데,\n",
    " 이를 평균내면 각 pclass 별 생존률이 나옵니다\n",
    "- 아래와 같이 count() 를 하면, 각 class 에 몇명이 있는 지\n",
    " 확인할 수 있으며, sum() 을 하면, 216 명중 생존한(survived=1)\n",
    " 사람의 총합을 주게 됩니다"
   ]
  },
  {
   "cell_type": "code",
   "execution_count": 179,
   "metadata": {},
   "outputs": [
    {
     "data": {
      "text/html": [
       "<div>\n",
       "<style scoped>\n",
       "    .dataframe tbody tr th:only-of-type {\n",
       "        vertical-align: middle;\n",
       "    }\n",
       "\n",
       "    .dataframe tbody tr th {\n",
       "        vertical-align: top;\n",
       "    }\n",
       "\n",
       "    .dataframe thead th {\n",
       "        text-align: right;\n",
       "    }\n",
       "</style>\n",
       "<table border=\"1\" class=\"dataframe\">\n",
       "  <thead>\n",
       "    <tr style=\"text-align: right;\">\n",
       "      <th></th>\n",
       "      <th>Survived</th>\n",
       "    </tr>\n",
       "    <tr>\n",
       "      <th>Pclass</th>\n",
       "      <th></th>\n",
       "    </tr>\n",
       "  </thead>\n",
       "  <tbody>\n",
       "    <tr>\n",
       "      <th>1</th>\n",
       "      <td>216</td>\n",
       "    </tr>\n",
       "    <tr>\n",
       "      <th>2</th>\n",
       "      <td>184</td>\n",
       "    </tr>\n",
       "    <tr>\n",
       "      <th>3</th>\n",
       "      <td>491</td>\n",
       "    </tr>\n",
       "  </tbody>\n",
       "</table>\n",
       "</div>"
      ],
      "text/plain": [
       "        Survived\n",
       "Pclass          \n",
       "1            216\n",
       "2            184\n",
       "3            491"
      ]
     },
     "execution_count": 179,
     "metadata": {},
     "output_type": "execute_result"
    }
   ],
   "source": [
    "#  pclass 그룹 별 데이터 카운트\n",
    "train_data[['Pclass','Survived']].groupby(['Pclass'], as_index=True).count()"
   ]
  },
  {
   "cell_type": "code",
   "execution_count": 180,
   "metadata": {},
   "outputs": [],
   "source": [
    "# pclass 그룹 별 생존자 수 출력 (1 = 생존자)"
   ]
  },
  {
   "cell_type": "code",
   "execution_count": 181,
   "metadata": {},
   "outputs": [
    {
     "data": {
      "text/html": [
       "<div>\n",
       "<style scoped>\n",
       "    .dataframe tbody tr th:only-of-type {\n",
       "        vertical-align: middle;\n",
       "    }\n",
       "\n",
       "    .dataframe tbody tr th {\n",
       "        vertical-align: top;\n",
       "    }\n",
       "\n",
       "    .dataframe thead th {\n",
       "        text-align: right;\n",
       "    }\n",
       "</style>\n",
       "<table border=\"1\" class=\"dataframe\">\n",
       "  <thead>\n",
       "    <tr style=\"text-align: right;\">\n",
       "      <th></th>\n",
       "      <th>Survived</th>\n",
       "    </tr>\n",
       "    <tr>\n",
       "      <th>Pclass</th>\n",
       "      <th></th>\n",
       "    </tr>\n",
       "  </thead>\n",
       "  <tbody>\n",
       "    <tr>\n",
       "      <th>1</th>\n",
       "      <td>136</td>\n",
       "    </tr>\n",
       "    <tr>\n",
       "      <th>2</th>\n",
       "      <td>87</td>\n",
       "    </tr>\n",
       "    <tr>\n",
       "      <th>3</th>\n",
       "      <td>119</td>\n",
       "    </tr>\n",
       "  </tbody>\n",
       "</table>\n",
       "</div>"
      ],
      "text/plain": [
       "        Survived\n",
       "Pclass          \n",
       "1            136\n",
       "2             87\n",
       "3            119"
      ]
     },
     "execution_count": 181,
     "metadata": {},
     "output_type": "execute_result"
    }
   ],
   "source": [
    "train_data[['Pclass','Survived']].groupby(['Pclass'], as_index=True).sum()"
   ]
  },
  {
   "cell_type": "code",
   "execution_count": 182,
   "metadata": {},
   "outputs": [
    {
     "data": {
      "text/html": [
       "<div>\n",
       "<style scoped>\n",
       "    .dataframe tbody tr th:only-of-type {\n",
       "        vertical-align: middle;\n",
       "    }\n",
       "\n",
       "    .dataframe tbody tr th {\n",
       "        vertical-align: top;\n",
       "    }\n",
       "\n",
       "    .dataframe thead th {\n",
       "        text-align: right;\n",
       "    }\n",
       "</style>\n",
       "<table border=\"1\" class=\"dataframe\">\n",
       "  <thead>\n",
       "    <tr style=\"text-align: right;\">\n",
       "      <th>Survived</th>\n",
       "      <th>0</th>\n",
       "      <th>1</th>\n",
       "      <th>All</th>\n",
       "    </tr>\n",
       "    <tr>\n",
       "      <th>Pclass</th>\n",
       "      <th></th>\n",
       "      <th></th>\n",
       "      <th></th>\n",
       "    </tr>\n",
       "  </thead>\n",
       "  <tbody>\n",
       "    <tr>\n",
       "      <th>1</th>\n",
       "      <td>80</td>\n",
       "      <td>136</td>\n",
       "      <td>216</td>\n",
       "    </tr>\n",
       "    <tr>\n",
       "      <th>2</th>\n",
       "      <td>97</td>\n",
       "      <td>87</td>\n",
       "      <td>184</td>\n",
       "    </tr>\n",
       "    <tr>\n",
       "      <th>3</th>\n",
       "      <td>372</td>\n",
       "      <td>119</td>\n",
       "      <td>491</td>\n",
       "    </tr>\n",
       "    <tr>\n",
       "      <th>All</th>\n",
       "      <td>549</td>\n",
       "      <td>342</td>\n",
       "      <td>891</td>\n",
       "    </tr>\n",
       "  </tbody>\n",
       "</table>\n",
       "</div>"
      ],
      "text/plain": [
       "Survived    0    1  All\n",
       "Pclass                 \n",
       "1          80  136  216\n",
       "2          97   87  184\n",
       "3         372  119  491\n",
       "All       549  342  891"
      ]
     },
     "execution_count": 182,
     "metadata": {},
     "output_type": "execute_result"
    }
   ],
   "source": [
    "# 위와 같은 작업을 crosstab함수로 할수 있음\n",
    "pd.crosstab(train_data['Pclass'], train_data['Survived'], margins=True)"
   ]
  },
  {
   "cell_type": "code",
   "execution_count": 183,
   "metadata": {},
   "outputs": [
    {
     "data": {
      "text/html": [
       "<div>\n",
       "<style scoped>\n",
       "    .dataframe tbody tr th:only-of-type {\n",
       "        vertical-align: middle;\n",
       "    }\n",
       "\n",
       "    .dataframe tbody tr th {\n",
       "        vertical-align: top;\n",
       "    }\n",
       "\n",
       "    .dataframe thead th {\n",
       "        text-align: right;\n",
       "    }\n",
       "</style>\n",
       "<table border=\"1\" class=\"dataframe\">\n",
       "  <thead>\n",
       "    <tr style=\"text-align: right;\">\n",
       "      <th></th>\n",
       "      <th>Survived</th>\n",
       "    </tr>\n",
       "    <tr>\n",
       "      <th>Pclass</th>\n",
       "      <th></th>\n",
       "    </tr>\n",
       "  </thead>\n",
       "  <tbody>\n",
       "    <tr>\n",
       "      <th>1</th>\n",
       "      <td>0.629630</td>\n",
       "    </tr>\n",
       "    <tr>\n",
       "      <th>2</th>\n",
       "      <td>0.472826</td>\n",
       "    </tr>\n",
       "    <tr>\n",
       "      <th>3</th>\n",
       "      <td>0.242363</td>\n",
       "    </tr>\n",
       "  </tbody>\n",
       "</table>\n",
       "</div>"
      ],
      "text/plain": [
       "        Survived\n",
       "Pclass          \n",
       "1       0.629630\n",
       "2       0.472826\n",
       "3       0.242363"
      ]
     },
     "execution_count": 183,
     "metadata": {},
     "output_type": "execute_result"
    }
   ],
   "source": [
    "# mean함수 사용으로 생존률 구하기\n",
    "train_data[['Pclass','Survived']].groupby(['Pclass'], as_index = True).mean()"
   ]
  },
  {
   "cell_type": "code",
   "execution_count": 184,
   "metadata": {},
   "outputs": [
    {
     "data": {
      "text/plain": [
       "<matplotlib.axes._subplots.AxesSubplot at 0x140dc547088>"
      ]
     },
     "execution_count": 184,
     "metadata": {},
     "output_type": "execute_result"
    },
    {
     "data": {
      "image/png": "[encoded data removed]",
      "text/plain": [
       "<Figure size 432x288 with 1 Axes>"
      ]
     },
     "metadata": {
      "needs_background": "light"
     },
     "output_type": "display_data"
    }
   ],
   "source": [
    "# 위 값을 시각화\n",
    "train_data[['Pclass','Survived']].groupby(['Pclass'], as_index=True).mean().plot.bar()\n",
    "# as_index 가 True면 그룹 라벨이 index가 됨."
   ]
  },
  {
   "cell_type": "markdown",
   "metadata": {},
   "source": [
    "### 2.2 Sex"
   ]
  },
  {
   "cell_type": "code",
   "execution_count": 185,
   "metadata": {},
   "outputs": [
    {
     "data": {
      "image/png": "[encoded data removed]",
      "text/plain": [
       "<Figure size 1296x576 with 2 Axes>"
      ]
     },
     "metadata": {
      "needs_background": "light"
     },
     "output_type": "display_data"
    }
   ],
   "source": [
    "f, ax = plt.subplots(1,2,figsize=(18,8))\n",
    "\n",
    "train_data[['Sex','Survived']].groupby(['Sex'], as_index=True).mean().plot.bar(ax=ax[0])\n",
    "ax[0].set_title('Survived vs Sex')\n",
    "\n",
    "sns.countplot('Sex',hue='Survived',data=train_data,ax=ax[1])\n",
    "ax[1].set_title('Sex: Survived vs Dead')\n",
    "plt.show()"
   ]
  },
  {
   "cell_type": "markdown",
   "metadata": {},
   "source": [
    "### 2.3 Both Sex and Pclass"
   ]
  },
  {
   "cell_type": "code",
   "execution_count": 186,
   "metadata": {},
   "outputs": [
    {
     "data": {
      "text/plain": [
       "<seaborn.axisgrid.FacetGrid at 0x140dbe72048>"
      ]
     },
     "execution_count": 186,
     "metadata": {},
     "output_type": "execute_result"
    },
    {
     "data": {
      "image/png": "[encoded data removed]",
      "text/plain": [
       "<Figure size 829.375x432 with 1 Axes>"
      ]
     },
     "metadata": {
      "needs_background": "light"
     },
     "output_type": "display_data"
    }
   ],
   "source": [
    "sns.factorplot('Pclass','Survived', hue='Sex', data=train_data,size=6,aspect=1.5)"
   ]
  },
  {
   "cell_type": "markdown",
   "metadata": {},
   "source": [
    "### 2.4 Age"
   ]
  },
  {
   "cell_type": "code",
   "execution_count": 187,
   "metadata": {},
   "outputs": [
    {
     "name": "stdout",
     "output_type": "stream",
     "text": [
      "제일 나이 많은 탑승객 : 80.0 Years\n",
      "제일 어린 탑승객 : 80.0 Years\n",
      "탑성객  평균 나이 : 29.7 Years\n"
     ]
    }
   ],
   "source": [
    "print('제일 나이 많은 탑승객 : {:.1f} Years'.format(train_data['Age'].max()))\n",
    "print('제일 어린 탑승객 : {:.1f} Years'.format(train_data['Age'].max()))\n",
    "print('탑성객  평균 나이 : {:.1f} Years'.format(train_data['Age'].mean()))"
   ]
  },
  {
   "cell_type": "code",
   "execution_count": 188,
   "metadata": {},
   "outputs": [
    {
     "data": {
      "image/png": "[encoded data removed]",
      "text/plain": [
       "<Figure size 648x360 with 1 Axes>"
      ]
     },
     "metadata": {
      "needs_background": "light"
     },
     "output_type": "display_data"
    }
   ],
   "source": [
    "fig, ax = plt.subplots(1,1,figsize=(9,5))\n",
    "sns.kdeplot(train_data[train_data['Survived']==1]['Age'], shade = True,ax=ax)\n",
    "sns.kdeplot(train_data[train_data['Survived']==0]['Age'], shade = True,ax=ax)\n",
    "plt.legend(['Survived==1', 'Survived ==0'])\n",
    "plt.show()"
   ]
  },
  {
   "cell_type": "code",
   "execution_count": 189,
   "metadata": {},
   "outputs": [
    {
     "data": {
      "text/plain": [
       "<matplotlib.legend.Legend at 0x140dc8646c8>"
      ]
     },
     "execution_count": 189,
     "metadata": {},
     "output_type": "execute_result"
    },
    {
     "data": {
      "image/png": "[encoded data removed]",
      "text/plain": [
       "<Figure size 648x360 with 1 Axes>"
      ]
     },
     "metadata": {
      "needs_background": "light"
     },
     "output_type": "display_data"
    }
   ],
   "source": [
    "# Age distribution withing classes\n",
    "\n",
    "plt.figure(figsize=(9,5))\n",
    "train_data['Age'][train_data['Pclass']==1].plot(kind='kde')\n",
    "train_data['Age'][train_data['Pclass']==2].plot(kind='kde')\n",
    "train_data['Age'][train_data['Pclass']==3].plot(kind='kde')\n",
    "\n",
    "plt.xlabel('Age')\n",
    "plt.title('Age Distribution wition classes')\n",
    "plt.legend(['1stClass','2nd Class','3rd Class'])"
   ]
  },
  {
   "cell_type": "markdown",
   "metadata": {},
   "source": [
    "- class가 높아질 수록, 연령대 또한 높아진다.\n",
    "- 나이대가 높아질 수록 생존확률이 얼마나 달라지는가를 알고 싶어져\n",
    "- 누적 확률을 활용한 시각화를 해보았다."
   ]
  },
  {
   "cell_type": "code",
   "execution_count": 190,
   "metadata": {},
   "outputs": [
    {
     "data": {
      "image/png": "[encoded data removed]",
      "text/plain": [
       "<Figure size 504x504 with 1 Axes>"
      ]
     },
     "metadata": {
      "needs_background": "light"
     },
     "output_type": "display_data"
    }
   ],
   "source": [
    "cummulate_survival_ratio = []\n",
    "for i in range(1,80):\n",
    "    cummulate_survival_ratio.append(train_data[train_data['Age']<i]['Survived'].sum()/len(train_data[train_data['Age']<i]['Survived']))\n",
    "\n",
    "plt.figure(figsize=(7,7))\n",
    "plt.plot(cummulate_survival_ratio)\n",
    "plt.title('Sruvival rate change depending on range of Age', y=1.02)\n",
    "plt.ylabel('Survived rate')\n",
    "plt.xlabel('Range of Age(0~x)')\n",
    "plt.show()\n"
   ]
  },
  {
   "cell_type": "markdown",
   "metadata": {},
   "source": [
    "본 그래프에 따르면\n",
    "나이가 어릴수록 생존률이 확실히 높아지게 된다.\n",
    "이를 통해 나이 또한 중요한 feature가 된다.\n",
    "\n",
    "종합하자면,\n",
    "- 여자이거나\n",
    "- 나이가 어리거나\n",
    "- 클래스가 높을 수록\n",
    "생존확률이 높다."
   ]
  },
  {
   "cell_type": "markdown",
   "metadata": {},
   "source": [
    "### 2.5 Embarked"
   ]
  },
  {
   "cell_type": "markdown",
   "metadata": {},
   "source": [
    "Embared는 탑승 항구를 나타낸다."
   ]
  },
  {
   "cell_type": "code",
   "execution_count": 191,
   "metadata": {},
   "outputs": [
    {
     "data": {
      "text/plain": [
       "array(['S', 'C', 'Q', nan], dtype=object)"
      ]
     },
     "execution_count": 191,
     "metadata": {},
     "output_type": "execute_result"
    }
   ],
   "source": [
    "train_data['Embarked'].unique()"
   ]
  },
  {
   "cell_type": "code",
   "execution_count": 192,
   "metadata": {},
   "outputs": [
    {
     "data": {
      "text/plain": [
       "<matplotlib.axes._subplots.AxesSubplot at 0x140dc8c7c88>"
      ]
     },
     "execution_count": 192,
     "metadata": {},
     "output_type": "execute_result"
    },
    {
     "data": {
      "image/png": "[encoded data removed]",
      "text/plain": [
       "<Figure size 504x504 with 1 Axes>"
      ]
     },
     "metadata": {
      "needs_background": "light"
     },
     "output_type": "display_data"
    }
   ],
   "source": [
    "f, ax = plt.subplots(1,1,figsize=(7,7))\n",
    "train_data[['Embarked', 'Survived']].groupby(['Embarked'], as_index=True).mean().sort_values(by='Survived',ascending=False).plot.bar(ax=ax)\n",
    "# 여기서 왜 mean을 한거지?"
   ]
  },
  {
   "cell_type": "markdown",
   "metadata": {},
   "source": [
    "탑승 위치에 따라 생존률 차이는 없지만, 그래도 차이가 있으니 피쳐로 활용"
   ]
  },
  {
   "cell_type": "markdown",
   "metadata": {},
   "source": [
    "상관관계를 한번 분석해보자"
   ]
  },
  {
   "cell_type": "code",
   "execution_count": 193,
   "metadata": {},
   "outputs": [
    {
     "data": {
      "image/png": "[encoded data removed]",
      "text/plain": [
       "<Figure size 1440x1080 with 4 Axes>"
      ]
     },
     "metadata": {
      "needs_background": "light"
     },
     "output_type": "display_data"
    }
   ],
   "source": [
    "f, ax = plt.subplots(2,2, figsize=(20,15))\n",
    "\n",
    "sns.countplot('Embarked',data=train_data,ax=ax[0,0])\n",
    "ax[0,0].set_title('(1) No. Of Passengers Boarded')\n",
    "sns.countplot('Embarked',hue='Sex',data=train_data,ax=ax[0,1])\n",
    "ax[0,1].set_title('(2) Male-Female Split for Embarked')\n",
    "sns.countplot('Embarked',hue='Survived',data=train_data,ax=ax[1,0])\n",
    "ax[1,0].set_title('(3) Embarked vs Survived')\n",
    "sns.countplot('Embarked',hue='Pclass',data=train_data,ax=ax[1,1])\n",
    "ax[1,1].set_title('(4) Embarked vs Pclass')\n",
    "\n",
    "plt.subplots_adjust(wspace=0.2, hspace=0.5)\n",
    "plt.show()"
   ]
  },
  {
   "cell_type": "markdown",
   "metadata": {},
   "source": [
    "- Figure(1) - 전체적으로 S에서 가장 많은 사람이 탑승\n",
    "- Figure(2) - C와 Q는 남녀 비율이 비슷하고, S는 남자가 더 많음\n",
    "- Figure(3) - 생존확률이 S인 경우 많이 낮을 수 있음 (이전 그래프에서 확인)\n",
    "- Figure(4) - Class로 Split해보니 C가 생존확률이 높은건 클래스가 높은 사람이 많이 타서 그럼. S는 3rd Class가 많아서 생존확률이 낮음"
   ]
  },
  {
   "cell_type": "markdown",
   "metadata": {},
   "source": [
    "### 2.6 Family - SibSp(형제 자매) + Parch(부모, 자녀)\n",
    "Sibsp와 Parch를 합치면 함께 탑승한 가족의 수가 될 것\n",
    "이 두 feature를 합쳐 새로운 feature 'FamilySize'를 생성"
   ]
  },
  {
   "cell_type": "code",
   "execution_count": 194,
   "metadata": {},
   "outputs": [],
   "source": [
    "train_data['FamilySize'] = train_data['SibSp'] + train_data['Parch'] + 1\n",
    "#자신을 포함해야 하니 1을 더해야 함.\n",
    "test_data['FamilySize'] = test_data['SibSp'] + test_data['Parch'] + 1"
   ]
  },
  {
   "cell_type": "code",
   "execution_count": 195,
   "metadata": {},
   "outputs": [
    {
     "name": "stdout",
     "output_type": "stream",
     "text": [
      "Maximum size of Family :  11\n",
      "Minimum size of Family :  1\n"
     ]
    }
   ],
   "source": [
    "print('Maximum size of Family : ', train_data['FamilySize'].max())\n",
    "print('Minimum size of Family : ', train_data['FamilySize'].min())"
   ]
  },
  {
   "cell_type": "code",
   "execution_count": 196,
   "metadata": {},
   "outputs": [
    {
     "data": {
      "image/png": "[encoded data removed]",
      "text/plain": [
       "<Figure size 2880x720 with 3 Axes>"
      ]
     },
     "metadata": {
      "needs_background": "light"
     },
     "output_type": "display_data"
    }
   ],
   "source": [
    "f, ax = plt.subplots(1,3, figsize=(40,10))\n",
    "sns.countplot('FamilySize', data=train_data, ax = ax[0])\n",
    "ax[0].set_title('(1) No. Of Passengers Boarded', y=1.02)\n",
    "\n",
    "sns.countplot('FamilySize', hue='Survived',data=train_data, ax = ax[1])\n",
    "ax[1].set_title('(2) Survived countplot depending on FamilySize', y=1.02)\n",
    "\n",
    "train_data[['FamilySize', 'Survived']].groupby(['FamilySize'],as_index=True).mean().sort_values(by='Survived',ascending=False).plot.bar(ax=ax[2])\n",
    "ax[2].set_title('(3) Surveved rate depending on FamilySize', y=1.02)\n",
    "\n",
    "plt.subplots_adjust(wspace=0.2,hspace=0.5)\n",
    "plt.show()"
   ]
  },
  {
   "cell_type": "markdown",
   "metadata": {},
   "source": [
    "- Figure(1) - 가족크기가 1~11까지 있음을 볼 수 있다. 대부분 1명.\n",
    "- Figure(2), (3) - 가족 크기에 따른 생존자 수. 가족이 4명인 경우 가장 생존확률이 높음. 가족수가 많아질수록(>=5) 생존확률이 낮아짐. 가족수가 너무 작아도(1), 너무 커도 생존 확률이 작음. 3~4명 선이 가장 많다."
   ]
  },
  {
   "cell_type": "markdown",
   "metadata": {},
   "source": [
    "### 2.7 Fare"
   ]
  },
  {
   "cell_type": "markdown",
   "metadata": {},
   "source": [
    "해당 feature는 탑승 요금이다. 연속적인 데이터므로 histogram 그려보도록 하겠음"
   ]
  },
  {
   "cell_type": "code",
   "execution_count": 197,
   "metadata": {},
   "outputs": [
    {
     "data": {
      "image/png": "[encoded data removed]",
      "text/plain": [
       "<Figure size 576x576 with 1 Axes>"
      ]
     },
     "metadata": {
      "needs_background": "light"
     },
     "output_type": "display_data"
    }
   ],
   "source": [
    "fig, ax = plt.subplots(1,1,figsize=(8,8))\n",
    "g = sns.distplot(train_data['Fare'], color='r', label='Skewness : {:.2f}'.format(train_data['Fare'].skew()),ax=ax)\n",
    "g = g.legend(loc='best')"
   ]
  },
  {
   "cell_type": "code",
   "execution_count": 198,
   "metadata": {},
   "outputs": [],
   "source": [
    "#train_set 말고 test_set feature에 null값이 하나 있는 것을 확인\n",
    "#따라서, 평균 값으로 null값 보정\n",
    "\n",
    "test_data.loc[test_data.Fare.isnull(),'Fare'] = test_data['Fare'].mean()\n",
    "#testset 에 있는 nan value를 평균값으로 치환\n",
    "\n",
    "train_data['Fare'] = train_data['Fare'].map(lambda i:np.log(i) if i>0 else 0)\n",
    "test_data['Fare'] = test_data['Fare'].map(lambda i:np.log(i) if i>0 else 0)"
   ]
  },
  {
   "cell_type": "code",
   "execution_count": 199,
   "metadata": {},
   "outputs": [
    {
     "data": {
      "image/png": "[encoded data removed]",
      "text/plain": [
       "<Figure size 576x576 with 1 Axes>"
      ]
     },
     "metadata": {
      "needs_background": "light"
     },
     "output_type": "display_data"
    }
   ],
   "source": [
    "fig, ax = plt.subplots(1,1,figsize=(8,8))\n",
    "g = sns.distplot(train_data['Fare'], color = 'b', label = 'Skewness : {:.2f}'.format(train_data['Fare'].skew()), ax=ax)\n",
    "g = g.legend(loc='best')"
   ]
  },
  {
   "cell_type": "markdown",
   "metadata": {},
   "source": [
    "log를 취해서 비대칭성을 사라지게 함.\n",
    "이런 작업은 모델이 더 좋은 성능을 내도록 할 수 있음\n",
    "\n",
    "사실, 이런 작업은 feature engineering에 들어가는 부분인데, 예외적으로 여기서 작업.\n",
    "모델을 학습시키기 위해, 그리고 그 모델의 성능을 높이기 위해 feature들에 여러 조작을 가하거나 새로운 feature을 추가하는 것을 feature engineering이라고 하는데, 다음 챕터부터 그것을 살펴보도록 하자"
   ]
  },
  {
   "cell_type": "markdown",
   "metadata": {},
   "source": [
    "### 2.8 Cabin"
   ]
  },
  {
   "cell_type": "markdown",
   "metadata": {},
   "source": [
    "이 feature은 NaN이 대략 80%이므로, 생존에 미칠 정보들을 얻어내기 쉽지 않다. 그러므로 모델에 포함시키지 않도록 하겠다."
   ]
  },
  {
   "cell_type": "code",
   "execution_count": 200,
   "metadata": {},
   "outputs": [
    {
     "data": {
      "text/plain": [
       "0.7710437710437711"
      ]
     },
     "execution_count": 200,
     "metadata": {},
     "output_type": "execute_result"
    }
   ],
   "source": [
    "train_data['Cabin'].isnull().sum() / train_data.shape[0]"
   ]
  },
  {
   "cell_type": "code",
   "execution_count": 201,
   "metadata": {},
   "outputs": [
    {
     "data": {
      "text/plain": [
       "(891, 13)"
      ]
     },
     "execution_count": 201,
     "metadata": {},
     "output_type": "execute_result"
    }
   ],
   "source": [
    "train_data.shape"
   ]
  },
  {
   "cell_type": "code",
   "execution_count": 202,
   "metadata": {},
   "outputs": [
    {
     "data": {
      "text/html": [
       "<div>\n",
       "<style scoped>\n",
       "    .dataframe tbody tr th:only-of-type {\n",
       "        vertical-align: middle;\n",
       "    }\n",
       "\n",
       "    .dataframe tbody tr th {\n",
       "        vertical-align: top;\n",
       "    }\n",
       "\n",
       "    .dataframe thead th {\n",
       "        text-align: right;\n",
       "    }\n",
       "</style>\n",
       "<table border=\"1\" class=\"dataframe\">\n",
       "  <thead>\n",
       "    <tr style=\"text-align: right;\">\n",
       "      <th></th>\n",
       "      <th>PassengerId</th>\n",
       "      <th>Cabin</th>\n",
       "    </tr>\n",
       "  </thead>\n",
       "  <tbody>\n",
       "    <tr>\n",
       "      <th>0</th>\n",
       "      <td>1</td>\n",
       "      <td>NaN</td>\n",
       "    </tr>\n",
       "    <tr>\n",
       "      <th>1</th>\n",
       "      <td>2</td>\n",
       "      <td>C85</td>\n",
       "    </tr>\n",
       "    <tr>\n",
       "      <th>2</th>\n",
       "      <td>3</td>\n",
       "      <td>NaN</td>\n",
       "    </tr>\n",
       "    <tr>\n",
       "      <th>3</th>\n",
       "      <td>4</td>\n",
       "      <td>C123</td>\n",
       "    </tr>\n",
       "    <tr>\n",
       "      <th>4</th>\n",
       "      <td>5</td>\n",
       "      <td>NaN</td>\n",
       "    </tr>\n",
       "  </tbody>\n",
       "</table>\n",
       "</div>"
      ],
      "text/plain": [
       "   PassengerId Cabin\n",
       "0            1   NaN\n",
       "1            2   C85\n",
       "2            3   NaN\n",
       "3            4  C123\n",
       "4            5   NaN"
      ]
     },
     "execution_count": 202,
     "metadata": {},
     "output_type": "execute_result"
    }
   ],
   "source": [
    "train_data.head()[['PassengerId','Cabin']]"
   ]
  },
  {
   "cell_type": "markdown",
   "metadata": {},
   "source": [
    "### 2.9 Ticket"
   ]
  },
  {
   "cell_type": "markdown",
   "metadata": {},
   "source": [
    "이 feature는 NaN이 없습니다. 일단 String data이므로 우리가 어떤 작업을 해주어야 하는데, 이를 위해서는 아이디어가 필요하다."
   ]
  },
  {
   "cell_type": "code",
   "execution_count": 203,
   "metadata": {},
   "outputs": [
    {
     "data": {
      "text/plain": [
       "CA. 2343      7\n",
       "1601          7\n",
       "347082        7\n",
       "347088        6\n",
       "CA 2144       6\n",
       "             ..\n",
       "347060        1\n",
       "C 7076        1\n",
       "A/4. 39886    1\n",
       "PC 17595      1\n",
       "237671        1\n",
       "Name: Ticket, Length: 681, dtype: int64"
      ]
     },
     "execution_count": 203,
     "metadata": {},
     "output_type": "execute_result"
    }
   ],
   "source": [
    "train_data['Ticket'].value_counts()"
   ]
  },
  {
   "cell_type": "markdown",
   "metadata": {},
   "source": [
    "681개의 ticket number중에서\n",
    "어떤 특징을 이끌어내야 생존과 연결 시킬 수 있을까?\n",
    "한번 생각해보며 새로운 feature을 만들어 모델의 성능을 끌어올리는 것도\n",
    "재밌는 데이터 분석의 과정이라고 하는데\n",
    "잘 모르겠음"
   ]
  },
  {
   "cell_type": "markdown",
   "metadata": {},
   "source": [
    "# 3. 특성 공학(Feature Engineering)"
   ]
  },
  {
   "cell_type": "markdown",
   "metadata": {},
   "source": [
    "본격적인 feature enginnering\n",
    "= \"Garbage in, Garbage out\"\n",
    "\n",
    "특성 공학을 통해 다양 피쳐를 만드시고, 정제하실 텐데\n",
    "자기가 생각한 가정이 항상 타당한지 생각하시고 진행해 주시길 바랍니다!\n",
    "아무리 좋은 모델도, 안좋은 데이터가 들어오면 안좋은 결과로 나오기 마련이니까요.\n",
    "\n",
    "가장 먼저, dataset 에 존재하는 null data를 채우려고 합니다.\n",
    "아무 숫자로 채울 수는 없고, null data 를 포함하는 feature 의 statistics 를 참고하거나,\n",
    "다른 아이디어를 짜내어 채울 수 있습니다.\n",
    "\n",
    "null data 를 어떻게 채우느냐에 따라 모델의 성능이 좌지우지될 수 있기 때문에, 신경써줘야할 부분입니다.\n",
    "\n",
    "특히, Feature engineering 은 실제 모델의 학습에 쓰려고 하는 것이므로,\n",
    "train 뿐만 아니라 test 도 똑같이 적용해주어야 합니다. 잊지맙시다."
   ]
  },
  {
   "cell_type": "markdown",
   "metadata": {},
   "source": [
    "### 3.1 Fill Null"
   ]
  },
  {
   "cell_type": "markdown",
   "metadata": {},
   "source": [
    "#### 3.1.1 Fill Null in Age using title"
   ]
  },
  {
   "cell_type": "code",
   "execution_count": 204,
   "metadata": {},
   "outputs": [
    {
     "data": {
      "text/plain": [
       "177"
      ]
     },
     "execution_count": 204,
     "metadata": {},
     "output_type": "execute_result"
    }
   ],
   "source": [
    "train_data['Age'].isnull().sum()"
   ]
  },
  {
   "cell_type": "markdown",
   "metadata": {},
   "source": [
    "Age 에는 null data가 177개나 있습니다. 이를 채울 수 있는 여러 아이디어가 있을 것인데,\n",
    "여기서 우리는 title + statistics 를 사용해 보겠습니다.\n",
    "\n",
    "영어에서는 Miss, Mrr, Mrs 같은 title이 존재합니다.\n",
    "각 탑승객의 이름에는 꼭 이런 title 이 들어가게 되는데 이를 사용해보겠습니다.\n",
    "\n",
    "pandas series 에는 data 를 string 으로 바꿔주는 str method,\n",
    "거기에 정규표현식을 적용하게 해주는 extract method가 있습니다.\n",
    "이를 사용하여 title 을 쉽게 추출할 수 있습니다. title을 Initial column에 저장하겠습니다"
   ]
  },
  {
   "cell_type": "code",
   "execution_count": 205,
   "metadata": {},
   "outputs": [],
   "source": [
    "train_data['Initial']=train_data.Name.str.extract('([A-Za-z]+)\\.')\n",
    "#Lets extract the Salutations\n",
    "test_data['Initial']=test_data.Name.str.extract('([A-Za-z]+)\\.')\n",
    "#Lets extract the Salutations\n"
   ]
  },
  {
   "cell_type": "markdown",
   "metadata": {},
   "source": [
    "Data['label'].str.extract(pat, flag, expand)\n",
    "\n",
    "pat = 추줄할 조건\n",
    "\n",
    "flag =\n",
    "\n",
    "expand = defalut = True (True = 하나의 column단위로 출력, False는 하나의 라벨 단위로)"
   ]
  },
  {
   "cell_type": "code",
   "execution_count": 206,
   "metadata": {
    "scrolled": true
   },
   "outputs": [
    {
     "data": {
      "text/html": [
       "<div>\n",
       "<style scoped>\n",
       "    .dataframe tbody tr th:only-of-type {\n",
       "        vertical-align: middle;\n",
       "    }\n",
       "\n",
       "    .dataframe tbody tr th {\n",
       "        vertical-align: top;\n",
       "    }\n",
       "\n",
       "    .dataframe thead th {\n",
       "        text-align: right;\n",
       "    }\n",
       "</style>\n",
       "<table border=\"1\" class=\"dataframe\">\n",
       "  <thead>\n",
       "    <tr style=\"text-align: right;\">\n",
       "      <th></th>\n",
       "      <th>PassengerId</th>\n",
       "      <th>Survived</th>\n",
       "      <th>Pclass</th>\n",
       "      <th>Name</th>\n",
       "      <th>Sex</th>\n",
       "      <th>Age</th>\n",
       "      <th>SibSp</th>\n",
       "      <th>Parch</th>\n",
       "      <th>Ticket</th>\n",
       "      <th>Fare</th>\n",
       "      <th>Cabin</th>\n",
       "      <th>Embarked</th>\n",
       "      <th>FamilySize</th>\n",
       "      <th>Initial</th>\n",
       "    </tr>\n",
       "  </thead>\n",
       "  <tbody>\n",
       "    <tr>\n",
       "      <th>0</th>\n",
       "      <td>1</td>\n",
       "      <td>0</td>\n",
       "      <td>3</td>\n",
       "      <td>Braund, Mr. Owen Harris</td>\n",
       "      <td>male</td>\n",
       "      <td>22.0</td>\n",
       "      <td>1</td>\n",
       "      <td>0</td>\n",
       "      <td>A/5 21171</td>\n",
       "      <td>1.981001</td>\n",
       "      <td>NaN</td>\n",
       "      <td>S</td>\n",
       "      <td>2</td>\n",
       "      <td>Mr</td>\n",
       "    </tr>\n",
       "    <tr>\n",
       "      <th>1</th>\n",
       "      <td>2</td>\n",
       "      <td>1</td>\n",
       "      <td>1</td>\n",
       "      <td>Cumings, Mrs. John Bradley (Florence Briggs Th...</td>\n",
       "      <td>female</td>\n",
       "      <td>38.0</td>\n",
       "      <td>1</td>\n",
       "      <td>0</td>\n",
       "      <td>PC 17599</td>\n",
       "      <td>4.266662</td>\n",
       "      <td>C85</td>\n",
       "      <td>C</td>\n",
       "      <td>2</td>\n",
       "      <td>Mrs</td>\n",
       "    </tr>\n",
       "    <tr>\n",
       "      <th>2</th>\n",
       "      <td>3</td>\n",
       "      <td>1</td>\n",
       "      <td>3</td>\n",
       "      <td>Heikkinen, Miss. Laina</td>\n",
       "      <td>female</td>\n",
       "      <td>26.0</td>\n",
       "      <td>0</td>\n",
       "      <td>0</td>\n",
       "      <td>STON/O2. 3101282</td>\n",
       "      <td>2.070022</td>\n",
       "      <td>NaN</td>\n",
       "      <td>S</td>\n",
       "      <td>1</td>\n",
       "      <td>Miss</td>\n",
       "    </tr>\n",
       "    <tr>\n",
       "      <th>3</th>\n",
       "      <td>4</td>\n",
       "      <td>1</td>\n",
       "      <td>1</td>\n",
       "      <td>Futrelle, Mrs. Jacques Heath (Lily May Peel)</td>\n",
       "      <td>female</td>\n",
       "      <td>35.0</td>\n",
       "      <td>1</td>\n",
       "      <td>0</td>\n",
       "      <td>113803</td>\n",
       "      <td>3.972177</td>\n",
       "      <td>C123</td>\n",
       "      <td>S</td>\n",
       "      <td>2</td>\n",
       "      <td>Mrs</td>\n",
       "    </tr>\n",
       "    <tr>\n",
       "      <th>4</th>\n",
       "      <td>5</td>\n",
       "      <td>0</td>\n",
       "      <td>3</td>\n",
       "      <td>Allen, Mr. William Henry</td>\n",
       "      <td>male</td>\n",
       "      <td>35.0</td>\n",
       "      <td>0</td>\n",
       "      <td>0</td>\n",
       "      <td>373450</td>\n",
       "      <td>2.085672</td>\n",
       "      <td>NaN</td>\n",
       "      <td>S</td>\n",
       "      <td>1</td>\n",
       "      <td>Mr</td>\n",
       "    </tr>\n",
       "  </tbody>\n",
       "</table>\n",
       "</div>"
      ],
      "text/plain": [
       "   PassengerId  Survived  Pclass  \\\n",
       "0            1         0       3   \n",
       "1            2         1       1   \n",
       "2            3         1       3   \n",
       "3            4         1       1   \n",
       "4            5         0       3   \n",
       "\n",
       "                                                Name     Sex   Age  SibSp  \\\n",
       "0                            Braund, Mr. Owen Harris    male  22.0      1   \n",
       "1  Cumings, Mrs. John Bradley (Florence Briggs Th...  female  38.0      1   \n",
       "2                             Heikkinen, Miss. Laina  female  26.0      0   \n",
       "3       Futrelle, Mrs. Jacques Heath (Lily May Peel)  female  35.0      1   \n",
       "4                           Allen, Mr. William Henry    male  35.0      0   \n",
       "\n",
       "   Parch            Ticket      Fare Cabin Embarked  FamilySize Initial  \n",
       "0      0         A/5 21171  1.981001   NaN        S           2      Mr  \n",
       "1      0          PC 17599  4.266662   C85        C           2     Mrs  \n",
       "2      0  STON/O2. 3101282  2.070022   NaN        S           1    Miss  \n",
       "3      0            113803  3.972177  C123        S           2     Mrs  \n",
       "4      0            373450  2.085672   NaN        S           1      Mr  "
      ]
     },
     "execution_count": 206,
     "metadata": {},
     "output_type": "execute_result"
    }
   ],
   "source": [
    "train_data.head()"
   ]
  },
  {
   "cell_type": "markdown",
   "metadata": {},
   "source": [
    "pandas의 crosstab을 이용해 우리가 추출한 Initail과 Sex간의 count를 살펴봅시다.\n",
    "혹시 잘 못 이름이 적혀져 있거나 성병ㄹ을 잘 못 분류 했을 수도 있으니."
   ]
  },
  {
   "cell_type": "code",
   "execution_count": 207,
   "metadata": {},
   "outputs": [
    {
     "data": {
      "text/html": [
       "<style  type=\"text/css\" >\n",
       "    #T_d621de8a_0231_11eb_884f_c809a8cd784frow0_col0 {\n",
       "            background-color:  #ffff66;\n",
       "            color:  #000000;\n",
       "        }    #T_d621de8a_0231_11eb_884f_c809a8cd784frow0_col1 {\n",
       "            background-color:  #ffff66;\n",
       "            color:  #000000;\n",
       "        }    #T_d621de8a_0231_11eb_884f_c809a8cd784frow0_col2 {\n",
       "            background-color:  #008066;\n",
       "            color:  #f1f1f1;\n",
       "        }    #T_d621de8a_0231_11eb_884f_c809a8cd784frow0_col3 {\n",
       "            background-color:  #ffff66;\n",
       "            color:  #000000;\n",
       "        }    #T_d621de8a_0231_11eb_884f_c809a8cd784frow0_col4 {\n",
       "            background-color:  #ffff66;\n",
       "            color:  #000000;\n",
       "        }    #T_d621de8a_0231_11eb_884f_c809a8cd784frow0_col5 {\n",
       "            background-color:  #ffff66;\n",
       "            color:  #000000;\n",
       "        }    #T_d621de8a_0231_11eb_884f_c809a8cd784frow0_col6 {\n",
       "            background-color:  #008066;\n",
       "            color:  #f1f1f1;\n",
       "        }    #T_d621de8a_0231_11eb_884f_c809a8cd784frow0_col7 {\n",
       "            background-color:  #ffff66;\n",
       "            color:  #000000;\n",
       "        }    #T_d621de8a_0231_11eb_884f_c809a8cd784frow0_col8 {\n",
       "            background-color:  #ffff66;\n",
       "            color:  #000000;\n",
       "        }    #T_d621de8a_0231_11eb_884f_c809a8cd784frow0_col9 {\n",
       "            background-color:  #008066;\n",
       "            color:  #f1f1f1;\n",
       "        }    #T_d621de8a_0231_11eb_884f_c809a8cd784frow0_col10 {\n",
       "            background-color:  #008066;\n",
       "            color:  #f1f1f1;\n",
       "        }    #T_d621de8a_0231_11eb_884f_c809a8cd784frow0_col11 {\n",
       "            background-color:  #008066;\n",
       "            color:  #f1f1f1;\n",
       "        }    #T_d621de8a_0231_11eb_884f_c809a8cd784frow0_col12 {\n",
       "            background-color:  #ffff66;\n",
       "            color:  #000000;\n",
       "        }    #T_d621de8a_0231_11eb_884f_c809a8cd784frow0_col13 {\n",
       "            background-color:  #008066;\n",
       "            color:  #f1f1f1;\n",
       "        }    #T_d621de8a_0231_11eb_884f_c809a8cd784frow0_col14 {\n",
       "            background-color:  #008066;\n",
       "            color:  #f1f1f1;\n",
       "        }    #T_d621de8a_0231_11eb_884f_c809a8cd784frow0_col15 {\n",
       "            background-color:  #ffff66;\n",
       "            color:  #000000;\n",
       "        }    #T_d621de8a_0231_11eb_884f_c809a8cd784frow0_col16 {\n",
       "            background-color:  #ffff66;\n",
       "            color:  #000000;\n",
       "        }    #T_d621de8a_0231_11eb_884f_c809a8cd784frow1_col0 {\n",
       "            background-color:  #008066;\n",
       "            color:  #f1f1f1;\n",
       "        }    #T_d621de8a_0231_11eb_884f_c809a8cd784frow1_col1 {\n",
       "            background-color:  #008066;\n",
       "            color:  #f1f1f1;\n",
       "        }    #T_d621de8a_0231_11eb_884f_c809a8cd784frow1_col2 {\n",
       "            background-color:  #ffff66;\n",
       "            color:  #000000;\n",
       "        }    #T_d621de8a_0231_11eb_884f_c809a8cd784frow1_col3 {\n",
       "            background-color:  #008066;\n",
       "            color:  #f1f1f1;\n",
       "        }    #T_d621de8a_0231_11eb_884f_c809a8cd784frow1_col4 {\n",
       "            background-color:  #008066;\n",
       "            color:  #f1f1f1;\n",
       "        }    #T_d621de8a_0231_11eb_884f_c809a8cd784frow1_col5 {\n",
       "            background-color:  #008066;\n",
       "            color:  #f1f1f1;\n",
       "        }    #T_d621de8a_0231_11eb_884f_c809a8cd784frow1_col6 {\n",
       "            background-color:  #ffff66;\n",
       "            color:  #000000;\n",
       "        }    #T_d621de8a_0231_11eb_884f_c809a8cd784frow1_col7 {\n",
       "            background-color:  #008066;\n",
       "            color:  #f1f1f1;\n",
       "        }    #T_d621de8a_0231_11eb_884f_c809a8cd784frow1_col8 {\n",
       "            background-color:  #008066;\n",
       "            color:  #f1f1f1;\n",
       "        }    #T_d621de8a_0231_11eb_884f_c809a8cd784frow1_col9 {\n",
       "            background-color:  #ffff66;\n",
       "            color:  #000000;\n",
       "        }    #T_d621de8a_0231_11eb_884f_c809a8cd784frow1_col10 {\n",
       "            background-color:  #ffff66;\n",
       "            color:  #000000;\n",
       "        }    #T_d621de8a_0231_11eb_884f_c809a8cd784frow1_col11 {\n",
       "            background-color:  #ffff66;\n",
       "            color:  #000000;\n",
       "        }    #T_d621de8a_0231_11eb_884f_c809a8cd784frow1_col12 {\n",
       "            background-color:  #008066;\n",
       "            color:  #f1f1f1;\n",
       "        }    #T_d621de8a_0231_11eb_884f_c809a8cd784frow1_col13 {\n",
       "            background-color:  #ffff66;\n",
       "            color:  #000000;\n",
       "        }    #T_d621de8a_0231_11eb_884f_c809a8cd784frow1_col14 {\n",
       "            background-color:  #ffff66;\n",
       "            color:  #000000;\n",
       "        }    #T_d621de8a_0231_11eb_884f_c809a8cd784frow1_col15 {\n",
       "            background-color:  #008066;\n",
       "            color:  #f1f1f1;\n",
       "        }    #T_d621de8a_0231_11eb_884f_c809a8cd784frow1_col16 {\n",
       "            background-color:  #008066;\n",
       "            color:  #f1f1f1;\n",
       "        }</style><table id=\"T_d621de8a_0231_11eb_884f_c809a8cd784f\" ><thead>    <tr>        <th class=\"index_name level0\" >Initial</th>        <th class=\"col_heading level0 col0\" >Capt</th>        <th class=\"col_heading level0 col1\" >Col</th>        <th class=\"col_heading level0 col2\" >Countess</th>        <th class=\"col_heading level0 col3\" >Don</th>        <th class=\"col_heading level0 col4\" >Dr</th>        <th class=\"col_heading level0 col5\" >Jonkheer</th>        <th class=\"col_heading level0 col6\" >Lady</th>        <th class=\"col_heading level0 col7\" >Major</th>        <th class=\"col_heading level0 col8\" >Master</th>        <th class=\"col_heading level0 col9\" >Miss</th>        <th class=\"col_heading level0 col10\" >Mlle</th>        <th class=\"col_heading level0 col11\" >Mme</th>        <th class=\"col_heading level0 col12\" >Mr</th>        <th class=\"col_heading level0 col13\" >Mrs</th>        <th class=\"col_heading level0 col14\" >Ms</th>        <th class=\"col_heading level0 col15\" >Rev</th>        <th class=\"col_heading level0 col16\" >Sir</th>    </tr>    <tr>        <th class=\"index_name level0\" >Sex</th>        <th class=\"blank\" ></th>        <th class=\"blank\" ></th>        <th class=\"blank\" ></th>        <th class=\"blank\" ></th>        <th class=\"blank\" ></th>        <th class=\"blank\" ></th>        <th class=\"blank\" ></th>        <th class=\"blank\" ></th>        <th class=\"blank\" ></th>        <th class=\"blank\" ></th>        <th class=\"blank\" ></th>        <th class=\"blank\" ></th>        <th class=\"blank\" ></th>        <th class=\"blank\" ></th>        <th class=\"blank\" ></th>        <th class=\"blank\" ></th>        <th class=\"blank\" ></th>    </tr></thead><tbody>\n",
       "                <tr>\n",
       "                        <th id=\"T_d621de8a_0231_11eb_884f_c809a8cd784flevel0_row0\" class=\"row_heading level0 row0\" >female</th>\n",
       "                        <td id=\"T_d621de8a_0231_11eb_884f_c809a8cd784frow0_col0\" class=\"data row0 col0\" >0</td>\n",
       "                        <td id=\"T_d621de8a_0231_11eb_884f_c809a8cd784frow0_col1\" class=\"data row0 col1\" >0</td>\n",
       "                        <td id=\"T_d621de8a_0231_11eb_884f_c809a8cd784frow0_col2\" class=\"data row0 col2\" >1</td>\n",
       "                        <td id=\"T_d621de8a_0231_11eb_884f_c809a8cd784frow0_col3\" class=\"data row0 col3\" >0</td>\n",
       "                        <td id=\"T_d621de8a_0231_11eb_884f_c809a8cd784frow0_col4\" class=\"data row0 col4\" >1</td>\n",
       "                        <td id=\"T_d621de8a_0231_11eb_884f_c809a8cd784frow0_col5\" class=\"data row0 col5\" >0</td>\n",
       "                        <td id=\"T_d621de8a_0231_11eb_884f_c809a8cd784frow0_col6\" class=\"data row0 col6\" >1</td>\n",
       "                        <td id=\"T_d621de8a_0231_11eb_884f_c809a8cd784frow0_col7\" class=\"data row0 col7\" >0</td>\n",
       "                        <td id=\"T_d621de8a_0231_11eb_884f_c809a8cd784frow0_col8\" class=\"data row0 col8\" >0</td>\n",
       "                        <td id=\"T_d621de8a_0231_11eb_884f_c809a8cd784frow0_col9\" class=\"data row0 col9\" >182</td>\n",
       "                        <td id=\"T_d621de8a_0231_11eb_884f_c809a8cd784frow0_col10\" class=\"data row0 col10\" >2</td>\n",
       "                        <td id=\"T_d621de8a_0231_11eb_884f_c809a8cd784frow0_col11\" class=\"data row0 col11\" >1</td>\n",
       "                        <td id=\"T_d621de8a_0231_11eb_884f_c809a8cd784frow0_col12\" class=\"data row0 col12\" >0</td>\n",
       "                        <td id=\"T_d621de8a_0231_11eb_884f_c809a8cd784frow0_col13\" class=\"data row0 col13\" >125</td>\n",
       "                        <td id=\"T_d621de8a_0231_11eb_884f_c809a8cd784frow0_col14\" class=\"data row0 col14\" >1</td>\n",
       "                        <td id=\"T_d621de8a_0231_11eb_884f_c809a8cd784frow0_col15\" class=\"data row0 col15\" >0</td>\n",
       "                        <td id=\"T_d621de8a_0231_11eb_884f_c809a8cd784frow0_col16\" class=\"data row0 col16\" >0</td>\n",
       "            </tr>\n",
       "            <tr>\n",
       "                        <th id=\"T_d621de8a_0231_11eb_884f_c809a8cd784flevel0_row1\" class=\"row_heading level0 row1\" >male</th>\n",
       "                        <td id=\"T_d621de8a_0231_11eb_884f_c809a8cd784frow1_col0\" class=\"data row1 col0\" >1</td>\n",
       "                        <td id=\"T_d621de8a_0231_11eb_884f_c809a8cd784frow1_col1\" class=\"data row1 col1\" >2</td>\n",
       "                        <td id=\"T_d621de8a_0231_11eb_884f_c809a8cd784frow1_col2\" class=\"data row1 col2\" >0</td>\n",
       "                        <td id=\"T_d621de8a_0231_11eb_884f_c809a8cd784frow1_col3\" class=\"data row1 col3\" >1</td>\n",
       "                        <td id=\"T_d621de8a_0231_11eb_884f_c809a8cd784frow1_col4\" class=\"data row1 col4\" >6</td>\n",
       "                        <td id=\"T_d621de8a_0231_11eb_884f_c809a8cd784frow1_col5\" class=\"data row1 col5\" >1</td>\n",
       "                        <td id=\"T_d621de8a_0231_11eb_884f_c809a8cd784frow1_col6\" class=\"data row1 col6\" >0</td>\n",
       "                        <td id=\"T_d621de8a_0231_11eb_884f_c809a8cd784frow1_col7\" class=\"data row1 col7\" >2</td>\n",
       "                        <td id=\"T_d621de8a_0231_11eb_884f_c809a8cd784frow1_col8\" class=\"data row1 col8\" >40</td>\n",
       "                        <td id=\"T_d621de8a_0231_11eb_884f_c809a8cd784frow1_col9\" class=\"data row1 col9\" >0</td>\n",
       "                        <td id=\"T_d621de8a_0231_11eb_884f_c809a8cd784frow1_col10\" class=\"data row1 col10\" >0</td>\n",
       "                        <td id=\"T_d621de8a_0231_11eb_884f_c809a8cd784frow1_col11\" class=\"data row1 col11\" >0</td>\n",
       "                        <td id=\"T_d621de8a_0231_11eb_884f_c809a8cd784frow1_col12\" class=\"data row1 col12\" >517</td>\n",
       "                        <td id=\"T_d621de8a_0231_11eb_884f_c809a8cd784frow1_col13\" class=\"data row1 col13\" >0</td>\n",
       "                        <td id=\"T_d621de8a_0231_11eb_884f_c809a8cd784frow1_col14\" class=\"data row1 col14\" >0</td>\n",
       "                        <td id=\"T_d621de8a_0231_11eb_884f_c809a8cd784frow1_col15\" class=\"data row1 col15\" >6</td>\n",
       "                        <td id=\"T_d621de8a_0231_11eb_884f_c809a8cd784frow1_col16\" class=\"data row1 col16\" >1</td>\n",
       "            </tr>\n",
       "    </tbody></table>"
      ],
      "text/plain": [
       "<pandas.io.formats.style.Styler at 0x140dc8a2188>"
      ]
     },
     "execution_count": 207,
     "metadata": {},
     "output_type": "execute_result"
    }
   ],
   "source": [
    "pd.crosstab(train_data['Initial'], train_data['Sex']).T.style.background_gradient(cmap='summer_r')\n",
    "#Checking the Initials with the Sex"
   ]
  },
  {
   "cell_type": "code",
   "execution_count": 208,
   "metadata": {},
   "outputs": [],
   "source": [
    "train_data['Initial'].replace(['Mlle','Mme','Ms','Dr','Major','Lady','Countess','Jonkheer','Col','Rev','Capt','Sir','Don', 'Dona'],\n",
    "                        ['Miss','Miss','Miss','Mr','Mr','Mrs','Mrs','Other','Other','Other','Mr','Mr','Mr', 'Mr'],inplace=True)\n",
    "\n",
    "test_data['Initial'].replace(['Mlle','Mme','Ms','Dr','Major','Lady','Countess','Jonkheer','Col','Rev','Capt','Sir','Don', 'Dona'],\n",
    "                        ['Miss','Miss','Miss','Mr','Mr','Mrs','Mrs','Other','Other','Other','Mr','Mr','Mr', 'Mr'],inplace=True)"
   ]
  },
  {
   "cell_type": "code",
   "execution_count": 209,
   "metadata": {},
   "outputs": [
    {
     "data": {
      "text/html": [
       "<div>\n",
       "<style scoped>\n",
       "    .dataframe tbody tr th:only-of-type {\n",
       "        vertical-align: middle;\n",
       "    }\n",
       "\n",
       "    .dataframe tbody tr th {\n",
       "        vertical-align: top;\n",
       "    }\n",
       "\n",
       "    .dataframe thead th {\n",
       "        text-align: right;\n",
       "    }\n",
       "</style>\n",
       "<table border=\"1\" class=\"dataframe\">\n",
       "  <thead>\n",
       "    <tr style=\"text-align: right;\">\n",
       "      <th></th>\n",
       "      <th>PassengerId</th>\n",
       "      <th>Survived</th>\n",
       "      <th>Pclass</th>\n",
       "      <th>Age</th>\n",
       "      <th>SibSp</th>\n",
       "      <th>Parch</th>\n",
       "      <th>Fare</th>\n",
       "      <th>FamilySize</th>\n",
       "    </tr>\n",
       "    <tr>\n",
       "      <th>Initial</th>\n",
       "      <th></th>\n",
       "      <th></th>\n",
       "      <th></th>\n",
       "      <th></th>\n",
       "      <th></th>\n",
       "      <th></th>\n",
       "      <th></th>\n",
       "      <th></th>\n",
       "    </tr>\n",
       "  </thead>\n",
       "  <tbody>\n",
       "    <tr>\n",
       "      <th>Master</th>\n",
       "      <td>414.975000</td>\n",
       "      <td>0.575000</td>\n",
       "      <td>2.625000</td>\n",
       "      <td>4.574167</td>\n",
       "      <td>2.300000</td>\n",
       "      <td>1.375000</td>\n",
       "      <td>3.340710</td>\n",
       "      <td>4.675000</td>\n",
       "    </tr>\n",
       "    <tr>\n",
       "      <th>Miss</th>\n",
       "      <td>411.741935</td>\n",
       "      <td>0.704301</td>\n",
       "      <td>2.284946</td>\n",
       "      <td>21.860000</td>\n",
       "      <td>0.698925</td>\n",
       "      <td>0.537634</td>\n",
       "      <td>3.123713</td>\n",
       "      <td>2.236559</td>\n",
       "    </tr>\n",
       "    <tr>\n",
       "      <th>Mr</th>\n",
       "      <td>455.880907</td>\n",
       "      <td>0.162571</td>\n",
       "      <td>2.381853</td>\n",
       "      <td>32.739609</td>\n",
       "      <td>0.293006</td>\n",
       "      <td>0.151229</td>\n",
       "      <td>2.651507</td>\n",
       "      <td>1.444234</td>\n",
       "    </tr>\n",
       "    <tr>\n",
       "      <th>Mrs</th>\n",
       "      <td>456.393701</td>\n",
       "      <td>0.795276</td>\n",
       "      <td>1.984252</td>\n",
       "      <td>35.981818</td>\n",
       "      <td>0.692913</td>\n",
       "      <td>0.818898</td>\n",
       "      <td>3.443751</td>\n",
       "      <td>2.511811</td>\n",
       "    </tr>\n",
       "    <tr>\n",
       "      <th>Other</th>\n",
       "      <td>564.444444</td>\n",
       "      <td>0.111111</td>\n",
       "      <td>1.666667</td>\n",
       "      <td>45.888889</td>\n",
       "      <td>0.111111</td>\n",
       "      <td>0.111111</td>\n",
       "      <td>2.641605</td>\n",
       "      <td>1.222222</td>\n",
       "    </tr>\n",
       "  </tbody>\n",
       "</table>\n",
       "</div>"
      ],
      "text/plain": [
       "         PassengerId  Survived    Pclass        Age     SibSp     Parch  \\\n",
       "Initial                                                                   \n",
       "Master    414.975000  0.575000  2.625000   4.574167  2.300000  1.375000   \n",
       "Miss      411.741935  0.704301  2.284946  21.860000  0.698925  0.537634   \n",
       "Mr        455.880907  0.162571  2.381853  32.739609  0.293006  0.151229   \n",
       "Mrs       456.393701  0.795276  1.984252  35.981818  0.692913  0.818898   \n",
       "Other     564.444444  0.111111  1.666667  45.888889  0.111111  0.111111   \n",
       "\n",
       "             Fare  FamilySize  \n",
       "Initial                        \n",
       "Master   3.340710    4.675000  \n",
       "Miss     3.123713    2.236559  \n",
       "Mr       2.651507    1.444234  \n",
       "Mrs      3.443751    2.511811  \n",
       "Other    2.641605    1.222222  "
      ]
     },
     "execution_count": 209,
     "metadata": {},
     "output_type": "execute_result"
    }
   ],
   "source": [
    "train_data.groupby('Initial').mean()"
   ]
  },
  {
   "cell_type": "code",
   "execution_count": 210,
   "metadata": {},
   "outputs": [
    {
     "data": {
      "text/plain": [
       "<matplotlib.axes._subplots.AxesSubplot at 0x140dbbdd348>"
      ]
     },
     "execution_count": 210,
     "metadata": {},
     "output_type": "execute_result"
    },
    {
     "data": {
      "image/png": "[encoded data removed]",
      "text/plain": [
       "<Figure size 432x288 with 1 Axes>"
      ]
     },
     "metadata": {
      "needs_background": "light"
     },
     "output_type": "display_data"
    }
   ],
   "source": [
    "train_data.groupby('Initial')['Survived'].mean().plot.bar()"
   ]
  },
  {
   "cell_type": "markdown",
   "metadata": {},
   "source": [
    "이제 본격적으로 Null값을 채울 것이다.\n",
    "위 방법은 정말 많이 존재하는데, statistics를 활용하는 방법도 있고\n",
    "Null data가 없는 데이터를 기반으로 새로운 머신러닝 알고리즘을 만들어 예측하여 채워넣는 방법도 존재한다.\n",
    "(딥러닝에서 디노이징 오토인코더라는 것이 있다.)\n",
    "\n",
    "여기서는 statistics를 활용할 것이다.\n",
    "ststistics는 train data를 의미하는데\n",
    "우리는 언제나 test_data를 unseen 상태로 나둬야 하며\n",
    "train에서 얻은 데이터를 기반으로 testset의 null 값을 채워야 한다."
   ]
  },
  {
   "cell_type": "code",
   "execution_count": 211,
   "metadata": {},
   "outputs": [
    {
     "data": {
      "text/html": [
       "<div>\n",
       "<style scoped>\n",
       "    .dataframe tbody tr th:only-of-type {\n",
       "        vertical-align: middle;\n",
       "    }\n",
       "\n",
       "    .dataframe tbody tr th {\n",
       "        vertical-align: top;\n",
       "    }\n",
       "\n",
       "    .dataframe thead th {\n",
       "        text-align: right;\n",
       "    }\n",
       "</style>\n",
       "<table border=\"1\" class=\"dataframe\">\n",
       "  <thead>\n",
       "    <tr style=\"text-align: right;\">\n",
       "      <th></th>\n",
       "      <th>PassengerId</th>\n",
       "      <th>Survived</th>\n",
       "      <th>Pclass</th>\n",
       "      <th>Age</th>\n",
       "      <th>SibSp</th>\n",
       "      <th>Parch</th>\n",
       "      <th>Fare</th>\n",
       "      <th>FamilySize</th>\n",
       "    </tr>\n",
       "    <tr>\n",
       "      <th>Initial</th>\n",
       "      <th></th>\n",
       "      <th></th>\n",
       "      <th></th>\n",
       "      <th></th>\n",
       "      <th></th>\n",
       "      <th></th>\n",
       "      <th></th>\n",
       "      <th></th>\n",
       "    </tr>\n",
       "  </thead>\n",
       "  <tbody>\n",
       "    <tr>\n",
       "      <th>Master</th>\n",
       "      <td>414.975000</td>\n",
       "      <td>0.575000</td>\n",
       "      <td>2.625000</td>\n",
       "      <td>4.574167</td>\n",
       "      <td>2.300000</td>\n",
       "      <td>1.375000</td>\n",
       "      <td>3.340710</td>\n",
       "      <td>4.675000</td>\n",
       "    </tr>\n",
       "    <tr>\n",
       "      <th>Miss</th>\n",
       "      <td>411.741935</td>\n",
       "      <td>0.704301</td>\n",
       "      <td>2.284946</td>\n",
       "      <td>21.860000</td>\n",
       "      <td>0.698925</td>\n",
       "      <td>0.537634</td>\n",
       "      <td>3.123713</td>\n",
       "      <td>2.236559</td>\n",
       "    </tr>\n",
       "    <tr>\n",
       "      <th>Mr</th>\n",
       "      <td>455.880907</td>\n",
       "      <td>0.162571</td>\n",
       "      <td>2.381853</td>\n",
       "      <td>32.739609</td>\n",
       "      <td>0.293006</td>\n",
       "      <td>0.151229</td>\n",
       "      <td>2.651507</td>\n",
       "      <td>1.444234</td>\n",
       "    </tr>\n",
       "    <tr>\n",
       "      <th>Mrs</th>\n",
       "      <td>456.393701</td>\n",
       "      <td>0.795276</td>\n",
       "      <td>1.984252</td>\n",
       "      <td>35.981818</td>\n",
       "      <td>0.692913</td>\n",
       "      <td>0.818898</td>\n",
       "      <td>3.443751</td>\n",
       "      <td>2.511811</td>\n",
       "    </tr>\n",
       "    <tr>\n",
       "      <th>Other</th>\n",
       "      <td>564.444444</td>\n",
       "      <td>0.111111</td>\n",
       "      <td>1.666667</td>\n",
       "      <td>45.888889</td>\n",
       "      <td>0.111111</td>\n",
       "      <td>0.111111</td>\n",
       "      <td>2.641605</td>\n",
       "      <td>1.222222</td>\n",
       "    </tr>\n",
       "  </tbody>\n",
       "</table>\n",
       "</div>"
      ],
      "text/plain": [
       "         PassengerId  Survived    Pclass        Age     SibSp     Parch  \\\n",
       "Initial                                                                   \n",
       "Master    414.975000  0.575000  2.625000   4.574167  2.300000  1.375000   \n",
       "Miss      411.741935  0.704301  2.284946  21.860000  0.698925  0.537634   \n",
       "Mr        455.880907  0.162571  2.381853  32.739609  0.293006  0.151229   \n",
       "Mrs       456.393701  0.795276  1.984252  35.981818  0.692913  0.818898   \n",
       "Other     564.444444  0.111111  1.666667  45.888889  0.111111  0.111111   \n",
       "\n",
       "             Fare  FamilySize  \n",
       "Initial                        \n",
       "Master   3.340710    4.675000  \n",
       "Miss     3.123713    2.236559  \n",
       "Mr       2.651507    1.444234  \n",
       "Mrs      3.443751    2.511811  \n",
       "Other    2.641605    1.222222  "
      ]
     },
     "execution_count": 211,
     "metadata": {},
     "output_type": "execute_result"
    }
   ],
   "source": [
    "train_data.groupby('Initial').mean()"
   ]
  },
  {
   "cell_type": "markdown",
   "metadata": {},
   "source": [
    "각 Initial 그룹별 Age 평균 값을 사용해 채워 넣도록 하겠다.\n"
   ]
  },
  {
   "cell_type": "code",
   "execution_count": 212,
   "metadata": {},
   "outputs": [],
   "source": [
    "train_data.loc[(train_data.Age.isnull())&(train_data.Initial=='Mr'),'Age'] = 33\n",
    "train_data.loc[(train_data.Age.isnull())&(train_data.Initial=='Mrs'),'Age'] = 36\n",
    "train_data.loc[(train_data.Age.isnull())&(train_data.Initial=='Master'),'Age'] = 5\n",
    "train_data.loc[(train_data.Age.isnull())&(train_data.Initial=='Miss'),'Age'] = 22\n",
    "train_data.loc[(train_data.Age.isnull())&(train_data.Initial=='Other'),'Age'] = 46\n",
    "\n",
    "test_data.loc[(test_data.Age.isnull())&(test_data.Initial=='Mr'),'Age'] = 33\n",
    "test_data.loc[(test_data.Age.isnull())&(test_data.Initial=='Mrs'),'Age'] = 36\n",
    "test_data.loc[(test_data.Age.isnull())&(test_data.Initial=='Master'),'Age'] = 5\n",
    "test_data.loc[(test_data.Age.isnull())&(test_data.Initial=='Miss'),'Age'] = 22\n",
    "test_data.loc[(test_data.Age.isnull())&(test_data.Initial=='Other'),'Age'] = 46"
   ]
  },
  {
   "cell_type": "code",
   "execution_count": 213,
   "metadata": {},
   "outputs": [
    {
     "data": {
      "text/plain": [
       "Cabin       687\n",
       "Embarked      2\n",
       "dtype: int64"
      ]
     },
     "execution_count": 213,
     "metadata": {},
     "output_type": "execute_result"
    }
   ],
   "source": [
    "train_data.isnull().sum()[train_data.isnull().sum()>0]"
   ]
  },
  {
   "cell_type": "markdown",
   "metadata": {},
   "source": [
    "train&data set의 Age 널처리가 완전히 끝났다.\n"
   ]
  },
  {
   "cell_type": "markdown",
   "metadata": {},
   "source": [
    "### 3.1.2 Fill Null In Embarked"
   ]
  },
  {
   "cell_type": "code",
   "execution_count": 214,
   "metadata": {},
   "outputs": [
    {
     "name": "stdout",
     "output_type": "stream",
     "text": [
      "Embarked has  2 Null values\n"
     ]
    }
   ],
   "source": [
    "print('Embarked has ', sum(train_data['Embarked'].isnull()),'Null values')"
   ]
  },
  {
   "cell_type": "markdown",
   "metadata": {},
   "source": [
    "Embarked는 Null value가 2개이고, S에서 가장 많은 탑승객이 있었으므로\n",
    "단순하게 Null을 S로 채우도록 하겠다.\n",
    "\n",
    "dataframe의 fillna method를 이요하면 쉽게 채울 수 있다.\n",
    "여기서 inplace=True로 설정하면 train_data에 fillna를 실제로 적용하게 된다."
   ]
  },
  {
   "cell_type": "code",
   "execution_count": 215,
   "metadata": {},
   "outputs": [],
   "source": [
    "train_data['Embarked'].fillna('S',inplace=True)"
   ]
  },
  {
   "cell_type": "code",
   "execution_count": 216,
   "metadata": {},
   "outputs": [
    {
     "data": {
      "text/plain": [
       "Cabin    687\n",
       "dtype: int64"
      ]
     },
     "execution_count": 216,
     "metadata": {},
     "output_type": "execute_result"
    }
   ],
   "source": [
    "train_data.isnull().sum()[train_data.isnull().sum()>0]"
   ]
  },
  {
   "cell_type": "markdown",
   "metadata": {},
   "source": [
    "## 3.2 Change Age(countinuous to categorical)"
   ]
  },
  {
   "cell_type": "markdown",
   "metadata": {},
   "source": [
    "Age는 현재 continuous feature이다. 이대로 모델을 세울 수 있지만\n",
    "몇개의 group으로 나누오 category화 시켜줄 수 있다.\n",
    "\n",
    "continuous를 categorical로 바꾸면 information loss가 생길 수 있지만\n",
    "본 튜토리얼에서는 다양한 방법을 소개하는게 목적으로 진행하도록 하겠다.\n",
    "\n",
    "방법은 여러가지다.\n",
    "loc 함수를 사용할 수도 있고\n",
    "apply를 사용할 수도 있다.\n",
    "\n",
    "위의 예제에서 loc를 사용했기에\n",
    "여기선 apply를 사용하도록 하겠다."
   ]
  },
  {
   "cell_type": "code",
   "execution_count": 217,
   "metadata": {},
   "outputs": [],
   "source": [
    "def category_age(x):\n",
    "    if x<10:\n",
    "        return 0\n",
    "    elif x<20:\n",
    "        return 1\n",
    "    elif x<30:\n",
    "        return 2\n",
    "    elif x<40:\n",
    "        return 3\n",
    "    elif x<50:\n",
    "        return 4\n",
    "    elif x<60:\n",
    "        return 5\n",
    "    elif x<70:\n",
    "        return 6\n",
    "    else:\n",
    "        return 7\n",
    "\n",
    "train_data['Age_cat'] = train_data['Age'].apply(category_age)\n",
    "test_data['Age_cat'] = test_data['Age'].apply(category_age)"
   ]
  },
  {
   "cell_type": "code",
   "execution_count": 218,
   "metadata": {},
   "outputs": [
    {
     "data": {
      "text/plain": [
       "Age_cat\n",
       "0     66\n",
       "1    102\n",
       "2    256\n",
       "3    304\n",
       "4     89\n",
       "5     48\n",
       "6     19\n",
       "7      7\n",
       "Name: PassengerId, dtype: int64"
      ]
     },
     "execution_count": 218,
     "metadata": {},
     "output_type": "execute_result"
    }
   ],
   "source": [
    "train_data.groupby(['Age_cat'])['PassengerId'].count()"
   ]
  },
  {
   "cell_type": "markdown",
   "metadata": {},
   "source": [
    "## 3.3 Change Initial, Embarked and Sex (string to numerical)"
   ]
  },
  {
   "cell_type": "markdown",
   "metadata": {},
   "source": [
    "현재 Initial은 Mr, Mrs, Miss, Master, Other로 총 5개다.\n",
    "이런 카테고리로 표현되어있는 데이터를 모델로 Input에 넣을 때\n",
    "우리가 해야 할것은 컴퓨터가 인식할 수 있도록 수치화해야 한다.\n",
    "\n",
    "Map method를 사용해 간단히 정리해보자"
   ]
  },
  {
   "cell_type": "code",
   "execution_count": 219,
   "metadata": {},
   "outputs": [],
   "source": [
    "train_data['Initial']=train_data['Initial'].map({'Master':0, 'Miss':1,'Mr':2,'Mrs':3,'Other':4})\n",
    "test_data['Initial']=test_data['Initial'].map({'Master':0, 'Miss':1,'Mr':2,'Mrs':3,'Other':4})"
   ]
  },
  {
   "cell_type": "markdown",
   "metadata": {},
   "source": [
    "마찬가지로 Embarked와 Sex 피쳐도 string과 같은 과정을 거치도록 하겠다."
   ]
  },
  {
   "cell_type": "code",
   "execution_count": 220,
   "metadata": {},
   "outputs": [],
   "source": [
    "train_data['Embarked']=train_data['Embarked'].map({'C':0,'Q':1,'S':2})\n",
    "test_data['Embarked']=test_data['Embarked'].map({'C':0,'Q':1,'S':2})"
   ]
  },
  {
   "cell_type": "code",
   "execution_count": 221,
   "metadata": {},
   "outputs": [
    {
     "data": {
      "text/plain": [
       "(False, dtype('int64'))"
      ]
     },
     "execution_count": 221,
     "metadata": {},
     "output_type": "execute_result"
    }
   ],
   "source": [
    "train_data['Embarked'].isnull().any(), train_data['Embarked'].dtypes"
   ]
  },
  {
   "cell_type": "markdown",
   "metadata": {},
   "source": [
    "null값이 없고, int형으로 변환된것을 보아 변환이 잘 이루어진것을 확인"
   ]
  },
  {
   "cell_type": "code",
   "execution_count": 222,
   "metadata": {},
   "outputs": [],
   "source": [
    "train_data['Sex'] = train_data['Sex'].map({'female':0,'male':1})\n",
    "test_data['Sex'] = test_data['Sex'].map({'female':0,'male':1})"
   ]
  },
  {
   "cell_type": "markdown",
   "metadata": {},
   "source": [
    "이것으로 왠만한 데이터 처리를 완료했다.\n",
    "이제 각 feature간의 상관관계를 확인하고자 한다.\n",
    "두 변수간의 Pearson correlation을 구하면 (-1,1) 사이의 값을 얻을 수 있다."
   ]
  },
  {
   "cell_type": "code",
   "execution_count": 223,
   "metadata": {},
   "outputs": [
    {
     "data": {
      "image/png": "[encoded data removed]",
      "text/plain": [
       "<Figure size 1008x864 with 2 Axes>"
      ]
     },
     "metadata": {
      "needs_background": "light"
     },
     "output_type": "display_data"
    }
   ],
   "source": [
    "heatmap_data = train_data[['Survived', 'Pclass', 'Sex', 'Fare', 'Embarked', 'FamilySize', 'Initial', 'Age_cat', 'Age']] \n",
    "\n",
    "colormap = plt.cm.RdBu\n",
    "plt.figure(figsize=(14,12))\n",
    "plt.title('Pearson Correlationi of Feature', y=1.05, size = 15)\n",
    "sns.heatmap(heatmap_data.astype(float).corr(), linewidths=0.1, vmax=1.0,\n",
    "           square=True, cmap=colormap, linecolor='white', annot=True, annot_kws={\"size\": 16})\n",
    "del heatmap_data"
   ]
  },
  {
   "cell_type": "markdown",
   "metadata": {},
   "source": [
    "우리가 EDA(자료분석)에서 살펴봤듯이,\n",
    "Sex와 Pclass가 Survived에 상관관계가 어느정도 있음을 확인할 수 있었다.\n",
    "\n",
    "또한 생각보다 fare와 Embarked도 상관관계가 있음을 볼 수 있다.\n",
    "\n",
    "그러나 여기서 우리가 얻을 수 있는 정보는\n",
    "서로 강한 상관관계를 가지는 feature이 없다는 것이다...\n",
    "\n",
    "이것은 우리가 모델을 학습시킬 때, 불필요한 feature가 없다는 것을 의미한다.\n",
    "\n",
    "1 또는 -1의 상관관계를 가진 feature A,B로는 우리가 얻을 수 있는 정보가\n",
    "단 하나 뿐이니까.\n",
    "\n",
    "이제 데이터 전처리를 시작해 보겠다!"
   ]
  },
  {
   "cell_type": "markdown",
   "metadata": {},
   "source": [
    "## 3.4 One-hot encoding on Initial and Embarked\n",
    "\n",
    "수치화시킨 카테고리 데이터를 그대로 넣어도 되지만,\n",
    "모델의 성능을 향상시키기 위해 one-hot encoding을 해줄 수 있다.\n",
    "\n",
    "수치화는 간단히 Master==0, Miss ==1, Mr==2, Mrs==3, Other==4 로 매핑하는 것을 말한다.\n",
    "\n",
    "One-hot encoding은 위 카테고리를 아래와 같이 (0,1)로 이루어진 5차원의 벡터로 나타내는 것을 말한다.\n",
    "\n",
    "이렇게 하면, 각 클래스간 연관성을\n",
    "Orthogonal하게 만들 수 있다.\n",
    "그래서 각 클래스간에 상관 관계가 없어진다.\n",
    "\n",
    "위와 같은 것을 직접 코딩할 수 있으나\n",
    "pandas의 get_dummies를 사용해 쉽게 해결할 수 있다.\n",
    "총 5개의 category니, one-hot-encoding을 하고 나면 새로운 5개의 column이 생긴다.\n",
    "initial을 prefix로 두어서 구분이 쉽게 만들도록 하자."
   ]
  },
  {
   "cell_type": "code",
   "execution_count": 224,
   "metadata": {
    "scrolled": true
   },
   "outputs": [],
   "source": [
    "train_data= pd.get_dummies(train_data, columns=['Initial'], prefix='Initial')\n",
    "test_data = pd.get_dummies(test_data, columns=['Initial'], prefix='Initial')"
   ]
  },
  {
   "cell_type": "code",
   "execution_count": 225,
   "metadata": {},
   "outputs": [],
   "source": [
    "train_data = pd.get_dummies(train_data, columns=['Embarked'], prefix='Embarked')\n",
    "test_data = pd.get_dummies(test_data, columns=['Embarked'], prefix='Embarked')"
   ]
  },
  {
   "cell_type": "code",
   "execution_count": 226,
   "metadata": {},
   "outputs": [
    {
     "data": {
      "text/html": [
       "<div>\n",
       "<style scoped>\n",
       "    .dataframe tbody tr th:only-of-type {\n",
       "        vertical-align: middle;\n",
       "    }\n",
       "\n",
       "    .dataframe tbody tr th {\n",
       "        vertical-align: top;\n",
       "    }\n",
       "\n",
       "    .dataframe thead th {\n",
       "        text-align: right;\n",
       "    }\n",
       "</style>\n",
       "<table border=\"1\" class=\"dataframe\">\n",
       "  <thead>\n",
       "    <tr style=\"text-align: right;\">\n",
       "      <th></th>\n",
       "      <th>PassengerId</th>\n",
       "      <th>Survived</th>\n",
       "      <th>Pclass</th>\n",
       "      <th>Name</th>\n",
       "      <th>Sex</th>\n",
       "      <th>Age</th>\n",
       "      <th>SibSp</th>\n",
       "      <th>Parch</th>\n",
       "      <th>Ticket</th>\n",
       "      <th>Fare</th>\n",
       "      <th>...</th>\n",
       "      <th>FamilySize</th>\n",
       "      <th>Age_cat</th>\n",
       "      <th>Initial_0</th>\n",
       "      <th>Initial_1</th>\n",
       "      <th>Initial_2</th>\n",
       "      <th>Initial_3</th>\n",
       "      <th>Initial_4</th>\n",
       "      <th>Embarked_0</th>\n",
       "      <th>Embarked_1</th>\n",
       "      <th>Embarked_2</th>\n",
       "    </tr>\n",
       "  </thead>\n",
       "  <tbody>\n",
       "    <tr>\n",
       "      <th>0</th>\n",
       "      <td>1</td>\n",
       "      <td>0</td>\n",
       "      <td>3</td>\n",
       "      <td>Braund, Mr. Owen Harris</td>\n",
       "      <td>1</td>\n",
       "      <td>22.0</td>\n",
       "      <td>1</td>\n",
       "      <td>0</td>\n",
       "      <td>A/5 21171</td>\n",
       "      <td>1.981001</td>\n",
       "      <td>...</td>\n",
       "      <td>2</td>\n",
       "      <td>2</td>\n",
       "      <td>0</td>\n",
       "      <td>0</td>\n",
       "      <td>1</td>\n",
       "      <td>0</td>\n",
       "      <td>0</td>\n",
       "      <td>0</td>\n",
       "      <td>0</td>\n",
       "      <td>1</td>\n",
       "    </tr>\n",
       "    <tr>\n",
       "      <th>1</th>\n",
       "      <td>2</td>\n",
       "      <td>1</td>\n",
       "      <td>1</td>\n",
       "      <td>Cumings, Mrs. John Bradley (Florence Briggs Th...</td>\n",
       "      <td>0</td>\n",
       "      <td>38.0</td>\n",
       "      <td>1</td>\n",
       "      <td>0</td>\n",
       "      <td>PC 17599</td>\n",
       "      <td>4.266662</td>\n",
       "      <td>...</td>\n",
       "      <td>2</td>\n",
       "      <td>3</td>\n",
       "      <td>0</td>\n",
       "      <td>0</td>\n",
       "      <td>0</td>\n",
       "      <td>1</td>\n",
       "      <td>0</td>\n",
       "      <td>1</td>\n",
       "      <td>0</td>\n",
       "      <td>0</td>\n",
       "    </tr>\n",
       "    <tr>\n",
       "      <th>2</th>\n",
       "      <td>3</td>\n",
       "      <td>1</td>\n",
       "      <td>3</td>\n",
       "      <td>Heikkinen, Miss. Laina</td>\n",
       "      <td>0</td>\n",
       "      <td>26.0</td>\n",
       "      <td>0</td>\n",
       "      <td>0</td>\n",
       "      <td>STON/O2. 3101282</td>\n",
       "      <td>2.070022</td>\n",
       "      <td>...</td>\n",
       "      <td>1</td>\n",
       "      <td>2</td>\n",
       "      <td>0</td>\n",
       "      <td>1</td>\n",
       "      <td>0</td>\n",
       "      <td>0</td>\n",
       "      <td>0</td>\n",
       "      <td>0</td>\n",
       "      <td>0</td>\n",
       "      <td>1</td>\n",
       "    </tr>\n",
       "    <tr>\n",
       "      <th>3</th>\n",
       "      <td>4</td>\n",
       "      <td>1</td>\n",
       "      <td>1</td>\n",
       "      <td>Futrelle, Mrs. Jacques Heath (Lily May Peel)</td>\n",
       "      <td>0</td>\n",
       "      <td>35.0</td>\n",
       "      <td>1</td>\n",
       "      <td>0</td>\n",
       "      <td>113803</td>\n",
       "      <td>3.972177</td>\n",
       "      <td>...</td>\n",
       "      <td>2</td>\n",
       "      <td>3</td>\n",
       "      <td>0</td>\n",
       "      <td>0</td>\n",
       "      <td>0</td>\n",
       "      <td>1</td>\n",
       "      <td>0</td>\n",
       "      <td>0</td>\n",
       "      <td>0</td>\n",
       "      <td>1</td>\n",
       "    </tr>\n",
       "    <tr>\n",
       "      <th>4</th>\n",
       "      <td>5</td>\n",
       "      <td>0</td>\n",
       "      <td>3</td>\n",
       "      <td>Allen, Mr. William Henry</td>\n",
       "      <td>1</td>\n",
       "      <td>35.0</td>\n",
       "      <td>0</td>\n",
       "      <td>0</td>\n",
       "      <td>373450</td>\n",
       "      <td>2.085672</td>\n",
       "      <td>...</td>\n",
       "      <td>1</td>\n",
       "      <td>3</td>\n",
       "      <td>0</td>\n",
       "      <td>0</td>\n",
       "      <td>1</td>\n",
       "      <td>0</td>\n",
       "      <td>0</td>\n",
       "      <td>0</td>\n",
       "      <td>0</td>\n",
       "      <td>1</td>\n",
       "    </tr>\n",
       "  </tbody>\n",
       "</table>\n",
       "<p>5 rows × 21 columns</p>\n",
       "</div>"
      ],
      "text/plain": [
       "   PassengerId  Survived  Pclass  \\\n",
       "0            1         0       3   \n",
       "1            2         1       1   \n",
       "2            3         1       3   \n",
       "3            4         1       1   \n",
       "4            5         0       3   \n",
       "\n",
       "                                                Name  Sex   Age  SibSp  Parch  \\\n",
       "0                            Braund, Mr. Owen Harris    1  22.0      1      0   \n",
       "1  Cumings, Mrs. John Bradley (Florence Briggs Th...    0  38.0      1      0   \n",
       "2                             Heikkinen, Miss. Laina    0  26.0      0      0   \n",
       "3       Futrelle, Mrs. Jacques Heath (Lily May Peel)    0  35.0      1      0   \n",
       "4                           Allen, Mr. William Henry    1  35.0      0      0   \n",
       "\n",
       "             Ticket      Fare  ... FamilySize  Age_cat  Initial_0  Initial_1  \\\n",
       "0         A/5 21171  1.981001  ...          2        2          0          0   \n",
       "1          PC 17599  4.266662  ...          2        3          0          0   \n",
       "2  STON/O2. 3101282  2.070022  ...          1        2          0          1   \n",
       "3            113803  3.972177  ...          2        3          0          0   \n",
       "4            373450  2.085672  ...          1        3          0          0   \n",
       "\n",
       "   Initial_2  Initial_3  Initial_4  Embarked_0  Embarked_1  Embarked_2  \n",
       "0          1          0          0           0           0           1  \n",
       "1          0          1          0           1           0           0  \n",
       "2          0          0          0           0           0           1  \n",
       "3          0          1          0           0           0           1  \n",
       "4          1          0          0           0           0           1  \n",
       "\n",
       "[5 rows x 21 columns]"
      ]
     },
     "execution_count": 226,
     "metadata": {},
     "output_type": "execute_result"
    }
   ],
   "source": [
    "train_data.head()"
   ]
  },
  {
   "cell_type": "markdown",
   "metadata": {},
   "source": [
    "이렇게 one-hot encoding이 끝났다.\n",
    "다른 패키지로도 원핫 인코딩을 적용할 수 있으나, 여기선 다루지 않는다.\n",
    "\n",
    "Tips: 가끔 category가 100개가 넘어가는 경우가 생기는데, 이때 one-hot encoding을 사용하면\n",
    "columns이 100개가 생겨 학습시 매우 버거울 수 있다. (차원의 저주라고 표현)\n",
    "\n",
    "이런 경우, 다른 방법을 사용하기도 하는데, 이는 나중에 해결!"
   ]
  },
  {
   "cell_type": "markdown",
   "metadata": {},
   "source": [
    "## 3.5 Drop columns"
   ]
  },
  {
   "cell_type": "markdown",
   "metadata": {},
   "source": [
    "마지막으로, 필요없는 피쳐를 없애버릴 차례입니다."
   ]
  },
  {
   "cell_type": "code",
   "execution_count": 227,
   "metadata": {},
   "outputs": [],
   "source": [
    "train_data.drop(['PassengerId', 'Name', 'SibSp','Parch','Ticket','Cabin'], axis=1, inplace=True)\n",
    "test_data.drop(['PassengerId', 'Name', 'SibSp','Parch','Ticket','Cabin'], axis=1, inplace=True)"
   ]
  },
  {
   "cell_type": "code",
   "execution_count": 228,
   "metadata": {},
   "outputs": [
    {
     "data": {
      "text/html": [
       "<div>\n",
       "<style scoped>\n",
       "    .dataframe tbody tr th:only-of-type {\n",
       "        vertical-align: middle;\n",
       "    }\n",
       "\n",
       "    .dataframe tbody tr th {\n",
       "        vertical-align: top;\n",
       "    }\n",
       "\n",
       "    .dataframe thead th {\n",
       "        text-align: right;\n",
       "    }\n",
       "</style>\n",
       "<table border=\"1\" class=\"dataframe\">\n",
       "  <thead>\n",
       "    <tr style=\"text-align: right;\">\n",
       "      <th></th>\n",
       "      <th>Survived</th>\n",
       "      <th>Pclass</th>\n",
       "      <th>Sex</th>\n",
       "      <th>Age</th>\n",
       "      <th>Fare</th>\n",
       "      <th>FamilySize</th>\n",
       "      <th>Age_cat</th>\n",
       "      <th>Initial_0</th>\n",
       "      <th>Initial_1</th>\n",
       "      <th>Initial_2</th>\n",
       "      <th>Initial_3</th>\n",
       "      <th>Initial_4</th>\n",
       "      <th>Embarked_0</th>\n",
       "      <th>Embarked_1</th>\n",
       "      <th>Embarked_2</th>\n",
       "    </tr>\n",
       "  </thead>\n",
       "  <tbody>\n",
       "    <tr>\n",
       "      <th>0</th>\n",
       "      <td>0</td>\n",
       "      <td>3</td>\n",
       "      <td>1</td>\n",
       "      <td>22.0</td>\n",
       "      <td>1.981001</td>\n",
       "      <td>2</td>\n",
       "      <td>2</td>\n",
       "      <td>0</td>\n",
       "      <td>0</td>\n",
       "      <td>1</td>\n",
       "      <td>0</td>\n",
       "      <td>0</td>\n",
       "      <td>0</td>\n",
       "      <td>0</td>\n",
       "      <td>1</td>\n",
       "    </tr>\n",
       "    <tr>\n",
       "      <th>1</th>\n",
       "      <td>1</td>\n",
       "      <td>1</td>\n",
       "      <td>0</td>\n",
       "      <td>38.0</td>\n",
       "      <td>4.266662</td>\n",
       "      <td>2</td>\n",
       "      <td>3</td>\n",
       "      <td>0</td>\n",
       "      <td>0</td>\n",
       "      <td>0</td>\n",
       "      <td>1</td>\n",
       "      <td>0</td>\n",
       "      <td>1</td>\n",
       "      <td>0</td>\n",
       "      <td>0</td>\n",
       "    </tr>\n",
       "    <tr>\n",
       "      <th>2</th>\n",
       "      <td>1</td>\n",
       "      <td>3</td>\n",
       "      <td>0</td>\n",
       "      <td>26.0</td>\n",
       "      <td>2.070022</td>\n",
       "      <td>1</td>\n",
       "      <td>2</td>\n",
       "      <td>0</td>\n",
       "      <td>1</td>\n",
       "      <td>0</td>\n",
       "      <td>0</td>\n",
       "      <td>0</td>\n",
       "      <td>0</td>\n",
       "      <td>0</td>\n",
       "      <td>1</td>\n",
       "    </tr>\n",
       "    <tr>\n",
       "      <th>3</th>\n",
       "      <td>1</td>\n",
       "      <td>1</td>\n",
       "      <td>0</td>\n",
       "      <td>35.0</td>\n",
       "      <td>3.972177</td>\n",
       "      <td>2</td>\n",
       "      <td>3</td>\n",
       "      <td>0</td>\n",
       "      <td>0</td>\n",
       "      <td>0</td>\n",
       "      <td>1</td>\n",
       "      <td>0</td>\n",
       "      <td>0</td>\n",
       "      <td>0</td>\n",
       "      <td>1</td>\n",
       "    </tr>\n",
       "    <tr>\n",
       "      <th>4</th>\n",
       "      <td>0</td>\n",
       "      <td>3</td>\n",
       "      <td>1</td>\n",
       "      <td>35.0</td>\n",
       "      <td>2.085672</td>\n",
       "      <td>1</td>\n",
       "      <td>3</td>\n",
       "      <td>0</td>\n",
       "      <td>0</td>\n",
       "      <td>1</td>\n",
       "      <td>0</td>\n",
       "      <td>0</td>\n",
       "      <td>0</td>\n",
       "      <td>0</td>\n",
       "      <td>1</td>\n",
       "    </tr>\n",
       "  </tbody>\n",
       "</table>\n",
       "</div>"
      ],
      "text/plain": [
       "   Survived  Pclass  Sex   Age      Fare  FamilySize  Age_cat  Initial_0  \\\n",
       "0         0       3    1  22.0  1.981001           2        2          0   \n",
       "1         1       1    0  38.0  4.266662           2        3          0   \n",
       "2         1       3    0  26.0  2.070022           1        2          0   \n",
       "3         1       1    0  35.0  3.972177           2        3          0   \n",
       "4         0       3    1  35.0  2.085672           1        3          0   \n",
       "\n",
       "   Initial_1  Initial_2  Initial_3  Initial_4  Embarked_0  Embarked_1  \\\n",
       "0          0          1          0          0           0           0   \n",
       "1          0          0          1          0           1           0   \n",
       "2          1          0          0          0           0           0   \n",
       "3          0          0          1          0           0           0   \n",
       "4          0          1          0          0           0           0   \n",
       "\n",
       "   Embarked_2  \n",
       "0           1  \n",
       "1           0  \n",
       "2           1  \n",
       "3           1  \n",
       "4           1  "
      ]
     },
     "execution_count": 228,
     "metadata": {},
     "output_type": "execute_result"
    }
   ],
   "source": [
    "train_data.head()"
   ]
  },
  {
   "cell_type": "code",
   "execution_count": 229,
   "metadata": {},
   "outputs": [
    {
     "data": {
      "text/plain": [
       "Survived        int64\n",
       "Pclass          int64\n",
       "Sex             int64\n",
       "Age           float64\n",
       "Fare          float64\n",
       "FamilySize      int64\n",
       "Age_cat         int64\n",
       "Initial_0       uint8\n",
       "Initial_1       uint8\n",
       "Initial_2       uint8\n",
       "Initial_3       uint8\n",
       "Initial_4       uint8\n",
       "Embarked_0      uint8\n",
       "Embarked_1      uint8\n",
       "Embarked_2      uint8\n",
       "dtype: object"
      ]
     },
     "execution_count": 229,
     "metadata": {},
     "output_type": "execute_result"
    }
   ],
   "source": [
    "train_data.dtypes"
   ]
  },
  {
   "cell_type": "code",
   "execution_count": 230,
   "metadata": {},
   "outputs": [
    {
     "data": {
      "text/html": [
       "<div>\n",
       "<style scoped>\n",
       "    .dataframe tbody tr th:only-of-type {\n",
       "        vertical-align: middle;\n",
       "    }\n",
       "\n",
       "    .dataframe tbody tr th {\n",
       "        vertical-align: top;\n",
       "    }\n",
       "\n",
       "    .dataframe thead th {\n",
       "        text-align: right;\n",
       "    }\n",
       "</style>\n",
       "<table border=\"1\" class=\"dataframe\">\n",
       "  <thead>\n",
       "    <tr style=\"text-align: right;\">\n",
       "      <th></th>\n",
       "      <th>Pclass</th>\n",
       "      <th>Sex</th>\n",
       "      <th>Age</th>\n",
       "      <th>Fare</th>\n",
       "      <th>FamilySize</th>\n",
       "      <th>Age_cat</th>\n",
       "      <th>Initial_0</th>\n",
       "      <th>Initial_1</th>\n",
       "      <th>Initial_2</th>\n",
       "      <th>Initial_3</th>\n",
       "      <th>Initial_4</th>\n",
       "      <th>Embarked_0</th>\n",
       "      <th>Embarked_1</th>\n",
       "      <th>Embarked_2</th>\n",
       "    </tr>\n",
       "  </thead>\n",
       "  <tbody>\n",
       "    <tr>\n",
       "      <th>0</th>\n",
       "      <td>3</td>\n",
       "      <td>1</td>\n",
       "      <td>34.5</td>\n",
       "      <td>2.057860</td>\n",
       "      <td>1</td>\n",
       "      <td>3</td>\n",
       "      <td>0</td>\n",
       "      <td>0</td>\n",
       "      <td>1</td>\n",
       "      <td>0</td>\n",
       "      <td>0</td>\n",
       "      <td>0</td>\n",
       "      <td>1</td>\n",
       "      <td>0</td>\n",
       "    </tr>\n",
       "    <tr>\n",
       "      <th>1</th>\n",
       "      <td>3</td>\n",
       "      <td>0</td>\n",
       "      <td>47.0</td>\n",
       "      <td>1.945910</td>\n",
       "      <td>2</td>\n",
       "      <td>4</td>\n",
       "      <td>0</td>\n",
       "      <td>0</td>\n",
       "      <td>0</td>\n",
       "      <td>1</td>\n",
       "      <td>0</td>\n",
       "      <td>0</td>\n",
       "      <td>0</td>\n",
       "      <td>1</td>\n",
       "    </tr>\n",
       "    <tr>\n",
       "      <th>2</th>\n",
       "      <td>2</td>\n",
       "      <td>1</td>\n",
       "      <td>62.0</td>\n",
       "      <td>2.270836</td>\n",
       "      <td>1</td>\n",
       "      <td>6</td>\n",
       "      <td>0</td>\n",
       "      <td>0</td>\n",
       "      <td>1</td>\n",
       "      <td>0</td>\n",
       "      <td>0</td>\n",
       "      <td>0</td>\n",
       "      <td>1</td>\n",
       "      <td>0</td>\n",
       "    </tr>\n",
       "    <tr>\n",
       "      <th>3</th>\n",
       "      <td>3</td>\n",
       "      <td>1</td>\n",
       "      <td>27.0</td>\n",
       "      <td>2.159003</td>\n",
       "      <td>1</td>\n",
       "      <td>2</td>\n",
       "      <td>0</td>\n",
       "      <td>0</td>\n",
       "      <td>1</td>\n",
       "      <td>0</td>\n",
       "      <td>0</td>\n",
       "      <td>0</td>\n",
       "      <td>0</td>\n",
       "      <td>1</td>\n",
       "    </tr>\n",
       "    <tr>\n",
       "      <th>4</th>\n",
       "      <td>3</td>\n",
       "      <td>0</td>\n",
       "      <td>22.0</td>\n",
       "      <td>2.508582</td>\n",
       "      <td>3</td>\n",
       "      <td>2</td>\n",
       "      <td>0</td>\n",
       "      <td>0</td>\n",
       "      <td>0</td>\n",
       "      <td>1</td>\n",
       "      <td>0</td>\n",
       "      <td>0</td>\n",
       "      <td>0</td>\n",
       "      <td>1</td>\n",
       "    </tr>\n",
       "  </tbody>\n",
       "</table>\n",
       "</div>"
      ],
      "text/plain": [
       "   Pclass  Sex   Age      Fare  FamilySize  Age_cat  Initial_0  Initial_1  \\\n",
       "0       3    1  34.5  2.057860           1        3          0          0   \n",
       "1       3    0  47.0  1.945910           2        4          0          0   \n",
       "2       2    1  62.0  2.270836           1        6          0          0   \n",
       "3       3    1  27.0  2.159003           1        2          0          0   \n",
       "4       3    0  22.0  2.508582           3        2          0          0   \n",
       "\n",
       "   Initial_2  Initial_3  Initial_4  Embarked_0  Embarked_1  Embarked_2  \n",
       "0          1          0          0           0           1           0  \n",
       "1          0          1          0           0           0           1  \n",
       "2          1          0          0           0           1           0  \n",
       "3          1          0          0           0           0           1  \n",
       "4          0          1          0           0           0           1  "
      ]
     },
     "execution_count": 230,
     "metadata": {},
     "output_type": "execute_result"
    }
   ],
   "source": [
    "test_data.head()"
   ]
  },
  {
   "cell_type": "code",
   "execution_count": 231,
   "metadata": {},
   "outputs": [
    {
     "data": {
      "text/plain": [
       "Pclass          int64\n",
       "Sex             int64\n",
       "Age           float64\n",
       "Fare          float64\n",
       "FamilySize      int64\n",
       "Age_cat         int64\n",
       "Initial_0       uint8\n",
       "Initial_1       uint8\n",
       "Initial_2       uint8\n",
       "Initial_3       uint8\n",
       "Initial_4       uint8\n",
       "Embarked_0      uint8\n",
       "Embarked_1      uint8\n",
       "Embarked_2      uint8\n",
       "dtype: object"
      ]
     },
     "execution_count": 231,
     "metadata": {},
     "output_type": "execute_result"
    }
   ],
   "source": [
    "test_data.dtypes"
   ]
  },
  {
   "cell_type": "markdown",
   "metadata": {},
   "source": [
    "보시다시피, train의 Survived feature(target class)를 빼면\n",
    "train, test 둘 다 같은 columns임을 알 수 있다."
   ]
  },
  {
   "cell_type": "markdown",
   "metadata": {},
   "source": [
    "# 4. 모델 개발 및 학습\n",
    "\n",
    "드디어 모델 개발을 시작한다. 젲일 재밋는거\n",
    "\n",
    "Sklearn은 머신러닝의 처음과 끝이 다 있다.\n",
    "feature engineering, preprocessing, 지도학습 알고리즘, 비지도 학습 알고리즘, 모델 평가, 파이프라인 등등.. 모든 관련 작업이 손쉬운 인터페이스로 구현되어있음.\n",
    "데이터 분석 + 머신러닝을 위해서 이 lib는 반드시 숙지해야 함\n",
    "- Book\n",
    " - 파이썬 라이브러리를 활용한 머신러닝\n",
    " - 핸즈온 머신러닝\n",
    " \n",
    " 지금 타이타닉 문제는 target class(Survived)가 있으며, target class는 0, 1로 이루어져 있으니 binary classfication 문제다.\n",
    " \n",
    " 우리가 지금 가지고 있는 train_data의 survivied를 제외한 input을 통해 모델을 최적화시킨 후 각 샘플(탑승객)의 생존유무를 판단하는 모델을 만들어내야 한다.\n",
    " 그 후 모델이 학습하지 않았떤 testset을 input으로 주어서 각 샘플의 생존 유무를 예측해야 한다.\n",
    " "
   ]
  },
  {
   "cell_type": "code",
   "execution_count": 232,
   "metadata": {},
   "outputs": [],
   "source": [
    "#importin all the required ML packages\n",
    "\n",
    "from sklearn.ensemble import RandomForestClassifier\n",
    "#유명한 randomforestclassfier이다.\n",
    "\n",
    "from sklearn import metrics\n",
    "#모델의 평가를 위해\n",
    "\n",
    "from sklearn.model_selection import train_test_split\n",
    "#training set을 쉽게 나눠주는 함수"
   ]
  },
  {
   "cell_type": "markdown",
   "metadata": {},
   "source": [
    "## 4.1 Prepareation - Split dataset into train, valid(dev), test set"
   ]
  },
  {
   "cell_type": "markdown",
   "metadata": {},
   "source": [
    "가장 먼저, 학습에 쓰일 데이터와 target label(Survived)를 분리한다.\n",
    "'drop'을 사용해 간단히 할 수있다."
   ]
  },
  {
   "cell_type": "code",
   "execution_count": 233,
   "metadata": {},
   "outputs": [],
   "source": [
    "X_train = train_data.drop('Survived', axis=1).values\n",
    "target_label = train_data['Survived'].values\n",
    "X_test=test_data.values"
   ]
  },
  {
   "cell_type": "code",
   "execution_count": 234,
   "metadata": {},
   "outputs": [
    {
     "data": {
      "text/plain": [
       "((891, 14), (418, 14))"
      ]
     },
     "execution_count": 234,
     "metadata": {},
     "output_type": "execute_result"
    }
   ],
   "source": [
    "X_train.shape, X_test.shape"
   ]
  },
  {
   "cell_type": "markdown",
   "metadata": {},
   "source": [
    "보통 train, test만 언급된지만\n",
    "실제 좋은 모델을 위해서는 valid(dev) set으로 따로 모델 평가를 한다.\n",
    "\n",
    "수능으로 비유하자만\n",
    "공부(train)를 하고 바로 수능(test)을 치는 것이 아니라,\n",
    "공부(train)을 한 다음 모의고사(valid)를 거쳐 개인 학습정도를 확인하고\n",
    "수능(test)을 치는 것과 비슷합니다.\n",
    "\n",
    "train_test_split을 사용해 쉽게 train셋에서 train과 validation을 분리할 수 있음\n",
    "\n",
    "- More?\n",
    " Overfitting 이슈를 공부해보면 왜 validation을 나누는지 이해할 수 잇음"
   ]
  },
  {
   "cell_type": "code",
   "execution_count": 235,
   "metadata": {},
   "outputs": [],
   "source": [
    "X_tr, X_vld, y_tr, y_vld = train_test_split(X_train, target_label, test_size=0.2,random_state=2018)"
   ]
  },
  {
   "cell_type": "code",
   "execution_count": 236,
   "metadata": {},
   "outputs": [
    {
     "data": {
      "text/plain": [
       "((712,), (179,))"
      ]
     },
     "execution_count": 236,
     "metadata": {},
     "output_type": "execute_result"
    }
   ],
   "source": [
    "y_tr.shape, y_vld.shape"
   ]
  },
  {
   "cell_type": "markdown",
   "metadata": {},
   "source": [
    "sklearn 에서는 여러 머신러닝 알고리즘을 지원해줍니다.\n",
    "열거하기엔 너무 많으므로, 직접 documentation에 들어가 보시길 추천합니다.\n",
    "http://scikit-learn.org/stable/supervised_learning.html#supervised-learning\n",
    "여기에 들어가시면 지원되는 알고리즘 수에 놀라실 겁니다.\n",
    "\n",
    "본 튜토리얼에서는 랜덤포레스트 모델을 사용하도록 하겠습니다.\n",
    "\n",
    "랜덤포레스트는 결정트리기반 모델이며, 여러 결정 트리들을 앙상블한 모델입니다.\n",
    "더 자세한 설명을 추천해드린 책이나 각종 블로그에 설명이 잘 되어있으니 찾아보시길 바랍니다!\n",
    "\n",
    "각 머신러닝 알고리즘에는 여러 파라미터들이 있습니다.\n",
    "랜덤포레스트분류기도 n_estimators, max_features, max_depth, min_samples_split, min_samples_leaf 등 여러 파라미터들이 존재합니다.\n",
    "이것들이 어떻게 세팅되냐에 따라 같은 데이터셋이라 하더라도 모델의 성능이 달라집니다.\n",
    "\n",
    "파라미터 튜닝은 시간, 경험, 알고리즘에 대한 이해 등이 필요합니다.\n",
    "결국 많이 써봐야 모델도 잘 세울 수 있는 것이죠. 그래서 캐글을 추천합니다.\n",
    "여러 데이터셋을 가지고 모델을 이리저리 써봐야 튜닝하는 감이 생길테니까요!\n",
    "\n",
    "일단 지금은 튜토리얼이니 파라미터 튜닝은 잠시 제쳐두기로 하고,\n",
    "기본 default 세팅으로 진행하겠습니다.\n",
    "\n",
    "모델 객체를 만들고, fit 메소드로 학습시킵니다.\n",
    "그런 후 valid set input 을 넣어주어 예측값(X_vld sample(탑승객)의 생존여부)를 얻습니다."
   ]
  },
  {
   "cell_type": "markdown",
   "metadata": {},
   "source": [
    "## 4.2 Model generation and prediction"
   ]
  },
  {
   "cell_type": "code",
   "execution_count": 237,
   "metadata": {},
   "outputs": [],
   "source": [
    "model = RandomForestClassifier()\n",
    "model.fit(X_tr, y_tr)\n",
    "prediction = model.predict(X_vld)"
   ]
  },
  {
   "cell_type": "markdown",
   "metadata": {},
   "source": [
    "sklearn은 모델을 생성, 학습, 예측하는데 3줄이면 된다."
   ]
  },
  {
   "cell_type": "code",
   "execution_count": 238,
   "metadata": {},
   "outputs": [
    {
     "name": "stdout",
     "output_type": "stream",
     "text": [
      "총 179명 중 79.33% 정확도로 생존을 맞춤\n"
     ]
    }
   ],
   "source": [
    "print('총 {}명 중 {:.2f}% 정확도로 생존을 맞춤'.format(y_vld.shape[0], 100 * metrics.accuracy_score(prediction, y_vld)))"
   ]
  },
  {
   "cell_type": "markdown",
   "metadata": {},
   "source": [
    "학습된 모델은 feature importance 를 가지게 되는데,\n",
    "우리는 이것을 확인하여 지금 만든 모델이 어떤 feature 에 영향을 많이 받았는 지 확인할 수 있습니다.\n",
    "\n",
    "쉽게 말해, y = 4*x1 + 2*x2 + 1*x3 을 생각하면,\n",
    "우리는 x1이 결과값(10)에 큰 영향을 준다고 생각 할 수 있습니다.\n",
    "\n",
    "feature importance 는 4, 2, 1 을 이야기하며, x1이 가장 큰 값(4)를 가지므로,\n",
    "이 모델에 x1 피쳐가 가장 큰 영향을 미친다고 말할 수 있습니다.\n",
    "\n",
    "학습된 모델은 기본적으로 feature importances 를 가지고 있어서 쉽게 그 수치를 얻을 수 있습니다.\n",
    "pandas series 를 이용하면 쉽게 sorting 을 하여 그래프를 그릴 수 있습니다."
   ]
  },
  {
   "cell_type": "code",
   "execution_count": 239,
   "metadata": {},
   "outputs": [],
   "source": [
    "from pandas import Series\n",
    "\n",
    "feature_importance = model.feature_importances_\n",
    "Series_feat_imp = Series(feature_importance, index=test_data.columns)"
   ]
  },
  {
   "cell_type": "code",
   "execution_count": 240,
   "metadata": {},
   "outputs": [
    {
     "data": {
      "image/png": "[encoded data removed]",
      "text/plain": [
       "<Figure size 576x576 with 1 Axes>"
      ]
     },
     "metadata": {
      "needs_background": "light"
     },
     "output_type": "display_data"
    }
   ],
   "source": [
    "plt.figure(figsize=(8,8))\n",
    "Series_feat_imp.sort_values(ascending=True).plot.barh()\n",
    "plt.xlabel('Feature importance')\n",
    "plt.ylabel('Feature')\n",
    "plt.show()"
   ]
  },
  {
   "cell_type": "markdown",
   "metadata": {},
   "source": [
    "## 4.B keras를 사용한 NN모델 개발"
   ]
  },
  {
   "cell_type": "code",
   "execution_count": 241,
   "metadata": {},
   "outputs": [],
   "source": [
    "from keras.models import Sequential\n",
    "from keras.layers.core import Dense, Dropout\n",
    "from keras.optimizers import Adam, SGD"
   ]
  },
  {
   "cell_type": "code",
   "execution_count": 242,
   "metadata": {},
   "outputs": [
    {
     "name": "stdout",
     "output_type": "stream",
     "text": [
      "Model: \"sequential\"\n",
      "_________________________________________________________________\n",
      "Layer (type)                 Output Shape              Param #   \n",
      "=================================================================\n",
      "dense (Dense)                (None, 32)                480       \n",
      "_________________________________________________________________\n",
      "dropout (Dropout)            (None, 32)                0         \n",
      "_________________________________________________________________\n",
      "dense_1 (Dense)              (None, 64)                2112      \n",
      "_________________________________________________________________\n",
      "dropout_1 (Dropout)          (None, 64)                0         \n",
      "_________________________________________________________________\n",
      "dense_2 (Dense)              (None, 32)                2080      \n",
      "_________________________________________________________________\n",
      "dropout_2 (Dropout)          (None, 32)                0         \n",
      "_________________________________________________________________\n",
      "dense_3 (Dense)              (None, 1)                 33        \n",
      "=================================================================\n",
      "Total params: 4,705\n",
      "Trainable params: 4,705\n",
      "Non-trainable params: 0\n",
      "_________________________________________________________________\n"
     ]
    }
   ],
   "source": [
    "nn_model = Sequential()\n",
    "nn_model.add(Dense(32,activation='relu', input_shape=(14,)))\n",
    "nn_model.add(Dropout(0.2))\n",
    "nn_model.add(Dense(64,activation='relu'))\n",
    "nn_model.add(Dropout(0.2))\n",
    "nn_model.add(Dense(32,activation='relu'))\n",
    "nn_model.add(Dropout(0.2))\n",
    "nn_model.add(Dense(1,activation='sigmoid'))\n",
    "\n",
    "Loss = 'binary_crossentropy'\n",
    "nn_model.compile(loss=Loss, optimizer=Adam(), metrics=['accuracy'])\n",
    "nn_model.summary()"
   ]
  },
  {
   "cell_type": "code",
   "execution_count": 243,
   "metadata": {},
   "outputs": [
    {
     "name": "stdout",
     "output_type": "stream",
     "text": [
      "Epoch 1/500\n",
      "12/12 [==============================] - 0s 12ms/step - loss: 1.1342 - accuracy: 0.5421 - val_loss: 0.6592 - val_accuracy: 0.6257\n",
      "Epoch 2/500\n",
      "12/12 [==============================] - 0s 2ms/step - loss: 1.0315 - accuracy: 0.4817 - val_loss: 0.6513 - val_accuracy: 0.7430\n",
      "Epoch 3/500\n",
      "12/12 [==============================] - 0s 2ms/step - loss: 0.8719 - accuracy: 0.5758 - val_loss: 0.6261 - val_accuracy: 0.6425\n",
      "Epoch 4/500\n",
      "12/12 [==============================] - 0s 2ms/step - loss: 0.8226 - accuracy: 0.5548 - val_loss: 0.6166 - val_accuracy: 0.6480\n",
      "Epoch 5/500\n",
      "12/12 [==============================] - 0s 3ms/step - loss: 0.7514 - accuracy: 0.5969 - val_loss: 0.6072 - val_accuracy: 0.6369\n",
      "Epoch 6/500\n",
      "12/12 [==============================] - 0s 2ms/step - loss: 0.7643 - accuracy: 0.5787 - val_loss: 0.6015 - val_accuracy: 0.6704\n",
      "Epoch 7/500\n",
      "12/12 [==============================] - 0s 2ms/step - loss: 0.7159 - accuracy: 0.6166 - val_loss: 0.6014 - val_accuracy: 0.6425\n",
      "Epoch 8/500\n",
      "12/12 [==============================] - 0s 2ms/step - loss: 0.6992 - accuracy: 0.6208 - val_loss: 0.6019 - val_accuracy: 0.6480\n",
      "Epoch 9/500\n",
      "12/12 [==============================] - 0s 2ms/step - loss: 0.6795 - accuracy: 0.6081 - val_loss: 0.6008 - val_accuracy: 0.6648\n",
      "Epoch 10/500\n",
      "12/12 [==============================] - 0s 3ms/step - loss: 0.6685 - accuracy: 0.6390 - val_loss: 0.5922 - val_accuracy: 0.6927\n",
      "Epoch 11/500\n",
      "12/12 [==============================] - 0s 2ms/step - loss: 0.6676 - accuracy: 0.6194 - val_loss: 0.5827 - val_accuracy: 0.6816\n",
      "Epoch 12/500\n",
      "12/12 [==============================] - 0s 2ms/step - loss: 0.6605 - accuracy: 0.6390 - val_loss: 0.5826 - val_accuracy: 0.7151\n",
      "Epoch 13/500\n",
      "12/12 [==============================] - 0s 3ms/step - loss: 0.6489 - accuracy: 0.6348 - val_loss: 0.5893 - val_accuracy: 0.7486\n",
      "Epoch 14/500\n",
      "12/12 [==============================] - 0s 2ms/step - loss: 0.6463 - accuracy: 0.6685 - val_loss: 0.5814 - val_accuracy: 0.7151\n",
      "Epoch 15/500\n",
      "12/12 [==============================] - 0s 2ms/step - loss: 0.6210 - accuracy: 0.6784 - val_loss: 0.5756 - val_accuracy: 0.7095\n",
      "Epoch 16/500\n",
      "12/12 [==============================] - 0s 3ms/step - loss: 0.6385 - accuracy: 0.6643 - val_loss: 0.5728 - val_accuracy: 0.7151\n",
      "Epoch 17/500\n",
      "12/12 [==============================] - 0s 2ms/step - loss: 0.6390 - accuracy: 0.6685 - val_loss: 0.5642 - val_accuracy: 0.7374\n",
      "Epoch 18/500\n",
      "12/12 [==============================] - 0s 4ms/step - loss: 0.6130 - accuracy: 0.7037 - val_loss: 0.5560 - val_accuracy: 0.7709\n",
      "Epoch 19/500\n",
      "12/12 [==============================] - 0s 3ms/step - loss: 0.6036 - accuracy: 0.6910 - val_loss: 0.5426 - val_accuracy: 0.7374\n",
      "Epoch 20/500\n",
      "12/12 [==============================] - 0s 3ms/step - loss: 0.5983 - accuracy: 0.6896 - val_loss: 0.5293 - val_accuracy: 0.7765\n",
      "Epoch 21/500\n",
      "12/12 [==============================] - 0s 3ms/step - loss: 0.5897 - accuracy: 0.7051 - val_loss: 0.5141 - val_accuracy: 0.8156\n",
      "Epoch 22/500\n",
      "12/12 [==============================] - 0s 3ms/step - loss: 0.5529 - accuracy: 0.7317 - val_loss: 0.4908 - val_accuracy: 0.8101\n",
      "Epoch 23/500\n",
      "12/12 [==============================] - 0s 2ms/step - loss: 0.5635 - accuracy: 0.7219 - val_loss: 0.4784 - val_accuracy: 0.8045\n",
      "Epoch 24/500\n",
      "12/12 [==============================] - 0s 2ms/step - loss: 0.5416 - accuracy: 0.7346 - val_loss: 0.4663 - val_accuracy: 0.8101\n",
      "Epoch 25/500\n",
      "12/12 [==============================] - 0s 2ms/step - loss: 0.5767 - accuracy: 0.7247 - val_loss: 0.4575 - val_accuracy: 0.8045\n",
      "Epoch 26/500\n",
      "12/12 [==============================] - 0s 2ms/step - loss: 0.5618 - accuracy: 0.7430 - val_loss: 0.4564 - val_accuracy: 0.8156\n",
      "Epoch 27/500\n",
      "12/12 [==============================] - 0s 2ms/step - loss: 0.5363 - accuracy: 0.7374 - val_loss: 0.4679 - val_accuracy: 0.8156\n",
      "Epoch 28/500\n",
      "12/12 [==============================] - 0s 2ms/step - loss: 0.5450 - accuracy: 0.7612 - val_loss: 0.4462 - val_accuracy: 0.8324\n",
      "Epoch 29/500\n",
      "12/12 [==============================] - 0s 2ms/step - loss: 0.5498 - accuracy: 0.7233 - val_loss: 0.4441 - val_accuracy: 0.8324\n",
      "Epoch 30/500\n",
      "12/12 [==============================] - 0s 2ms/step - loss: 0.5123 - accuracy: 0.7486 - val_loss: 0.4347 - val_accuracy: 0.8380\n",
      "Epoch 31/500\n",
      "12/12 [==============================] - 0s 2ms/step - loss: 0.5169 - accuracy: 0.7360 - val_loss: 0.4370 - val_accuracy: 0.8156\n",
      "Epoch 32/500\n",
      "12/12 [==============================] - 0s 2ms/step - loss: 0.5253 - accuracy: 0.7584 - val_loss: 0.4339 - val_accuracy: 0.8212\n",
      "Epoch 33/500\n",
      "12/12 [==============================] - 0s 2ms/step - loss: 0.4969 - accuracy: 0.7767 - val_loss: 0.4260 - val_accuracy: 0.8436\n",
      "Epoch 34/500\n",
      "12/12 [==============================] - 0s 2ms/step - loss: 0.5075 - accuracy: 0.7767 - val_loss: 0.4288 - val_accuracy: 0.8380\n",
      "Epoch 35/500\n",
      "12/12 [==============================] - 0s 3ms/step - loss: 0.5143 - accuracy: 0.7612 - val_loss: 0.4264 - val_accuracy: 0.8380\n",
      "Epoch 36/500\n",
      "12/12 [==============================] - 0s 2ms/step - loss: 0.5201 - accuracy: 0.7725 - val_loss: 0.4172 - val_accuracy: 0.8380\n",
      "Epoch 37/500\n",
      "12/12 [==============================] - 0s 2ms/step - loss: 0.4926 - accuracy: 0.7809 - val_loss: 0.4125 - val_accuracy: 0.8436\n",
      "Epoch 38/500\n",
      "12/12 [==============================] - 0s 2ms/step - loss: 0.4955 - accuracy: 0.7654 - val_loss: 0.4285 - val_accuracy: 0.8212\n",
      "Epoch 39/500\n",
      "12/12 [==============================] - 0s 2ms/step - loss: 0.5115 - accuracy: 0.7570 - val_loss: 0.4157 - val_accuracy: 0.8324\n",
      "Epoch 40/500\n",
      "12/12 [==============================] - 0s 3ms/step - loss: 0.5023 - accuracy: 0.7725 - val_loss: 0.4069 - val_accuracy: 0.8436\n",
      "Epoch 41/500\n",
      "12/12 [==============================] - 0s 3ms/step - loss: 0.4692 - accuracy: 0.7865 - val_loss: 0.4109 - val_accuracy: 0.7933\n",
      "Epoch 42/500\n",
      "12/12 [==============================] - 0s 3ms/step - loss: 0.4930 - accuracy: 0.7767 - val_loss: 0.3992 - val_accuracy: 0.8324\n",
      "Epoch 43/500\n",
      "12/12 [==============================] - 0s 3ms/step - loss: 0.5013 - accuracy: 0.7753 - val_loss: 0.4008 - val_accuracy: 0.8324\n",
      "Epoch 44/500\n",
      "12/12 [==============================] - 0s 3ms/step - loss: 0.4886 - accuracy: 0.7837 - val_loss: 0.4016 - val_accuracy: 0.8436\n",
      "Epoch 45/500\n",
      "12/12 [==============================] - 0s 3ms/step - loss: 0.4606 - accuracy: 0.7935 - val_loss: 0.3982 - val_accuracy: 0.8492\n",
      "Epoch 46/500\n",
      "12/12 [==============================] - 0s 2ms/step - loss: 0.4632 - accuracy: 0.7921 - val_loss: 0.3957 - val_accuracy: 0.8436\n",
      "Epoch 47/500\n",
      "12/12 [==============================] - 0s 2ms/step - loss: 0.4794 - accuracy: 0.7893 - val_loss: 0.3962 - val_accuracy: 0.8436\n",
      "Epoch 48/500\n",
      "12/12 [==============================] - 0s 2ms/step - loss: 0.4724 - accuracy: 0.7921 - val_loss: 0.3975 - val_accuracy: 0.8492\n",
      "Epoch 49/500\n",
      "12/12 [==============================] - 0s 2ms/step - loss: 0.4724 - accuracy: 0.8048 - val_loss: 0.3990 - val_accuracy: 0.8492\n",
      "Epoch 50/500\n",
      "12/12 [==============================] - 0s 2ms/step - loss: 0.4857 - accuracy: 0.7753 - val_loss: 0.4064 - val_accuracy: 0.8380\n",
      "Epoch 51/500\n",
      "12/12 [==============================] - 0s 3ms/step - loss: 0.4759 - accuracy: 0.8020 - val_loss: 0.4005 - val_accuracy: 0.8492\n",
      "Epoch 52/500\n",
      "12/12 [==============================] - 0s 2ms/step - loss: 0.4844 - accuracy: 0.7907 - val_loss: 0.4037 - val_accuracy: 0.8436\n",
      "Epoch 53/500\n",
      "12/12 [==============================] - 0s 3ms/step - loss: 0.4634 - accuracy: 0.8034 - val_loss: 0.4215 - val_accuracy: 0.8380\n",
      "Epoch 54/500\n",
      "12/12 [==============================] - 0s 3ms/step - loss: 0.4917 - accuracy: 0.7837 - val_loss: 0.4009 - val_accuracy: 0.8436\n",
      "Epoch 55/500\n",
      "12/12 [==============================] - 0s 3ms/step - loss: 0.4803 - accuracy: 0.7992 - val_loss: 0.3973 - val_accuracy: 0.8380\n",
      "Epoch 56/500\n",
      "12/12 [==============================] - 0s 2ms/step - loss: 0.4702 - accuracy: 0.7949 - val_loss: 0.4023 - val_accuracy: 0.8380\n",
      "Epoch 57/500\n",
      "12/12 [==============================] - 0s 2ms/step - loss: 0.4636 - accuracy: 0.7907 - val_loss: 0.4007 - val_accuracy: 0.8436\n",
      "Epoch 58/500\n",
      "12/12 [==============================] - 0s 2ms/step - loss: 0.4583 - accuracy: 0.8076 - val_loss: 0.3978 - val_accuracy: 0.8324\n"
     ]
    },
    {
     "name": "stdout",
     "output_type": "stream",
     "text": [
      "Epoch 59/500\n",
      "12/12 [==============================] - 0s 2ms/step - loss: 0.4569 - accuracy: 0.8118 - val_loss: 0.3991 - val_accuracy: 0.8492\n",
      "Epoch 60/500\n",
      "12/12 [==============================] - 0s 2ms/step - loss: 0.4602 - accuracy: 0.7963 - val_loss: 0.3902 - val_accuracy: 0.8492\n",
      "Epoch 61/500\n",
      "12/12 [==============================] - 0s 2ms/step - loss: 0.4532 - accuracy: 0.8076 - val_loss: 0.3925 - val_accuracy: 0.8492\n",
      "Epoch 62/500\n",
      "12/12 [==============================] - 0s 2ms/step - loss: 0.4708 - accuracy: 0.7907 - val_loss: 0.3985 - val_accuracy: 0.8492\n",
      "Epoch 63/500\n",
      "12/12 [==============================] - 0s 2ms/step - loss: 0.4733 - accuracy: 0.8048 - val_loss: 0.3925 - val_accuracy: 0.8436\n",
      "Epoch 64/500\n",
      "12/12 [==============================] - 0s 4ms/step - loss: 0.4579 - accuracy: 0.8034 - val_loss: 0.3926 - val_accuracy: 0.8492\n",
      "Epoch 65/500\n",
      "12/12 [==============================] - 0s 3ms/step - loss: 0.4438 - accuracy: 0.8006 - val_loss: 0.3891 - val_accuracy: 0.8436\n",
      "Epoch 66/500\n",
      "12/12 [==============================] - 0s 3ms/step - loss: 0.4531 - accuracy: 0.8188 - val_loss: 0.3886 - val_accuracy: 0.8492\n",
      "Epoch 67/500\n",
      "12/12 [==============================] - 0s 3ms/step - loss: 0.4399 - accuracy: 0.8062 - val_loss: 0.3891 - val_accuracy: 0.8492\n",
      "Epoch 68/500\n",
      "12/12 [==============================] - 0s 3ms/step - loss: 0.4511 - accuracy: 0.8034 - val_loss: 0.3933 - val_accuracy: 0.8547\n",
      "Epoch 69/500\n",
      "12/12 [==============================] - 0s 2ms/step - loss: 0.4404 - accuracy: 0.8006 - val_loss: 0.3984 - val_accuracy: 0.8492\n",
      "Epoch 70/500\n",
      "12/12 [==============================] - 0s 2ms/step - loss: 0.4552 - accuracy: 0.8174 - val_loss: 0.3975 - val_accuracy: 0.8492\n",
      "Epoch 71/500\n",
      "12/12 [==============================] - 0s 2ms/step - loss: 0.4553 - accuracy: 0.7893 - val_loss: 0.3943 - val_accuracy: 0.8547\n",
      "Epoch 72/500\n",
      "12/12 [==============================] - 0s 2ms/step - loss: 0.4583 - accuracy: 0.8132 - val_loss: 0.3972 - val_accuracy: 0.8492\n",
      "Epoch 73/500\n",
      "12/12 [==============================] - 0s 2ms/step - loss: 0.4412 - accuracy: 0.8090 - val_loss: 0.4049 - val_accuracy: 0.8436\n",
      "Epoch 74/500\n",
      "12/12 [==============================] - 0s 2ms/step - loss: 0.4516 - accuracy: 0.8104 - val_loss: 0.3997 - val_accuracy: 0.8436\n",
      "Epoch 75/500\n",
      "12/12 [==============================] - 0s 2ms/step - loss: 0.4517 - accuracy: 0.7921 - val_loss: 0.3995 - val_accuracy: 0.8492\n",
      "Epoch 76/500\n",
      "12/12 [==============================] - 0s 2ms/step - loss: 0.4547 - accuracy: 0.7949 - val_loss: 0.3892 - val_accuracy: 0.8547\n",
      "Epoch 77/500\n",
      "12/12 [==============================] - 0s 2ms/step - loss: 0.4461 - accuracy: 0.7992 - val_loss: 0.3987 - val_accuracy: 0.8436\n",
      "Epoch 78/500\n",
      "12/12 [==============================] - 0s 2ms/step - loss: 0.4464 - accuracy: 0.8090 - val_loss: 0.3965 - val_accuracy: 0.8492\n",
      "Epoch 79/500\n",
      "12/12 [==============================] - 0s 3ms/step - loss: 0.4697 - accuracy: 0.7963 - val_loss: 0.3970 - val_accuracy: 0.8268\n",
      "Epoch 80/500\n",
      "12/12 [==============================] - 0s 3ms/step - loss: 0.4482 - accuracy: 0.7992 - val_loss: 0.3989 - val_accuracy: 0.8492\n",
      "Epoch 81/500\n",
      "12/12 [==============================] - 0s 3ms/step - loss: 0.4470 - accuracy: 0.8076 - val_loss: 0.4041 - val_accuracy: 0.8380\n",
      "Epoch 82/500\n",
      "12/12 [==============================] - 0s 4ms/step - loss: 0.4486 - accuracy: 0.7978 - val_loss: 0.4069 - val_accuracy: 0.8547\n",
      "Epoch 83/500\n",
      "12/12 [==============================] - 0s 3ms/step - loss: 0.4575 - accuracy: 0.8104 - val_loss: 0.4056 - val_accuracy: 0.8436\n",
      "Epoch 84/500\n",
      "12/12 [==============================] - 0s 2ms/step - loss: 0.4568 - accuracy: 0.7935 - val_loss: 0.3989 - val_accuracy: 0.8547\n",
      "Epoch 85/500\n",
      "12/12 [==============================] - 0s 2ms/step - loss: 0.4305 - accuracy: 0.8146 - val_loss: 0.3901 - val_accuracy: 0.8436\n",
      "Epoch 86/500\n",
      "12/12 [==============================] - 0s 2ms/step - loss: 0.4428 - accuracy: 0.8020 - val_loss: 0.3870 - val_accuracy: 0.8492\n",
      "Epoch 87/500\n",
      "12/12 [==============================] - 0s 2ms/step - loss: 0.4565 - accuracy: 0.8146 - val_loss: 0.3951 - val_accuracy: 0.8492\n",
      "Epoch 88/500\n",
      "12/12 [==============================] - 0s 2ms/step - loss: 0.4380 - accuracy: 0.8174 - val_loss: 0.3982 - val_accuracy: 0.8492\n",
      "Epoch 89/500\n",
      "12/12 [==============================] - 0s 2ms/step - loss: 0.4229 - accuracy: 0.8160 - val_loss: 0.3847 - val_accuracy: 0.8436\n",
      "Epoch 90/500\n",
      "12/12 [==============================] - 0s 2ms/step - loss: 0.4366 - accuracy: 0.8188 - val_loss: 0.3852 - val_accuracy: 0.8492\n",
      "Epoch 91/500\n",
      "12/12 [==============================] - 0s 2ms/step - loss: 0.4477 - accuracy: 0.8160 - val_loss: 0.3958 - val_accuracy: 0.8492\n",
      "Epoch 92/500\n",
      "12/12 [==============================] - 0s 3ms/step - loss: 0.4385 - accuracy: 0.8202 - val_loss: 0.3999 - val_accuracy: 0.8547\n",
      "Epoch 93/500\n",
      "12/12 [==============================] - 0s 3ms/step - loss: 0.4283 - accuracy: 0.8174 - val_loss: 0.3880 - val_accuracy: 0.8436\n",
      "Epoch 94/500\n",
      "12/12 [==============================] - 0s 2ms/step - loss: 0.4155 - accuracy: 0.8160 - val_loss: 0.3879 - val_accuracy: 0.8436\n",
      "Epoch 95/500\n",
      "12/12 [==============================] - 0s 3ms/step - loss: 0.4222 - accuracy: 0.8258 - val_loss: 0.3917 - val_accuracy: 0.8492\n",
      "Epoch 96/500\n",
      "12/12 [==============================] - 0s 4ms/step - loss: 0.4418 - accuracy: 0.8118 - val_loss: 0.3846 - val_accuracy: 0.8436\n",
      "Epoch 97/500\n",
      "12/12 [==============================] - 0s 3ms/step - loss: 0.4294 - accuracy: 0.8104 - val_loss: 0.3881 - val_accuracy: 0.8492\n",
      "Epoch 98/500\n",
      "12/12 [==============================] - 0s 3ms/step - loss: 0.4427 - accuracy: 0.8090 - val_loss: 0.4074 - val_accuracy: 0.8492\n",
      "Epoch 99/500\n",
      "12/12 [==============================] - 0s 2ms/step - loss: 0.4259 - accuracy: 0.8188 - val_loss: 0.3941 - val_accuracy: 0.8436\n",
      "Epoch 100/500\n",
      "12/12 [==============================] - 0s 2ms/step - loss: 0.4297 - accuracy: 0.8160 - val_loss: 0.3860 - val_accuracy: 0.8324\n",
      "Epoch 101/500\n",
      "12/12 [==============================] - 0s 2ms/step - loss: 0.4307 - accuracy: 0.8146 - val_loss: 0.3917 - val_accuracy: 0.8436\n",
      "Epoch 102/500\n",
      "12/12 [==============================] - 0s 2ms/step - loss: 0.4366 - accuracy: 0.8146 - val_loss: 0.3911 - val_accuracy: 0.8547\n",
      "Epoch 103/500\n",
      "12/12 [==============================] - 0s 2ms/step - loss: 0.4380 - accuracy: 0.8160 - val_loss: 0.3903 - val_accuracy: 0.8492\n",
      "Epoch 104/500\n",
      "12/12 [==============================] - 0s 2ms/step - loss: 0.4271 - accuracy: 0.8146 - val_loss: 0.4057 - val_accuracy: 0.8547\n",
      "Epoch 105/500\n",
      "12/12 [==============================] - 0s 3ms/step - loss: 0.4231 - accuracy: 0.8160 - val_loss: 0.3900 - val_accuracy: 0.8547\n",
      "Epoch 106/500\n",
      "12/12 [==============================] - 0s 3ms/step - loss: 0.4282 - accuracy: 0.8287 - val_loss: 0.3829 - val_accuracy: 0.8380\n",
      "Epoch 107/500\n",
      "12/12 [==============================] - 0s 3ms/step - loss: 0.4432 - accuracy: 0.8258 - val_loss: 0.3859 - val_accuracy: 0.8547\n",
      "Epoch 108/500\n",
      "12/12 [==============================] - 0s 3ms/step - loss: 0.4211 - accuracy: 0.8230 - val_loss: 0.3909 - val_accuracy: 0.8492\n",
      "Epoch 109/500\n",
      "12/12 [==============================] - 0s 5ms/step - loss: 0.4214 - accuracy: 0.8258 - val_loss: 0.3905 - val_accuracy: 0.8547\n",
      "Epoch 110/500\n",
      "12/12 [==============================] - 0s 3ms/step - loss: 0.4265 - accuracy: 0.8216 - val_loss: 0.3884 - val_accuracy: 0.8492\n",
      "Epoch 111/500\n",
      "12/12 [==============================] - 0s 2ms/step - loss: 0.4307 - accuracy: 0.8188 - val_loss: 0.3892 - val_accuracy: 0.8492\n",
      "Epoch 112/500\n",
      "12/12 [==============================] - 0s 2ms/step - loss: 0.4267 - accuracy: 0.8118 - val_loss: 0.3860 - val_accuracy: 0.8436\n",
      "Epoch 113/500\n",
      "12/12 [==============================] - 0s 2ms/step - loss: 0.4245 - accuracy: 0.8244 - val_loss: 0.3870 - val_accuracy: 0.8436\n",
      "Epoch 114/500\n",
      "12/12 [==============================] - 0s 3ms/step - loss: 0.4286 - accuracy: 0.8202 - val_loss: 0.3899 - val_accuracy: 0.8436\n",
      "Epoch 115/500\n",
      "12/12 [==============================] - 0s 2ms/step - loss: 0.4166 - accuracy: 0.8202 - val_loss: 0.3853 - val_accuracy: 0.8547\n",
      "Epoch 116/500\n"
     ]
    },
    {
     "name": "stdout",
     "output_type": "stream",
     "text": [
      "12/12 [==============================] - 0s 2ms/step - loss: 0.4248 - accuracy: 0.8076 - val_loss: 0.3827 - val_accuracy: 0.8547\n",
      "Epoch 117/500\n",
      "12/12 [==============================] - 0s 3ms/step - loss: 0.4320 - accuracy: 0.8188 - val_loss: 0.3802 - val_accuracy: 0.8547\n",
      "Epoch 118/500\n",
      "12/12 [==============================] - 0s 2ms/step - loss: 0.4188 - accuracy: 0.8244 - val_loss: 0.3821 - val_accuracy: 0.8659\n",
      "Epoch 119/500\n",
      "12/12 [==============================] - 0s 3ms/step - loss: 0.4151 - accuracy: 0.8244 - val_loss: 0.3826 - val_accuracy: 0.8547\n",
      "Epoch 120/500\n",
      "12/12 [==============================] - 0s 3ms/step - loss: 0.4212 - accuracy: 0.8146 - val_loss: 0.3841 - val_accuracy: 0.8547\n",
      "Epoch 121/500\n",
      "12/12 [==============================] - 0s 3ms/step - loss: 0.4153 - accuracy: 0.8258 - val_loss: 0.3836 - val_accuracy: 0.8659\n",
      "Epoch 122/500\n",
      "12/12 [==============================] - 0s 3ms/step - loss: 0.4252 - accuracy: 0.8216 - val_loss: 0.3854 - val_accuracy: 0.8547\n",
      "Epoch 123/500\n",
      "12/12 [==============================] - 0s 3ms/step - loss: 0.4197 - accuracy: 0.8272 - val_loss: 0.3832 - val_accuracy: 0.8380\n",
      "Epoch 124/500\n",
      "12/12 [==============================] - 0s 2ms/step - loss: 0.4269 - accuracy: 0.8118 - val_loss: 0.3855 - val_accuracy: 0.8547\n",
      "Epoch 125/500\n",
      "12/12 [==============================] - 0s 2ms/step - loss: 0.4280 - accuracy: 0.8216 - val_loss: 0.3870 - val_accuracy: 0.8492\n",
      "Epoch 126/500\n",
      "12/12 [==============================] - 0s 2ms/step - loss: 0.4330 - accuracy: 0.8343 - val_loss: 0.3915 - val_accuracy: 0.8436\n",
      "Epoch 127/500\n",
      "12/12 [==============================] - 0s 2ms/step - loss: 0.4188 - accuracy: 0.8202 - val_loss: 0.3955 - val_accuracy: 0.8547\n",
      "Epoch 128/500\n",
      "12/12 [==============================] - 0s 2ms/step - loss: 0.4136 - accuracy: 0.8188 - val_loss: 0.3844 - val_accuracy: 0.8492\n",
      "Epoch 129/500\n",
      "12/12 [==============================] - 0s 3ms/step - loss: 0.4312 - accuracy: 0.8272 - val_loss: 0.3829 - val_accuracy: 0.8603\n",
      "Epoch 130/500\n",
      "12/12 [==============================] - 0s 3ms/step - loss: 0.4326 - accuracy: 0.8230 - val_loss: 0.3850 - val_accuracy: 0.8659\n",
      "Epoch 131/500\n",
      "12/12 [==============================] - 0s 3ms/step - loss: 0.4198 - accuracy: 0.8230 - val_loss: 0.3924 - val_accuracy: 0.8547\n",
      "Epoch 132/500\n",
      "12/12 [==============================] - 0s 3ms/step - loss: 0.4200 - accuracy: 0.8188 - val_loss: 0.3889 - val_accuracy: 0.8659\n",
      "Epoch 133/500\n",
      "12/12 [==============================] - 0s 3ms/step - loss: 0.4290 - accuracy: 0.8174 - val_loss: 0.3934 - val_accuracy: 0.8547\n",
      "Epoch 134/500\n",
      "12/12 [==============================] - 0s 3ms/step - loss: 0.4285 - accuracy: 0.8160 - val_loss: 0.3835 - val_accuracy: 0.8380\n",
      "Epoch 135/500\n",
      "12/12 [==============================] - 0s 2ms/step - loss: 0.4121 - accuracy: 0.8188 - val_loss: 0.3861 - val_accuracy: 0.8659\n",
      "Epoch 136/500\n",
      "12/12 [==============================] - 0s 3ms/step - loss: 0.3978 - accuracy: 0.8385 - val_loss: 0.3923 - val_accuracy: 0.8547\n",
      "Epoch 137/500\n",
      "12/12 [==============================] - 0s 3ms/step - loss: 0.4055 - accuracy: 0.8272 - val_loss: 0.3903 - val_accuracy: 0.8324\n",
      "Epoch 138/500\n",
      "12/12 [==============================] - 0s 2ms/step - loss: 0.4170 - accuracy: 0.8258 - val_loss: 0.3927 - val_accuracy: 0.8380\n",
      "Epoch 139/500\n",
      "12/12 [==============================] - 0s 3ms/step - loss: 0.4302 - accuracy: 0.8258 - val_loss: 0.3964 - val_accuracy: 0.8547\n",
      "Epoch 140/500\n",
      "12/12 [==============================] - 0s 3ms/step - loss: 0.4124 - accuracy: 0.8160 - val_loss: 0.3944 - val_accuracy: 0.8324\n",
      "Epoch 141/500\n",
      "12/12 [==============================] - 0s 3ms/step - loss: 0.4142 - accuracy: 0.8216 - val_loss: 0.3922 - val_accuracy: 0.8659\n",
      "Epoch 142/500\n",
      "12/12 [==============================] - 0s 2ms/step - loss: 0.4233 - accuracy: 0.8174 - val_loss: 0.3885 - val_accuracy: 0.8547\n",
      "Epoch 143/500\n",
      "12/12 [==============================] - 0s 2ms/step - loss: 0.4230 - accuracy: 0.8258 - val_loss: 0.3828 - val_accuracy: 0.8380\n",
      "Epoch 144/500\n",
      "12/12 [==============================] - 0s 2ms/step - loss: 0.4060 - accuracy: 0.8258 - val_loss: 0.3822 - val_accuracy: 0.8492\n",
      "Epoch 145/500\n",
      "12/12 [==============================] - 0s 2ms/step - loss: 0.4150 - accuracy: 0.8272 - val_loss: 0.3837 - val_accuracy: 0.8603\n",
      "Epoch 146/500\n",
      "12/12 [==============================] - 0s 2ms/step - loss: 0.4256 - accuracy: 0.8230 - val_loss: 0.3919 - val_accuracy: 0.8547\n",
      "Epoch 147/500\n",
      "12/12 [==============================] - 0s 3ms/step - loss: 0.4168 - accuracy: 0.8230 - val_loss: 0.3857 - val_accuracy: 0.8380\n",
      "Epoch 148/500\n",
      "12/12 [==============================] - 0s 3ms/step - loss: 0.4128 - accuracy: 0.8343 - val_loss: 0.3891 - val_accuracy: 0.8659\n",
      "Epoch 149/500\n",
      "12/12 [==============================] - 0s 2ms/step - loss: 0.4119 - accuracy: 0.8216 - val_loss: 0.3819 - val_accuracy: 0.8659\n",
      "Epoch 150/500\n",
      "12/12 [==============================] - 0s 2ms/step - loss: 0.4179 - accuracy: 0.8357 - val_loss: 0.3932 - val_accuracy: 0.8380\n",
      "Epoch 151/500\n",
      "12/12 [==============================] - 0s 2ms/step - loss: 0.4151 - accuracy: 0.8287 - val_loss: 0.3959 - val_accuracy: 0.8603\n",
      "Epoch 152/500\n",
      "12/12 [==============================] - 0s 2ms/step - loss: 0.4148 - accuracy: 0.8216 - val_loss: 0.3886 - val_accuracy: 0.8659\n",
      "Epoch 153/500\n",
      "12/12 [==============================] - 0s 2ms/step - loss: 0.4072 - accuracy: 0.8329 - val_loss: 0.3833 - val_accuracy: 0.8547\n",
      "Epoch 154/500\n",
      "12/12 [==============================] - 0s 3ms/step - loss: 0.4201 - accuracy: 0.8258 - val_loss: 0.3847 - val_accuracy: 0.8547\n",
      "Epoch 155/500\n",
      "12/12 [==============================] - 0s 3ms/step - loss: 0.4221 - accuracy: 0.8258 - val_loss: 0.3873 - val_accuracy: 0.8436\n",
      "Epoch 156/500\n",
      "12/12 [==============================] - 0s 2ms/step - loss: 0.4223 - accuracy: 0.8132 - val_loss: 0.3914 - val_accuracy: 0.8547\n",
      "Epoch 157/500\n",
      "12/12 [==============================] - 0s 3ms/step - loss: 0.4188 - accuracy: 0.8216 - val_loss: 0.3791 - val_accuracy: 0.8380\n",
      "Epoch 158/500\n",
      "12/12 [==============================] - 0s 3ms/step - loss: 0.4132 - accuracy: 0.8160 - val_loss: 0.3817 - val_accuracy: 0.8380\n",
      "Epoch 159/500\n",
      "12/12 [==============================] - 0s 3ms/step - loss: 0.4024 - accuracy: 0.8301 - val_loss: 0.3839 - val_accuracy: 0.8380\n",
      "Epoch 160/500\n",
      "12/12 [==============================] - 0s 3ms/step - loss: 0.4115 - accuracy: 0.8258 - val_loss: 0.3891 - val_accuracy: 0.8436\n",
      "Epoch 161/500\n",
      "12/12 [==============================] - 0s 3ms/step - loss: 0.3973 - accuracy: 0.8329 - val_loss: 0.3881 - val_accuracy: 0.8492\n",
      "Epoch 162/500\n",
      "12/12 [==============================] - 0s 3ms/step - loss: 0.4028 - accuracy: 0.8315 - val_loss: 0.3855 - val_accuracy: 0.8436\n",
      "Epoch 163/500\n",
      "12/12 [==============================] - 0s 3ms/step - loss: 0.4141 - accuracy: 0.8301 - val_loss: 0.3874 - val_accuracy: 0.8603\n",
      "Epoch 164/500\n",
      "12/12 [==============================] - 0s 3ms/step - loss: 0.4134 - accuracy: 0.8301 - val_loss: 0.3844 - val_accuracy: 0.8436\n",
      "Epoch 165/500\n",
      "12/12 [==============================] - 0s 3ms/step - loss: 0.4169 - accuracy: 0.8258 - val_loss: 0.3865 - val_accuracy: 0.8436\n",
      "Epoch 166/500\n",
      "12/12 [==============================] - 0s 3ms/step - loss: 0.4113 - accuracy: 0.8329 - val_loss: 0.3920 - val_accuracy: 0.8547\n",
      "Epoch 167/500\n",
      "12/12 [==============================] - 0s 2ms/step - loss: 0.4103 - accuracy: 0.8230 - val_loss: 0.3979 - val_accuracy: 0.8547\n",
      "Epoch 168/500\n",
      "12/12 [==============================] - 0s 2ms/step - loss: 0.4061 - accuracy: 0.8315 - val_loss: 0.3952 - val_accuracy: 0.8436\n",
      "Epoch 169/500\n",
      "12/12 [==============================] - 0s 2ms/step - loss: 0.3938 - accuracy: 0.8357 - val_loss: 0.3852 - val_accuracy: 0.8380\n",
      "Epoch 170/500\n",
      "12/12 [==============================] - 0s 2ms/step - loss: 0.4229 - accuracy: 0.8315 - val_loss: 0.3846 - val_accuracy: 0.8436\n",
      "Epoch 171/500\n",
      "12/12 [==============================] - 0s 2ms/step - loss: 0.4090 - accuracy: 0.8315 - val_loss: 0.3903 - val_accuracy: 0.8659\n",
      "Epoch 172/500\n",
      "12/12 [==============================] - 0s 2ms/step - loss: 0.4069 - accuracy: 0.8329 - val_loss: 0.3969 - val_accuracy: 0.8659\n",
      "Epoch 173/500\n"
     ]
    },
    {
     "name": "stdout",
     "output_type": "stream",
     "text": [
      "12/12 [==============================] - 0s 2ms/step - loss: 0.4026 - accuracy: 0.8357 - val_loss: 0.3927 - val_accuracy: 0.8603\n",
      "Epoch 174/500\n",
      "12/12 [==============================] - 0s 4ms/step - loss: 0.4053 - accuracy: 0.8329 - val_loss: 0.3849 - val_accuracy: 0.8547\n",
      "Epoch 175/500\n",
      "12/12 [==============================] - 0s 3ms/step - loss: 0.4069 - accuracy: 0.8287 - val_loss: 0.3860 - val_accuracy: 0.8603\n",
      "Epoch 176/500\n",
      "12/12 [==============================] - 0s 3ms/step - loss: 0.3982 - accuracy: 0.8287 - val_loss: 0.3841 - val_accuracy: 0.8380\n",
      "Epoch 177/500\n",
      "12/12 [==============================] - 0s 3ms/step - loss: 0.4076 - accuracy: 0.8244 - val_loss: 0.3838 - val_accuracy: 0.8380\n",
      "Epoch 178/500\n",
      "12/12 [==============================] - 0s 3ms/step - loss: 0.4106 - accuracy: 0.8272 - val_loss: 0.3867 - val_accuracy: 0.8659\n",
      "Epoch 179/500\n",
      "12/12 [==============================] - 0s 2ms/step - loss: 0.4053 - accuracy: 0.8371 - val_loss: 0.3843 - val_accuracy: 0.8436\n",
      "Epoch 180/500\n",
      "12/12 [==============================] - 0s 3ms/step - loss: 0.3992 - accuracy: 0.8301 - val_loss: 0.3876 - val_accuracy: 0.8492\n",
      "Epoch 181/500\n",
      "12/12 [==============================] - 0s 3ms/step - loss: 0.4054 - accuracy: 0.8315 - val_loss: 0.3836 - val_accuracy: 0.8492\n",
      "Epoch 182/500\n",
      "12/12 [==============================] - 0s 3ms/step - loss: 0.3951 - accuracy: 0.8399 - val_loss: 0.3872 - val_accuracy: 0.8324\n",
      "Epoch 183/500\n",
      "12/12 [==============================] - 0s 3ms/step - loss: 0.4034 - accuracy: 0.8287 - val_loss: 0.3897 - val_accuracy: 0.8492\n",
      "Epoch 184/500\n",
      "12/12 [==============================] - 0s 3ms/step - loss: 0.4049 - accuracy: 0.8357 - val_loss: 0.3904 - val_accuracy: 0.8436\n",
      "Epoch 185/500\n",
      "12/12 [==============================] - 0s 3ms/step - loss: 0.4060 - accuracy: 0.8174 - val_loss: 0.3908 - val_accuracy: 0.8436\n",
      "Epoch 186/500\n",
      "12/12 [==============================] - 0s 3ms/step - loss: 0.3985 - accuracy: 0.8343 - val_loss: 0.3827 - val_accuracy: 0.8380\n",
      "Epoch 187/500\n",
      "12/12 [==============================] - 0s 3ms/step - loss: 0.4058 - accuracy: 0.8343 - val_loss: 0.3802 - val_accuracy: 0.8436\n",
      "Epoch 188/500\n",
      "12/12 [==============================] - 0s 3ms/step - loss: 0.3956 - accuracy: 0.8301 - val_loss: 0.3852 - val_accuracy: 0.8436\n",
      "Epoch 189/500\n",
      "12/12 [==============================] - 0s 2ms/step - loss: 0.3987 - accuracy: 0.8385 - val_loss: 0.3862 - val_accuracy: 0.8380\n",
      "Epoch 190/500\n",
      "12/12 [==============================] - 0s 3ms/step - loss: 0.4146 - accuracy: 0.8357 - val_loss: 0.3796 - val_accuracy: 0.8380\n",
      "Epoch 191/500\n",
      "12/12 [==============================] - 0s 2ms/step - loss: 0.4022 - accuracy: 0.8413 - val_loss: 0.3795 - val_accuracy: 0.8492\n",
      "Epoch 192/500\n",
      "12/12 [==============================] - 0s 3ms/step - loss: 0.4017 - accuracy: 0.8343 - val_loss: 0.3807 - val_accuracy: 0.8547\n",
      "Epoch 193/500\n",
      "12/12 [==============================] - 0s 3ms/step - loss: 0.4028 - accuracy: 0.8441 - val_loss: 0.3851 - val_accuracy: 0.8492\n",
      "Epoch 194/500\n",
      "12/12 [==============================] - 0s 3ms/step - loss: 0.3936 - accuracy: 0.8315 - val_loss: 0.3842 - val_accuracy: 0.8492\n",
      "Epoch 195/500\n",
      "12/12 [==============================] - 0s 3ms/step - loss: 0.3941 - accuracy: 0.8399 - val_loss: 0.3798 - val_accuracy: 0.8492\n",
      "Epoch 196/500\n",
      "12/12 [==============================] - 0s 3ms/step - loss: 0.3998 - accuracy: 0.8357 - val_loss: 0.3824 - val_accuracy: 0.8603\n",
      "Epoch 197/500\n",
      "12/12 [==============================] - 0s 4ms/step - loss: 0.4052 - accuracy: 0.8301 - val_loss: 0.3816 - val_accuracy: 0.8547\n",
      "Epoch 198/500\n",
      "12/12 [==============================] - 0s 3ms/step - loss: 0.3960 - accuracy: 0.8469 - val_loss: 0.3872 - val_accuracy: 0.8547\n",
      "Epoch 199/500\n",
      "12/12 [==============================] - 0s 2ms/step - loss: 0.3933 - accuracy: 0.8329 - val_loss: 0.3787 - val_accuracy: 0.8547\n",
      "Epoch 200/500\n",
      "12/12 [==============================] - 0s 2ms/step - loss: 0.3900 - accuracy: 0.8343 - val_loss: 0.3781 - val_accuracy: 0.8603\n",
      "Epoch 201/500\n",
      "12/12 [==============================] - 0s 2ms/step - loss: 0.4051 - accuracy: 0.8272 - val_loss: 0.3780 - val_accuracy: 0.8547\n",
      "Epoch 202/500\n",
      "12/12 [==============================] - 0s 2ms/step - loss: 0.3926 - accuracy: 0.8385 - val_loss: 0.3732 - val_accuracy: 0.8492\n",
      "Epoch 203/500\n",
      "12/12 [==============================] - 0s 2ms/step - loss: 0.4018 - accuracy: 0.8272 - val_loss: 0.3811 - val_accuracy: 0.8492\n",
      "Epoch 204/500\n",
      "12/12 [==============================] - 0s 2ms/step - loss: 0.3955 - accuracy: 0.8315 - val_loss: 0.3846 - val_accuracy: 0.8492\n",
      "Epoch 205/500\n",
      "12/12 [==============================] - 0s 2ms/step - loss: 0.3926 - accuracy: 0.8413 - val_loss: 0.3868 - val_accuracy: 0.8547\n",
      "Epoch 206/500\n",
      "12/12 [==============================] - 0s 2ms/step - loss: 0.3948 - accuracy: 0.8385 - val_loss: 0.3805 - val_accuracy: 0.8603\n",
      "Epoch 207/500\n",
      "12/12 [==============================] - 0s 2ms/step - loss: 0.3884 - accuracy: 0.8315 - val_loss: 0.3815 - val_accuracy: 0.8603\n",
      "Epoch 208/500\n",
      "12/12 [==============================] - 0s 2ms/step - loss: 0.4031 - accuracy: 0.8329 - val_loss: 0.3820 - val_accuracy: 0.8547\n",
      "Epoch 209/500\n",
      "12/12 [==============================] - 0s 2ms/step - loss: 0.3995 - accuracy: 0.8287 - val_loss: 0.3796 - val_accuracy: 0.8436\n",
      "Epoch 210/500\n",
      "12/12 [==============================] - 0s 3ms/step - loss: 0.3904 - accuracy: 0.8343 - val_loss: 0.3821 - val_accuracy: 0.8492\n",
      "Epoch 211/500\n",
      "12/12 [==============================] - 0s 3ms/step - loss: 0.4012 - accuracy: 0.8244 - val_loss: 0.3835 - val_accuracy: 0.8436\n",
      "Epoch 212/500\n",
      "12/12 [==============================] - 0s 3ms/step - loss: 0.4112 - accuracy: 0.8315 - val_loss: 0.3846 - val_accuracy: 0.8492\n",
      "Epoch 213/500\n",
      "12/12 [==============================] - 0s 2ms/step - loss: 0.4017 - accuracy: 0.8315 - val_loss: 0.3827 - val_accuracy: 0.8436\n",
      "Epoch 214/500\n",
      "12/12 [==============================] - 0s 2ms/step - loss: 0.4098 - accuracy: 0.8216 - val_loss: 0.3925 - val_accuracy: 0.8492\n",
      "Epoch 215/500\n",
      "12/12 [==============================] - 0s 2ms/step - loss: 0.3945 - accuracy: 0.8413 - val_loss: 0.3838 - val_accuracy: 0.8436\n",
      "Epoch 216/500\n",
      "12/12 [==============================] - 0s 3ms/step - loss: 0.3924 - accuracy: 0.8329 - val_loss: 0.3786 - val_accuracy: 0.8547\n",
      "Epoch 217/500\n",
      "12/12 [==============================] - 0s 2ms/step - loss: 0.3991 - accuracy: 0.8329 - val_loss: 0.3756 - val_accuracy: 0.8492\n",
      "Epoch 218/500\n",
      "12/12 [==============================] - 0s 2ms/step - loss: 0.3895 - accuracy: 0.8371 - val_loss: 0.3735 - val_accuracy: 0.8436\n",
      "Epoch 219/500\n",
      "12/12 [==============================] - 0s 2ms/step - loss: 0.4042 - accuracy: 0.8343 - val_loss: 0.3781 - val_accuracy: 0.8492\n",
      "Epoch 220/500\n",
      "12/12 [==============================] - 0s 2ms/step - loss: 0.3955 - accuracy: 0.8272 - val_loss: 0.3807 - val_accuracy: 0.8492\n",
      "Epoch 221/500\n",
      "12/12 [==============================] - 0s 3ms/step - loss: 0.3978 - accuracy: 0.8258 - val_loss: 0.3795 - val_accuracy: 0.8436\n",
      "Epoch 222/500\n",
      "12/12 [==============================] - 0s 3ms/step - loss: 0.3819 - accuracy: 0.8413 - val_loss: 0.3759 - val_accuracy: 0.8492\n",
      "Epoch 223/500\n",
      "12/12 [==============================] - 0s 2ms/step - loss: 0.3918 - accuracy: 0.8272 - val_loss: 0.3741 - val_accuracy: 0.8436\n",
      "Epoch 224/500\n",
      "12/12 [==============================] - 0s 2ms/step - loss: 0.3954 - accuracy: 0.8230 - val_loss: 0.3777 - val_accuracy: 0.8492\n",
      "Epoch 225/500\n",
      "12/12 [==============================] - 0s 3ms/step - loss: 0.3977 - accuracy: 0.8272 - val_loss: 0.3889 - val_accuracy: 0.8436\n",
      "Epoch 226/500\n",
      "12/12 [==============================] - 0s 3ms/step - loss: 0.3946 - accuracy: 0.8371 - val_loss: 0.3834 - val_accuracy: 0.8436\n",
      "Epoch 227/500\n",
      "12/12 [==============================] - 0s 3ms/step - loss: 0.3921 - accuracy: 0.8343 - val_loss: 0.3760 - val_accuracy: 0.8436\n",
      "Epoch 228/500\n",
      "12/12 [==============================] - 0s 2ms/step - loss: 0.3918 - accuracy: 0.8371 - val_loss: 0.3751 - val_accuracy: 0.8547\n",
      "Epoch 229/500\n",
      "12/12 [==============================] - 0s 2ms/step - loss: 0.3968 - accuracy: 0.8329 - val_loss: 0.3841 - val_accuracy: 0.8492\n",
      "Epoch 230/500\n"
     ]
    },
    {
     "name": "stdout",
     "output_type": "stream",
     "text": [
      "12/12 [==============================] - 0s 3ms/step - loss: 0.3983 - accuracy: 0.8301 - val_loss: 0.3844 - val_accuracy: 0.8547\n",
      "Epoch 231/500\n",
      "12/12 [==============================] - 0s 2ms/step - loss: 0.3925 - accuracy: 0.8301 - val_loss: 0.3789 - val_accuracy: 0.8436\n",
      "Epoch 232/500\n",
      "12/12 [==============================] - 0s 2ms/step - loss: 0.4012 - accuracy: 0.8343 - val_loss: 0.3797 - val_accuracy: 0.8436\n",
      "Epoch 233/500\n",
      "12/12 [==============================] - 0s 2ms/step - loss: 0.3948 - accuracy: 0.8385 - val_loss: 0.3866 - val_accuracy: 0.8492\n",
      "Epoch 234/500\n",
      "12/12 [==============================] - 0s 2ms/step - loss: 0.3951 - accuracy: 0.8343 - val_loss: 0.3783 - val_accuracy: 0.8492\n",
      "Epoch 235/500\n",
      "12/12 [==============================] - 0s 3ms/step - loss: 0.3913 - accuracy: 0.8315 - val_loss: 0.3833 - val_accuracy: 0.8436\n",
      "Epoch 236/500\n",
      "12/12 [==============================] - 0s 3ms/step - loss: 0.4049 - accuracy: 0.8287 - val_loss: 0.3801 - val_accuracy: 0.8547\n",
      "Epoch 237/500\n",
      "12/12 [==============================] - 0s 2ms/step - loss: 0.3872 - accuracy: 0.8441 - val_loss: 0.3800 - val_accuracy: 0.8547\n",
      "Epoch 238/500\n",
      "12/12 [==============================] - 0s 2ms/step - loss: 0.4062 - accuracy: 0.8315 - val_loss: 0.3765 - val_accuracy: 0.8492\n",
      "Epoch 239/500\n",
      "12/12 [==============================] - 0s 3ms/step - loss: 0.4077 - accuracy: 0.8329 - val_loss: 0.3785 - val_accuracy: 0.8380\n",
      "Epoch 240/500\n",
      "12/12 [==============================] - 0s 3ms/step - loss: 0.3922 - accuracy: 0.8272 - val_loss: 0.3830 - val_accuracy: 0.8492\n",
      "Epoch 241/500\n",
      "12/12 [==============================] - 0s 3ms/step - loss: 0.3938 - accuracy: 0.8287 - val_loss: 0.3848 - val_accuracy: 0.8492\n",
      "Epoch 242/500\n",
      "12/12 [==============================] - 0s 3ms/step - loss: 0.3898 - accuracy: 0.8343 - val_loss: 0.3843 - val_accuracy: 0.8436\n",
      "Epoch 243/500\n",
      "12/12 [==============================] - 0s 4ms/step - loss: 0.3850 - accuracy: 0.8413 - val_loss: 0.3780 - val_accuracy: 0.8492\n",
      "Epoch 244/500\n",
      "12/12 [==============================] - 0s 3ms/step - loss: 0.3812 - accuracy: 0.8315 - val_loss: 0.3794 - val_accuracy: 0.8492\n",
      "Epoch 245/500\n",
      "12/12 [==============================] - 0s 2ms/step - loss: 0.4021 - accuracy: 0.8385 - val_loss: 0.3767 - val_accuracy: 0.8492\n",
      "Epoch 246/500\n",
      "12/12 [==============================] - 0s 2ms/step - loss: 0.3838 - accuracy: 0.8371 - val_loss: 0.3789 - val_accuracy: 0.8436\n",
      "Epoch 247/500\n",
      "12/12 [==============================] - 0s 2ms/step - loss: 0.3925 - accuracy: 0.8427 - val_loss: 0.3854 - val_accuracy: 0.8492\n",
      "Epoch 248/500\n",
      "12/12 [==============================] - 0s 2ms/step - loss: 0.3938 - accuracy: 0.8343 - val_loss: 0.3913 - val_accuracy: 0.8492\n",
      "Epoch 249/500\n",
      "12/12 [==============================] - 0s 3ms/step - loss: 0.3981 - accuracy: 0.8315 - val_loss: 0.3780 - val_accuracy: 0.8436\n",
      "Epoch 250/500\n",
      "12/12 [==============================] - 0s 2ms/step - loss: 0.3868 - accuracy: 0.8371 - val_loss: 0.3801 - val_accuracy: 0.8492\n",
      "Epoch 251/500\n",
      "12/12 [==============================] - 0s 2ms/step - loss: 0.3977 - accuracy: 0.8357 - val_loss: 0.3808 - val_accuracy: 0.8547\n",
      "Epoch 252/500\n",
      "12/12 [==============================] - 0s 2ms/step - loss: 0.3846 - accuracy: 0.8399 - val_loss: 0.3821 - val_accuracy: 0.8436\n",
      "Epoch 253/500\n",
      "12/12 [==============================] - 0s 3ms/step - loss: 0.3891 - accuracy: 0.8399 - val_loss: 0.3810 - val_accuracy: 0.8547\n",
      "Epoch 254/500\n",
      "12/12 [==============================] - 0s 2ms/step - loss: 0.3775 - accuracy: 0.8329 - val_loss: 0.3796 - val_accuracy: 0.8492\n",
      "Epoch 255/500\n",
      "12/12 [==============================] - 0s 2ms/step - loss: 0.3850 - accuracy: 0.8329 - val_loss: 0.3743 - val_accuracy: 0.8492\n",
      "Epoch 256/500\n",
      "12/12 [==============================] - 0s 2ms/step - loss: 0.3747 - accuracy: 0.8385 - val_loss: 0.3748 - val_accuracy: 0.8547\n",
      "Epoch 257/500\n",
      "12/12 [==============================] - 0s 2ms/step - loss: 0.3906 - accuracy: 0.8371 - val_loss: 0.3757 - val_accuracy: 0.8547\n",
      "Epoch 258/500\n",
      "12/12 [==============================] - 0s 3ms/step - loss: 0.3838 - accuracy: 0.8441 - val_loss: 0.3751 - val_accuracy: 0.8547\n",
      "Epoch 259/500\n",
      "12/12 [==============================] - 0s 2ms/step - loss: 0.3849 - accuracy: 0.8399 - val_loss: 0.3716 - val_accuracy: 0.8547\n",
      "Epoch 260/500\n",
      "12/12 [==============================] - 0s 2ms/step - loss: 0.4021 - accuracy: 0.8329 - val_loss: 0.3741 - val_accuracy: 0.8547\n",
      "Epoch 261/500\n",
      "12/12 [==============================] - 0s 2ms/step - loss: 0.3832 - accuracy: 0.8469 - val_loss: 0.3810 - val_accuracy: 0.8547\n",
      "Epoch 262/500\n",
      "12/12 [==============================] - 0s 2ms/step - loss: 0.3921 - accuracy: 0.8399 - val_loss: 0.3817 - val_accuracy: 0.8547\n",
      "Epoch 263/500\n",
      "12/12 [==============================] - 0s 2ms/step - loss: 0.3837 - accuracy: 0.8469 - val_loss: 0.3943 - val_accuracy: 0.8380\n",
      "Epoch 264/500\n",
      "12/12 [==============================] - 0s 2ms/step - loss: 0.3953 - accuracy: 0.8315 - val_loss: 0.3918 - val_accuracy: 0.8547\n",
      "Epoch 265/500\n",
      "12/12 [==============================] - 0s 3ms/step - loss: 0.3911 - accuracy: 0.8385 - val_loss: 0.3830 - val_accuracy: 0.8436\n",
      "Epoch 266/500\n",
      "12/12 [==============================] - 0s 2ms/step - loss: 0.3776 - accuracy: 0.8329 - val_loss: 0.3819 - val_accuracy: 0.8436\n",
      "Epoch 267/500\n",
      "12/12 [==============================] - 0s 2ms/step - loss: 0.3897 - accuracy: 0.8413 - val_loss: 0.3827 - val_accuracy: 0.8436\n",
      "Epoch 268/500\n",
      "12/12 [==============================] - 0s 2ms/step - loss: 0.3934 - accuracy: 0.8343 - val_loss: 0.3846 - val_accuracy: 0.8492\n",
      "Epoch 269/500\n",
      "12/12 [==============================] - 0s 2ms/step - loss: 0.3872 - accuracy: 0.8287 - val_loss: 0.3800 - val_accuracy: 0.8436\n",
      "Epoch 270/500\n",
      "12/12 [==============================] - 0s 2ms/step - loss: 0.3931 - accuracy: 0.8357 - val_loss: 0.3770 - val_accuracy: 0.8436\n",
      "Epoch 271/500\n",
      "12/12 [==============================] - 0s 2ms/step - loss: 0.3914 - accuracy: 0.8357 - val_loss: 0.3815 - val_accuracy: 0.8492\n",
      "Epoch 272/500\n",
      "12/12 [==============================] - 0s 2ms/step - loss: 0.3896 - accuracy: 0.8329 - val_loss: 0.3776 - val_accuracy: 0.8547\n",
      "Epoch 273/500\n",
      "12/12 [==============================] - 0s 2ms/step - loss: 0.3815 - accuracy: 0.8371 - val_loss: 0.3747 - val_accuracy: 0.8492\n",
      "Epoch 274/500\n",
      "12/12 [==============================] - 0s 2ms/step - loss: 0.3908 - accuracy: 0.8385 - val_loss: 0.3774 - val_accuracy: 0.8547\n",
      "Epoch 275/500\n",
      "12/12 [==============================] - 0s 2ms/step - loss: 0.3750 - accuracy: 0.8483 - val_loss: 0.3760 - val_accuracy: 0.8547\n",
      "Epoch 276/500\n",
      "12/12 [==============================] - 0s 2ms/step - loss: 0.3951 - accuracy: 0.8441 - val_loss: 0.3752 - val_accuracy: 0.8547\n",
      "Epoch 277/500\n",
      "12/12 [==============================] - 0s 2ms/step - loss: 0.3937 - accuracy: 0.8371 - val_loss: 0.3768 - val_accuracy: 0.8492\n",
      "Epoch 278/500\n",
      "12/12 [==============================] - 0s 4ms/step - loss: 0.3810 - accuracy: 0.8427 - val_loss: 0.3805 - val_accuracy: 0.8492\n",
      "Epoch 279/500\n",
      "12/12 [==============================] - 0s 3ms/step - loss: 0.3802 - accuracy: 0.8385 - val_loss: 0.3782 - val_accuracy: 0.8547\n",
      "Epoch 280/500\n",
      "12/12 [==============================] - 0s 3ms/step - loss: 0.3803 - accuracy: 0.8427 - val_loss: 0.3818 - val_accuracy: 0.8492\n",
      "Epoch 281/500\n",
      "12/12 [==============================] - 0s 3ms/step - loss: 0.3791 - accuracy: 0.8455 - val_loss: 0.3796 - val_accuracy: 0.8492\n",
      "Epoch 282/500\n",
      "12/12 [==============================] - 0s 4ms/step - loss: 0.3790 - accuracy: 0.8343 - val_loss: 0.3783 - val_accuracy: 0.8492\n",
      "Epoch 283/500\n",
      "12/12 [==============================] - 0s 3ms/step - loss: 0.3892 - accuracy: 0.8413 - val_loss: 0.3737 - val_accuracy: 0.8492\n",
      "Epoch 284/500\n",
      "12/12 [==============================] - 0s 2ms/step - loss: 0.3759 - accuracy: 0.8455 - val_loss: 0.3781 - val_accuracy: 0.8492\n",
      "Epoch 285/500\n",
      "12/12 [==============================] - 0s 2ms/step - loss: 0.3778 - accuracy: 0.8483 - val_loss: 0.3766 - val_accuracy: 0.8547\n",
      "Epoch 286/500\n",
      "12/12 [==============================] - 0s 2ms/step - loss: 0.3822 - accuracy: 0.8455 - val_loss: 0.3746 - val_accuracy: 0.8492\n",
      "Epoch 287/500\n"
     ]
    },
    {
     "name": "stdout",
     "output_type": "stream",
     "text": [
      "12/12 [==============================] - 0s 2ms/step - loss: 0.3809 - accuracy: 0.8385 - val_loss: 0.3786 - val_accuracy: 0.8603\n",
      "Epoch 288/500\n",
      "12/12 [==============================] - 0s 2ms/step - loss: 0.3890 - accuracy: 0.8399 - val_loss: 0.3712 - val_accuracy: 0.8547\n",
      "Epoch 289/500\n",
      "12/12 [==============================] - 0s 2ms/step - loss: 0.3882 - accuracy: 0.8511 - val_loss: 0.3758 - val_accuracy: 0.8547\n",
      "Epoch 290/500\n",
      "12/12 [==============================] - 0s 2ms/step - loss: 0.3920 - accuracy: 0.8329 - val_loss: 0.3746 - val_accuracy: 0.8603\n",
      "Epoch 291/500\n",
      "12/12 [==============================] - 0s 3ms/step - loss: 0.3887 - accuracy: 0.8441 - val_loss: 0.3790 - val_accuracy: 0.8603\n",
      "Epoch 292/500\n",
      "12/12 [==============================] - 0s 2ms/step - loss: 0.3753 - accuracy: 0.8441 - val_loss: 0.3817 - val_accuracy: 0.8436\n",
      "Epoch 293/500\n",
      "12/12 [==============================] - 0s 2ms/step - loss: 0.3946 - accuracy: 0.8343 - val_loss: 0.3790 - val_accuracy: 0.8492\n",
      "Epoch 294/500\n",
      "12/12 [==============================] - 0s 2ms/step - loss: 0.3820 - accuracy: 0.8357 - val_loss: 0.3725 - val_accuracy: 0.8547\n",
      "Epoch 295/500\n",
      "12/12 [==============================] - 0s 2ms/step - loss: 0.3910 - accuracy: 0.8371 - val_loss: 0.3783 - val_accuracy: 0.8492\n",
      "Epoch 296/500\n",
      "12/12 [==============================] - 0s 2ms/step - loss: 0.3810 - accuracy: 0.8371 - val_loss: 0.3732 - val_accuracy: 0.8603\n",
      "Epoch 297/500\n",
      "12/12 [==============================] - 0s 2ms/step - loss: 0.3768 - accuracy: 0.8413 - val_loss: 0.3765 - val_accuracy: 0.8492\n",
      "Epoch 298/500\n",
      "12/12 [==============================] - 0s 2ms/step - loss: 0.3841 - accuracy: 0.8357 - val_loss: 0.3798 - val_accuracy: 0.8492\n",
      "Epoch 299/500\n",
      "12/12 [==============================] - 0s 2ms/step - loss: 0.3865 - accuracy: 0.8343 - val_loss: 0.3787 - val_accuracy: 0.8547\n",
      "Epoch 300/500\n",
      "12/12 [==============================] - 0s 3ms/step - loss: 0.3703 - accuracy: 0.8469 - val_loss: 0.3794 - val_accuracy: 0.8547\n",
      "Epoch 301/500\n",
      "12/12 [==============================] - 0s 2ms/step - loss: 0.3743 - accuracy: 0.8357 - val_loss: 0.3744 - val_accuracy: 0.8547\n",
      "Epoch 302/500\n",
      "12/12 [==============================] - 0s 2ms/step - loss: 0.3912 - accuracy: 0.8357 - val_loss: 0.3773 - val_accuracy: 0.8492\n",
      "Epoch 303/500\n",
      "12/12 [==============================] - 0s 2ms/step - loss: 0.3763 - accuracy: 0.8469 - val_loss: 0.3727 - val_accuracy: 0.8492\n",
      "Epoch 304/500\n",
      "12/12 [==============================] - 0s 2ms/step - loss: 0.3809 - accuracy: 0.8413 - val_loss: 0.3785 - val_accuracy: 0.8492\n",
      "Epoch 305/500\n",
      "12/12 [==============================] - 0s 2ms/step - loss: 0.3831 - accuracy: 0.8371 - val_loss: 0.3781 - val_accuracy: 0.8492\n",
      "Epoch 306/500\n",
      "12/12 [==============================] - 0s 3ms/step - loss: 0.3752 - accuracy: 0.8497 - val_loss: 0.3922 - val_accuracy: 0.8436\n",
      "Epoch 307/500\n",
      "12/12 [==============================] - 0s 2ms/step - loss: 0.3845 - accuracy: 0.8315 - val_loss: 0.3810 - val_accuracy: 0.8547\n",
      "Epoch 308/500\n",
      "12/12 [==============================] - 0s 3ms/step - loss: 0.3820 - accuracy: 0.8427 - val_loss: 0.3822 - val_accuracy: 0.8547\n",
      "Epoch 309/500\n",
      "12/12 [==============================] - 0s 3ms/step - loss: 0.3862 - accuracy: 0.8441 - val_loss: 0.3825 - val_accuracy: 0.8492\n",
      "Epoch 310/500\n",
      "12/12 [==============================] - 0s 2ms/step - loss: 0.3750 - accuracy: 0.8455 - val_loss: 0.3813 - val_accuracy: 0.8547\n",
      "Epoch 311/500\n",
      "12/12 [==============================] - 0s 3ms/step - loss: 0.3727 - accuracy: 0.8469 - val_loss: 0.3854 - val_accuracy: 0.8492\n",
      "Epoch 312/500\n",
      "12/12 [==============================] - 0s 3ms/step - loss: 0.3743 - accuracy: 0.8511 - val_loss: 0.3811 - val_accuracy: 0.8492\n",
      "Epoch 313/500\n",
      "12/12 [==============================] - 0s 3ms/step - loss: 0.3793 - accuracy: 0.8399 - val_loss: 0.3796 - val_accuracy: 0.8547\n",
      "Epoch 314/500\n",
      "12/12 [==============================] - 0s 3ms/step - loss: 0.3810 - accuracy: 0.8441 - val_loss: 0.3811 - val_accuracy: 0.8492\n",
      "Epoch 315/500\n",
      "12/12 [==============================] - 0s 2ms/step - loss: 0.3770 - accuracy: 0.8469 - val_loss: 0.3807 - val_accuracy: 0.8547\n",
      "Epoch 316/500\n",
      "12/12 [==============================] - 0s 2ms/step - loss: 0.3832 - accuracy: 0.8455 - val_loss: 0.3797 - val_accuracy: 0.8547\n",
      "Epoch 317/500\n",
      "12/12 [==============================] - 0s 2ms/step - loss: 0.3658 - accuracy: 0.8385 - val_loss: 0.3783 - val_accuracy: 0.8492\n",
      "Epoch 318/500\n",
      "12/12 [==============================] - 0s 2ms/step - loss: 0.3731 - accuracy: 0.8455 - val_loss: 0.3827 - val_accuracy: 0.8547\n",
      "Epoch 319/500\n",
      "12/12 [==============================] - 0s 2ms/step - loss: 0.3720 - accuracy: 0.8413 - val_loss: 0.3795 - val_accuracy: 0.8492\n",
      "Epoch 320/500\n",
      "12/12 [==============================] - 0s 3ms/step - loss: 0.3727 - accuracy: 0.8427 - val_loss: 0.3826 - val_accuracy: 0.8492\n",
      "Epoch 321/500\n",
      "12/12 [==============================] - 0s 2ms/step - loss: 0.3795 - accuracy: 0.8455 - val_loss: 0.3834 - val_accuracy: 0.8492\n",
      "Epoch 322/500\n",
      "12/12 [==============================] - 0s 2ms/step - loss: 0.3748 - accuracy: 0.8497 - val_loss: 0.3790 - val_accuracy: 0.8492\n",
      "Epoch 323/500\n",
      "12/12 [==============================] - 0s 2ms/step - loss: 0.3700 - accuracy: 0.8399 - val_loss: 0.3785 - val_accuracy: 0.8492\n",
      "Epoch 324/500\n",
      "12/12 [==============================] - 0s 2ms/step - loss: 0.3685 - accuracy: 0.8399 - val_loss: 0.3809 - val_accuracy: 0.8492\n",
      "Epoch 325/500\n",
      "12/12 [==============================] - 0s 2ms/step - loss: 0.3833 - accuracy: 0.8441 - val_loss: 0.3719 - val_accuracy: 0.8492\n",
      "Epoch 326/500\n",
      "12/12 [==============================] - 0s 2ms/step - loss: 0.3703 - accuracy: 0.8469 - val_loss: 0.3748 - val_accuracy: 0.8547\n",
      "Epoch 327/500\n",
      "12/12 [==============================] - 0s 3ms/step - loss: 0.3866 - accuracy: 0.8427 - val_loss: 0.3816 - val_accuracy: 0.8547\n",
      "Epoch 328/500\n",
      "12/12 [==============================] - 0s 3ms/step - loss: 0.3756 - accuracy: 0.8371 - val_loss: 0.3812 - val_accuracy: 0.8547\n",
      "Epoch 329/500\n",
      "12/12 [==============================] - 0s 2ms/step - loss: 0.3778 - accuracy: 0.8385 - val_loss: 0.3762 - val_accuracy: 0.8547\n",
      "Epoch 330/500\n",
      "12/12 [==============================] - 0s 2ms/step - loss: 0.3666 - accuracy: 0.8483 - val_loss: 0.3787 - val_accuracy: 0.8492\n",
      "Epoch 331/500\n",
      "12/12 [==============================] - 0s 3ms/step - loss: 0.3778 - accuracy: 0.8399 - val_loss: 0.3705 - val_accuracy: 0.8547\n",
      "Epoch 332/500\n",
      "12/12 [==============================] - 0s 3ms/step - loss: 0.3770 - accuracy: 0.8357 - val_loss: 0.3756 - val_accuracy: 0.8492\n",
      "Epoch 333/500\n",
      "12/12 [==============================] - 0s 2ms/step - loss: 0.3774 - accuracy: 0.8539 - val_loss: 0.3813 - val_accuracy: 0.8547\n",
      "Epoch 334/500\n",
      "12/12 [==============================] - 0s 2ms/step - loss: 0.3681 - accuracy: 0.8455 - val_loss: 0.3802 - val_accuracy: 0.8492\n",
      "Epoch 335/500\n",
      "12/12 [==============================] - 0s 2ms/step - loss: 0.3779 - accuracy: 0.8413 - val_loss: 0.3778 - val_accuracy: 0.8436\n",
      "Epoch 336/500\n",
      "12/12 [==============================] - 0s 2ms/step - loss: 0.3792 - accuracy: 0.8483 - val_loss: 0.3812 - val_accuracy: 0.8492\n",
      "Epoch 337/500\n",
      "12/12 [==============================] - 0s 2ms/step - loss: 0.3835 - accuracy: 0.8399 - val_loss: 0.3825 - val_accuracy: 0.8547\n",
      "Epoch 338/500\n",
      "12/12 [==============================] - 0s 3ms/step - loss: 0.3763 - accuracy: 0.8539 - val_loss: 0.3852 - val_accuracy: 0.8492\n",
      "Epoch 339/500\n",
      "12/12 [==============================] - 0s 2ms/step - loss: 0.3752 - accuracy: 0.8497 - val_loss: 0.3786 - val_accuracy: 0.8492\n",
      "Epoch 340/500\n",
      "12/12 [==============================] - 0s 2ms/step - loss: 0.3752 - accuracy: 0.8497 - val_loss: 0.3807 - val_accuracy: 0.8603\n",
      "Epoch 341/500\n",
      "12/12 [==============================] - 0s 3ms/step - loss: 0.3777 - accuracy: 0.8441 - val_loss: 0.3739 - val_accuracy: 0.8492\n",
      "Epoch 342/500\n",
      "12/12 [==============================] - 0s 2ms/step - loss: 0.3711 - accuracy: 0.8455 - val_loss: 0.3762 - val_accuracy: 0.8547\n",
      "Epoch 343/500\n",
      "12/12 [==============================] - 0s 2ms/step - loss: 0.3885 - accuracy: 0.8413 - val_loss: 0.3751 - val_accuracy: 0.8547\n",
      "Epoch 344/500\n"
     ]
    },
    {
     "name": "stdout",
     "output_type": "stream",
     "text": [
      "12/12 [==============================] - 0s 3ms/step - loss: 0.3919 - accuracy: 0.8272 - val_loss: 0.3786 - val_accuracy: 0.8603\n",
      "Epoch 345/500\n",
      "12/12 [==============================] - 0s 2ms/step - loss: 0.3782 - accuracy: 0.8371 - val_loss: 0.3788 - val_accuracy: 0.8547\n",
      "Epoch 346/500\n",
      "12/12 [==============================] - 0s 2ms/step - loss: 0.3782 - accuracy: 0.8427 - val_loss: 0.3744 - val_accuracy: 0.8547\n",
      "Epoch 347/500\n",
      "12/12 [==============================] - 0s 2ms/step - loss: 0.3846 - accuracy: 0.8399 - val_loss: 0.3737 - val_accuracy: 0.8603\n",
      "Epoch 348/500\n",
      "12/12 [==============================] - 0s 2ms/step - loss: 0.3762 - accuracy: 0.8497 - val_loss: 0.3760 - val_accuracy: 0.8603\n",
      "Epoch 349/500\n",
      "12/12 [==============================] - 0s 2ms/step - loss: 0.3716 - accuracy: 0.8427 - val_loss: 0.3840 - val_accuracy: 0.8547\n",
      "Epoch 350/500\n",
      "12/12 [==============================] - 0s 3ms/step - loss: 0.3650 - accuracy: 0.8497 - val_loss: 0.3881 - val_accuracy: 0.8436\n",
      "Epoch 351/500\n",
      "12/12 [==============================] - 0s 2ms/step - loss: 0.3731 - accuracy: 0.8385 - val_loss: 0.3791 - val_accuracy: 0.8492\n",
      "Epoch 352/500\n",
      "12/12 [==============================] - 0s 3ms/step - loss: 0.3708 - accuracy: 0.8399 - val_loss: 0.3828 - val_accuracy: 0.8492\n",
      "Epoch 353/500\n",
      "12/12 [==============================] - 0s 2ms/step - loss: 0.3691 - accuracy: 0.8511 - val_loss: 0.3916 - val_accuracy: 0.8436\n",
      "Epoch 354/500\n",
      "12/12 [==============================] - 0s 2ms/step - loss: 0.3597 - accuracy: 0.8525 - val_loss: 0.3833 - val_accuracy: 0.8492\n",
      "Epoch 355/500\n",
      "12/12 [==============================] - 0s 2ms/step - loss: 0.3742 - accuracy: 0.8441 - val_loss: 0.3842 - val_accuracy: 0.8547\n",
      "Epoch 356/500\n",
      "12/12 [==============================] - 0s 2ms/step - loss: 0.3744 - accuracy: 0.8413 - val_loss: 0.3838 - val_accuracy: 0.8492\n",
      "Epoch 357/500\n",
      "12/12 [==============================] - 0s 2ms/step - loss: 0.3723 - accuracy: 0.8441 - val_loss: 0.3824 - val_accuracy: 0.8547\n",
      "Epoch 358/500\n",
      "12/12 [==============================] - 0s 3ms/step - loss: 0.3616 - accuracy: 0.8455 - val_loss: 0.3790 - val_accuracy: 0.8492\n",
      "Epoch 359/500\n",
      "12/12 [==============================] - 0s 3ms/step - loss: 0.3700 - accuracy: 0.8455 - val_loss: 0.3821 - val_accuracy: 0.8603\n",
      "Epoch 360/500\n",
      "12/12 [==============================] - 0s 2ms/step - loss: 0.3658 - accuracy: 0.8469 - val_loss: 0.3860 - val_accuracy: 0.8547\n",
      "Epoch 361/500\n",
      "12/12 [==============================] - 0s 2ms/step - loss: 0.3659 - accuracy: 0.8427 - val_loss: 0.3794 - val_accuracy: 0.8492\n",
      "Epoch 362/500\n",
      "12/12 [==============================] - 0s 2ms/step - loss: 0.3676 - accuracy: 0.8469 - val_loss: 0.3789 - val_accuracy: 0.8603\n",
      "Epoch 363/500\n",
      "12/12 [==============================] - 0s 2ms/step - loss: 0.3580 - accuracy: 0.8497 - val_loss: 0.3794 - val_accuracy: 0.8547\n",
      "Epoch 364/500\n",
      "12/12 [==============================] - 0s 2ms/step - loss: 0.3665 - accuracy: 0.8497 - val_loss: 0.3876 - val_accuracy: 0.8603\n",
      "Epoch 365/500\n",
      "12/12 [==============================] - 0s 2ms/step - loss: 0.3712 - accuracy: 0.8427 - val_loss: 0.3871 - val_accuracy: 0.8547\n",
      "Epoch 366/500\n",
      "12/12 [==============================] - 0s 2ms/step - loss: 0.3714 - accuracy: 0.8469 - val_loss: 0.3826 - val_accuracy: 0.8547\n",
      "Epoch 367/500\n",
      "12/12 [==============================] - 0s 2ms/step - loss: 0.3760 - accuracy: 0.8371 - val_loss: 0.3807 - val_accuracy: 0.8492\n",
      "Epoch 368/500\n",
      "12/12 [==============================] - 0s 3ms/step - loss: 0.3752 - accuracy: 0.8399 - val_loss: 0.3840 - val_accuracy: 0.8547\n",
      "Epoch 369/500\n",
      "12/12 [==============================] - 0s 2ms/step - loss: 0.3701 - accuracy: 0.8455 - val_loss: 0.3809 - val_accuracy: 0.8547\n",
      "Epoch 370/500\n",
      "12/12 [==============================] - 0s 3ms/step - loss: 0.3613 - accuracy: 0.8539 - val_loss: 0.3849 - val_accuracy: 0.8547\n",
      "Epoch 371/500\n",
      "12/12 [==============================] - 0s 2ms/step - loss: 0.3708 - accuracy: 0.8427 - val_loss: 0.3913 - val_accuracy: 0.8492\n",
      "Epoch 372/500\n",
      "12/12 [==============================] - 0s 2ms/step - loss: 0.3749 - accuracy: 0.8399 - val_loss: 0.3849 - val_accuracy: 0.8547\n",
      "Epoch 373/500\n",
      "12/12 [==============================] - 0s 3ms/step - loss: 0.3698 - accuracy: 0.8469 - val_loss: 0.3870 - val_accuracy: 0.8603\n",
      "Epoch 374/500\n",
      "12/12 [==============================] - 0s 2ms/step - loss: 0.3616 - accuracy: 0.8357 - val_loss: 0.3783 - val_accuracy: 0.8492\n",
      "Epoch 375/500\n",
      "12/12 [==============================] - 0s 2ms/step - loss: 0.3674 - accuracy: 0.8385 - val_loss: 0.3775 - val_accuracy: 0.8547\n",
      "Epoch 376/500\n",
      "12/12 [==============================] - 0s 2ms/step - loss: 0.3619 - accuracy: 0.8539 - val_loss: 0.3807 - val_accuracy: 0.8436\n",
      "Epoch 377/500\n",
      "12/12 [==============================] - 0s 2ms/step - loss: 0.3572 - accuracy: 0.8539 - val_loss: 0.3779 - val_accuracy: 0.8436\n",
      "Epoch 378/500\n",
      "12/12 [==============================] - 0s 2ms/step - loss: 0.3621 - accuracy: 0.8469 - val_loss: 0.3740 - val_accuracy: 0.8603\n",
      "Epoch 379/500\n",
      "12/12 [==============================] - 0s 3ms/step - loss: 0.3591 - accuracy: 0.8427 - val_loss: 0.3811 - val_accuracy: 0.8436\n",
      "Epoch 380/500\n",
      "12/12 [==============================] - 0s 2ms/step - loss: 0.3688 - accuracy: 0.8469 - val_loss: 0.3968 - val_accuracy: 0.8492\n",
      "Epoch 381/500\n",
      "12/12 [==============================] - 0s 2ms/step - loss: 0.3796 - accuracy: 0.8385 - val_loss: 0.3812 - val_accuracy: 0.8492\n",
      "Epoch 382/500\n",
      "12/12 [==============================] - 0s 2ms/step - loss: 0.3710 - accuracy: 0.8525 - val_loss: 0.3834 - val_accuracy: 0.8492\n",
      "Epoch 383/500\n",
      "12/12 [==============================] - 0s 3ms/step - loss: 0.3667 - accuracy: 0.8427 - val_loss: 0.3883 - val_accuracy: 0.8492\n",
      "Epoch 384/500\n",
      "12/12 [==============================] - 0s 2ms/step - loss: 0.3783 - accuracy: 0.8399 - val_loss: 0.3844 - val_accuracy: 0.8547\n",
      "Epoch 385/500\n",
      "12/12 [==============================] - 0s 2ms/step - loss: 0.3602 - accuracy: 0.8553 - val_loss: 0.3873 - val_accuracy: 0.8492\n",
      "Epoch 386/500\n",
      "12/12 [==============================] - 0s 2ms/step - loss: 0.3780 - accuracy: 0.8413 - val_loss: 0.3792 - val_accuracy: 0.8603\n",
      "Epoch 387/500\n",
      "12/12 [==============================] - 0s 2ms/step - loss: 0.3807 - accuracy: 0.8427 - val_loss: 0.3809 - val_accuracy: 0.8436\n",
      "Epoch 388/500\n",
      "12/12 [==============================] - 0s 2ms/step - loss: 0.3773 - accuracy: 0.8301 - val_loss: 0.3871 - val_accuracy: 0.8492\n",
      "Epoch 389/500\n",
      "12/12 [==============================] - 0s 3ms/step - loss: 0.3671 - accuracy: 0.8385 - val_loss: 0.3816 - val_accuracy: 0.8603\n",
      "Epoch 390/500\n",
      "12/12 [==============================] - 0s 2ms/step - loss: 0.3822 - accuracy: 0.8343 - val_loss: 0.3868 - val_accuracy: 0.8547\n",
      "Epoch 391/500\n",
      "12/12 [==============================] - 0s 3ms/step - loss: 0.3670 - accuracy: 0.8539 - val_loss: 0.3839 - val_accuracy: 0.8492\n",
      "Epoch 392/500\n",
      "12/12 [==============================] - 0s 2ms/step - loss: 0.3723 - accuracy: 0.8441 - val_loss: 0.3819 - val_accuracy: 0.8492\n",
      "Epoch 393/500\n",
      "12/12 [==============================] - 0s 2ms/step - loss: 0.3712 - accuracy: 0.8441 - val_loss: 0.3901 - val_accuracy: 0.8547\n",
      "Epoch 394/500\n",
      "12/12 [==============================] - 0s 2ms/step - loss: 0.3553 - accuracy: 0.8553 - val_loss: 0.3837 - val_accuracy: 0.8492\n",
      "Epoch 395/500\n",
      "12/12 [==============================] - 0s 2ms/step - loss: 0.3679 - accuracy: 0.8427 - val_loss: 0.3877 - val_accuracy: 0.8492\n",
      "Epoch 396/500\n",
      "12/12 [==============================] - 0s 2ms/step - loss: 0.3642 - accuracy: 0.8371 - val_loss: 0.4032 - val_accuracy: 0.8492\n",
      "Epoch 397/500\n",
      "12/12 [==============================] - 0s 2ms/step - loss: 0.3729 - accuracy: 0.8469 - val_loss: 0.3973 - val_accuracy: 0.8547\n",
      "Epoch 398/500\n",
      "12/12 [==============================] - 0s 2ms/step - loss: 0.3693 - accuracy: 0.8399 - val_loss: 0.3941 - val_accuracy: 0.8492\n",
      "Epoch 399/500\n",
      "12/12 [==============================] - 0s 2ms/step - loss: 0.3630 - accuracy: 0.8483 - val_loss: 0.3928 - val_accuracy: 0.8492\n",
      "Epoch 400/500\n",
      "12/12 [==============================] - 0s 2ms/step - loss: 0.3723 - accuracy: 0.8413 - val_loss: 0.4008 - val_accuracy: 0.8547\n",
      "Epoch 401/500\n"
     ]
    },
    {
     "name": "stdout",
     "output_type": "stream",
     "text": [
      "12/12 [==============================] - 0s 2ms/step - loss: 0.3624 - accuracy: 0.8581 - val_loss: 0.3876 - val_accuracy: 0.8492\n",
      "Epoch 402/500\n",
      "12/12 [==============================] - 0s 2ms/step - loss: 0.3694 - accuracy: 0.8413 - val_loss: 0.3884 - val_accuracy: 0.8547\n",
      "Epoch 403/500\n",
      "12/12 [==============================] - 0s 2ms/step - loss: 0.3665 - accuracy: 0.8455 - val_loss: 0.4060 - val_accuracy: 0.8492\n",
      "Epoch 404/500\n",
      "12/12 [==============================] - 0s 2ms/step - loss: 0.3665 - accuracy: 0.8455 - val_loss: 0.3980 - val_accuracy: 0.8492\n",
      "Epoch 405/500\n",
      "12/12 [==============================] - 0s 2ms/step - loss: 0.3694 - accuracy: 0.8469 - val_loss: 0.3962 - val_accuracy: 0.8436\n",
      "Epoch 406/500\n",
      "12/12 [==============================] - 0s 2ms/step - loss: 0.3589 - accuracy: 0.8455 - val_loss: 0.3983 - val_accuracy: 0.8380\n",
      "Epoch 407/500\n",
      "12/12 [==============================] - 0s 2ms/step - loss: 0.3674 - accuracy: 0.8441 - val_loss: 0.3949 - val_accuracy: 0.8380\n",
      "Epoch 408/500\n",
      "12/12 [==============================] - 0s 2ms/step - loss: 0.3607 - accuracy: 0.8427 - val_loss: 0.3873 - val_accuracy: 0.8492\n",
      "Epoch 409/500\n",
      "12/12 [==============================] - 0s 2ms/step - loss: 0.3705 - accuracy: 0.8357 - val_loss: 0.3854 - val_accuracy: 0.8547\n",
      "Epoch 410/500\n",
      "12/12 [==============================] - 0s 3ms/step - loss: 0.3701 - accuracy: 0.8469 - val_loss: 0.3918 - val_accuracy: 0.8492\n",
      "Epoch 411/500\n",
      "12/12 [==============================] - 0s 3ms/step - loss: 0.3648 - accuracy: 0.8469 - val_loss: 0.3907 - val_accuracy: 0.8436\n",
      "Epoch 412/500\n",
      "12/12 [==============================] - 0s 3ms/step - loss: 0.3649 - accuracy: 0.8399 - val_loss: 0.3948 - val_accuracy: 0.8492\n",
      "Epoch 413/500\n",
      "12/12 [==============================] - 0s 3ms/step - loss: 0.3648 - accuracy: 0.8455 - val_loss: 0.3990 - val_accuracy: 0.8492\n",
      "Epoch 414/500\n",
      "12/12 [==============================] - 0s 2ms/step - loss: 0.3616 - accuracy: 0.8441 - val_loss: 0.3913 - val_accuracy: 0.8547\n",
      "Epoch 415/500\n",
      "12/12 [==============================] - 0s 2ms/step - loss: 0.3566 - accuracy: 0.8455 - val_loss: 0.3901 - val_accuracy: 0.8547\n",
      "Epoch 416/500\n",
      "12/12 [==============================] - 0s 3ms/step - loss: 0.3508 - accuracy: 0.8525 - val_loss: 0.3906 - val_accuracy: 0.8492\n",
      "Epoch 417/500\n",
      "12/12 [==============================] - 0s 2ms/step - loss: 0.3629 - accuracy: 0.8511 - val_loss: 0.3893 - val_accuracy: 0.8547\n",
      "Epoch 418/500\n",
      "12/12 [==============================] - 0s 3ms/step - loss: 0.3663 - accuracy: 0.8511 - val_loss: 0.3876 - val_accuracy: 0.8492\n",
      "Epoch 419/500\n",
      "12/12 [==============================] - 0s 4ms/step - loss: 0.3566 - accuracy: 0.8455 - val_loss: 0.3985 - val_accuracy: 0.8436\n",
      "Epoch 420/500\n",
      "12/12 [==============================] - 0s 4ms/step - loss: 0.3614 - accuracy: 0.8511 - val_loss: 0.3934 - val_accuracy: 0.8492\n",
      "Epoch 421/500\n",
      "12/12 [==============================] - 0s 3ms/step - loss: 0.3697 - accuracy: 0.8469 - val_loss: 0.3910 - val_accuracy: 0.8492\n",
      "Epoch 422/500\n",
      "12/12 [==============================] - 0s 2ms/step - loss: 0.3562 - accuracy: 0.8469 - val_loss: 0.3884 - val_accuracy: 0.8547\n",
      "Epoch 423/500\n",
      "12/12 [==============================] - 0s 3ms/step - loss: 0.3664 - accuracy: 0.8427 - val_loss: 0.3934 - val_accuracy: 0.8547\n",
      "Epoch 424/500\n",
      "12/12 [==============================] - 0s 3ms/step - loss: 0.3604 - accuracy: 0.8427 - val_loss: 0.3907 - val_accuracy: 0.8492\n",
      "Epoch 425/500\n",
      "12/12 [==============================] - 0s 2ms/step - loss: 0.3648 - accuracy: 0.8413 - val_loss: 0.3916 - val_accuracy: 0.8492\n",
      "Epoch 426/500\n",
      "12/12 [==============================] - 0s 2ms/step - loss: 0.3634 - accuracy: 0.8441 - val_loss: 0.3876 - val_accuracy: 0.8492\n",
      "Epoch 427/500\n",
      "12/12 [==============================] - 0s 2ms/step - loss: 0.3684 - accuracy: 0.8483 - val_loss: 0.3918 - val_accuracy: 0.8492\n",
      "Epoch 428/500\n",
      "12/12 [==============================] - 0s 2ms/step - loss: 0.3606 - accuracy: 0.8469 - val_loss: 0.3899 - val_accuracy: 0.8492\n",
      "Epoch 429/500\n",
      "12/12 [==============================] - 0s 2ms/step - loss: 0.3568 - accuracy: 0.8427 - val_loss: 0.3946 - val_accuracy: 0.8492\n",
      "Epoch 430/500\n",
      "12/12 [==============================] - 0s 2ms/step - loss: 0.3602 - accuracy: 0.8427 - val_loss: 0.3950 - val_accuracy: 0.8492\n",
      "Epoch 431/500\n",
      "12/12 [==============================] - 0s 2ms/step - loss: 0.3613 - accuracy: 0.8525 - val_loss: 0.3983 - val_accuracy: 0.8547\n",
      "Epoch 432/500\n",
      "12/12 [==============================] - 0s 3ms/step - loss: 0.3708 - accuracy: 0.8469 - val_loss: 0.3858 - val_accuracy: 0.8547\n",
      "Epoch 433/500\n",
      "12/12 [==============================] - 0s 3ms/step - loss: 0.3718 - accuracy: 0.8469 - val_loss: 0.3861 - val_accuracy: 0.8547\n",
      "Epoch 434/500\n",
      "12/12 [==============================] - 0s 3ms/step - loss: 0.3636 - accuracy: 0.8469 - val_loss: 0.3986 - val_accuracy: 0.8547\n",
      "Epoch 435/500\n",
      "12/12 [==============================] - 0s 2ms/step - loss: 0.3637 - accuracy: 0.8455 - val_loss: 0.3933 - val_accuracy: 0.8492\n",
      "Epoch 436/500\n",
      "12/12 [==============================] - 0s 2ms/step - loss: 0.3624 - accuracy: 0.8413 - val_loss: 0.3970 - val_accuracy: 0.8547\n",
      "Epoch 437/500\n",
      "12/12 [==============================] - 0s 2ms/step - loss: 0.3602 - accuracy: 0.8427 - val_loss: 0.3958 - val_accuracy: 0.8547\n",
      "Epoch 438/500\n",
      "12/12 [==============================] - 0s 2ms/step - loss: 0.3592 - accuracy: 0.8441 - val_loss: 0.4025 - val_accuracy: 0.8492\n",
      "Epoch 439/500\n",
      "12/12 [==============================] - 0s 2ms/step - loss: 0.3685 - accuracy: 0.8455 - val_loss: 0.3962 - val_accuracy: 0.8547\n",
      "Epoch 440/500\n",
      "12/12 [==============================] - 0s 4ms/step - loss: 0.3692 - accuracy: 0.8469 - val_loss: 0.4047 - val_accuracy: 0.8603\n",
      "Epoch 441/500\n",
      "12/12 [==============================] - 0s 2ms/step - loss: 0.3637 - accuracy: 0.8525 - val_loss: 0.4052 - val_accuracy: 0.8492\n",
      "Epoch 442/500\n",
      "12/12 [==============================] - 0s 2ms/step - loss: 0.3614 - accuracy: 0.8497 - val_loss: 0.4008 - val_accuracy: 0.8492\n",
      "Epoch 443/500\n",
      "12/12 [==============================] - 0s 2ms/step - loss: 0.3537 - accuracy: 0.8427 - val_loss: 0.3999 - val_accuracy: 0.8492\n",
      "Epoch 444/500\n",
      "12/12 [==============================] - 0s 2ms/step - loss: 0.3599 - accuracy: 0.8357 - val_loss: 0.4092 - val_accuracy: 0.8547\n",
      "Epoch 445/500\n",
      "12/12 [==============================] - 0s 2ms/step - loss: 0.3635 - accuracy: 0.8455 - val_loss: 0.4029 - val_accuracy: 0.8547\n",
      "Epoch 446/500\n",
      "12/12 [==============================] - 0s 3ms/step - loss: 0.3550 - accuracy: 0.8413 - val_loss: 0.4061 - val_accuracy: 0.8547\n",
      "Epoch 447/500\n",
      "12/12 [==============================] - 0s 2ms/step - loss: 0.3641 - accuracy: 0.8525 - val_loss: 0.4165 - val_accuracy: 0.8547\n",
      "Epoch 448/500\n",
      "12/12 [==============================] - 0s 2ms/step - loss: 0.3527 - accuracy: 0.8539 - val_loss: 0.4123 - val_accuracy: 0.8547\n",
      "Epoch 449/500\n",
      "12/12 [==============================] - 0s 2ms/step - loss: 0.3587 - accuracy: 0.8399 - val_loss: 0.4051 - val_accuracy: 0.8547\n",
      "Epoch 450/500\n",
      "12/12 [==============================] - 0s 2ms/step - loss: 0.3638 - accuracy: 0.8399 - val_loss: 0.4094 - val_accuracy: 0.8547\n",
      "Epoch 451/500\n",
      "12/12 [==============================] - 0s 3ms/step - loss: 0.3450 - accuracy: 0.8525 - val_loss: 0.4079 - val_accuracy: 0.8492\n",
      "Epoch 452/500\n",
      "12/12 [==============================] - 0s 2ms/step - loss: 0.3606 - accuracy: 0.8455 - val_loss: 0.4005 - val_accuracy: 0.8492\n",
      "Epoch 453/500\n",
      "12/12 [==============================] - 0s 4ms/step - loss: 0.3655 - accuracy: 0.8413 - val_loss: 0.3921 - val_accuracy: 0.8603\n",
      "Epoch 454/500\n",
      "12/12 [==============================] - 0s 2ms/step - loss: 0.3610 - accuracy: 0.8469 - val_loss: 0.3971 - val_accuracy: 0.8547\n",
      "Epoch 455/500\n",
      "12/12 [==============================] - 0s 2ms/step - loss: 0.3701 - accuracy: 0.8427 - val_loss: 0.3940 - val_accuracy: 0.8547\n",
      "Epoch 456/500\n",
      "12/12 [==============================] - 0s 2ms/step - loss: 0.3458 - accuracy: 0.8567 - val_loss: 0.3925 - val_accuracy: 0.8603\n",
      "Epoch 457/500\n",
      "12/12 [==============================] - 0s 2ms/step - loss: 0.3514 - accuracy: 0.8553 - val_loss: 0.4061 - val_accuracy: 0.8492\n",
      "Epoch 458/500\n"
     ]
    },
    {
     "name": "stdout",
     "output_type": "stream",
     "text": [
      "12/12 [==============================] - 0s 2ms/step - loss: 0.3692 - accuracy: 0.8329 - val_loss: 0.4035 - val_accuracy: 0.8547\n",
      "Epoch 459/500\n",
      "12/12 [==============================] - 0s 4ms/step - loss: 0.3537 - accuracy: 0.8539 - val_loss: 0.4061 - val_accuracy: 0.8492\n",
      "Epoch 460/500\n",
      "12/12 [==============================] - 0s 2ms/step - loss: 0.3521 - accuracy: 0.8497 - val_loss: 0.4068 - val_accuracy: 0.8547\n",
      "Epoch 461/500\n",
      "12/12 [==============================] - 0s 3ms/step - loss: 0.3555 - accuracy: 0.8497 - val_loss: 0.4048 - val_accuracy: 0.8492\n",
      "Epoch 462/500\n",
      "12/12 [==============================] - 0s 3ms/step - loss: 0.3692 - accuracy: 0.8511 - val_loss: 0.4024 - val_accuracy: 0.8436\n",
      "Epoch 463/500\n",
      "12/12 [==============================] - 0s 2ms/step - loss: 0.3611 - accuracy: 0.8455 - val_loss: 0.4113 - val_accuracy: 0.8492\n",
      "Epoch 464/500\n",
      "12/12 [==============================] - 0s 2ms/step - loss: 0.3602 - accuracy: 0.8455 - val_loss: 0.4054 - val_accuracy: 0.8436\n",
      "Epoch 465/500\n",
      "12/12 [==============================] - 0s 2ms/step - loss: 0.3533 - accuracy: 0.8567 - val_loss: 0.4074 - val_accuracy: 0.8492\n",
      "Epoch 466/500\n",
      "12/12 [==============================] - 0s 2ms/step - loss: 0.3530 - accuracy: 0.8497 - val_loss: 0.4078 - val_accuracy: 0.8436\n",
      "Epoch 467/500\n",
      "12/12 [==============================] - 0s 2ms/step - loss: 0.3632 - accuracy: 0.8553 - val_loss: 0.4064 - val_accuracy: 0.8436\n",
      "Epoch 468/500\n",
      "12/12 [==============================] - 0s 2ms/step - loss: 0.3524 - accuracy: 0.8525 - val_loss: 0.4093 - val_accuracy: 0.8436\n",
      "Epoch 469/500\n",
      "12/12 [==============================] - 0s 2ms/step - loss: 0.3487 - accuracy: 0.8596 - val_loss: 0.4091 - val_accuracy: 0.8436\n",
      "Epoch 470/500\n",
      "12/12 [==============================] - 0s 2ms/step - loss: 0.3536 - accuracy: 0.8455 - val_loss: 0.4108 - val_accuracy: 0.8436\n",
      "Epoch 471/500\n",
      "12/12 [==============================] - 0s 2ms/step - loss: 0.3508 - accuracy: 0.8455 - val_loss: 0.3946 - val_accuracy: 0.8547\n",
      "Epoch 472/500\n",
      "12/12 [==============================] - 0s 3ms/step - loss: 0.3586 - accuracy: 0.8469 - val_loss: 0.3955 - val_accuracy: 0.8547\n",
      "Epoch 473/500\n",
      "12/12 [==============================] - 0s 2ms/step - loss: 0.3648 - accuracy: 0.8511 - val_loss: 0.3973 - val_accuracy: 0.8547\n",
      "Epoch 474/500\n",
      "12/12 [==============================] - 0s 2ms/step - loss: 0.3625 - accuracy: 0.8483 - val_loss: 0.3990 - val_accuracy: 0.8492\n",
      "Epoch 475/500\n",
      "12/12 [==============================] - 0s 2ms/step - loss: 0.3480 - accuracy: 0.8469 - val_loss: 0.4019 - val_accuracy: 0.8492\n",
      "Epoch 476/500\n",
      "12/12 [==============================] - 0s 3ms/step - loss: 0.3596 - accuracy: 0.8413 - val_loss: 0.3998 - val_accuracy: 0.8547\n",
      "Epoch 477/500\n",
      "12/12 [==============================] - 0s 2ms/step - loss: 0.3384 - accuracy: 0.8525 - val_loss: 0.4039 - val_accuracy: 0.8547\n",
      "Epoch 478/500\n",
      "12/12 [==============================] - 0s 2ms/step - loss: 0.3452 - accuracy: 0.8553 - val_loss: 0.3989 - val_accuracy: 0.8492\n",
      "Epoch 479/500\n",
      "12/12 [==============================] - 0s 2ms/step - loss: 0.3415 - accuracy: 0.8567 - val_loss: 0.3997 - val_accuracy: 0.8492\n",
      "Epoch 480/500\n",
      "12/12 [==============================] - 0s 2ms/step - loss: 0.3505 - accuracy: 0.8511 - val_loss: 0.4035 - val_accuracy: 0.8547\n",
      "Epoch 481/500\n",
      "12/12 [==============================] - 0s 2ms/step - loss: 0.3541 - accuracy: 0.8596 - val_loss: 0.4019 - val_accuracy: 0.8547\n",
      "Epoch 482/500\n",
      "12/12 [==============================] - 0s 2ms/step - loss: 0.3513 - accuracy: 0.8427 - val_loss: 0.4136 - val_accuracy: 0.8603\n",
      "Epoch 483/500\n",
      "12/12 [==============================] - 0s 2ms/step - loss: 0.3548 - accuracy: 0.8511 - val_loss: 0.4073 - val_accuracy: 0.8492\n",
      "Epoch 484/500\n",
      "12/12 [==============================] - 0s 2ms/step - loss: 0.3433 - accuracy: 0.8497 - val_loss: 0.4094 - val_accuracy: 0.8547\n",
      "Epoch 485/500\n",
      "12/12 [==============================] - 0s 2ms/step - loss: 0.3549 - accuracy: 0.8455 - val_loss: 0.4148 - val_accuracy: 0.8547\n",
      "Epoch 486/500\n",
      "12/12 [==============================] - 0s 2ms/step - loss: 0.3532 - accuracy: 0.8511 - val_loss: 0.4198 - val_accuracy: 0.8492\n",
      "Epoch 487/500\n",
      "12/12 [==============================] - 0s 2ms/step - loss: 0.3541 - accuracy: 0.8469 - val_loss: 0.4126 - val_accuracy: 0.8492\n",
      "Epoch 488/500\n",
      "12/12 [==============================] - 0s 2ms/step - loss: 0.3521 - accuracy: 0.8511 - val_loss: 0.4083 - val_accuracy: 0.8436\n",
      "Epoch 489/500\n",
      "12/12 [==============================] - 0s 2ms/step - loss: 0.3428 - accuracy: 0.8511 - val_loss: 0.4153 - val_accuracy: 0.8547\n",
      "Epoch 490/500\n",
      "12/12 [==============================] - 0s 2ms/step - loss: 0.3502 - accuracy: 0.8497 - val_loss: 0.4167 - val_accuracy: 0.8492\n",
      "Epoch 491/500\n",
      "12/12 [==============================] - 0s 2ms/step - loss: 0.3586 - accuracy: 0.8427 - val_loss: 0.4056 - val_accuracy: 0.8603\n",
      "Epoch 492/500\n",
      "12/12 [==============================] - 0s 2ms/step - loss: 0.3538 - accuracy: 0.8469 - val_loss: 0.4077 - val_accuracy: 0.8547\n",
      "Epoch 493/500\n",
      "12/12 [==============================] - 0s 2ms/step - loss: 0.3495 - accuracy: 0.8483 - val_loss: 0.4176 - val_accuracy: 0.8547\n",
      "Epoch 494/500\n",
      "12/12 [==============================] - 0s 2ms/step - loss: 0.3535 - accuracy: 0.8553 - val_loss: 0.4157 - val_accuracy: 0.8547\n",
      "Epoch 495/500\n",
      "12/12 [==============================] - 0s 2ms/step - loss: 0.3571 - accuracy: 0.8483 - val_loss: 0.4094 - val_accuracy: 0.8492\n",
      "Epoch 496/500\n",
      "12/12 [==============================] - 0s 2ms/step - loss: 0.3608 - accuracy: 0.8483 - val_loss: 0.4108 - val_accuracy: 0.8547\n",
      "Epoch 497/500\n",
      "12/12 [==============================] - 0s 2ms/step - loss: 0.3581 - accuracy: 0.8371 - val_loss: 0.4160 - val_accuracy: 0.8547\n",
      "Epoch 498/500\n",
      "12/12 [==============================] - 0s 2ms/step - loss: 0.3511 - accuracy: 0.8539 - val_loss: 0.4141 - val_accuracy: 0.8603\n",
      "Epoch 499/500\n",
      "12/12 [==============================] - 0s 2ms/step - loss: 0.3602 - accuracy: 0.8385 - val_loss: 0.4071 - val_accuracy: 0.8492\n",
      "Epoch 500/500\n",
      "12/12 [==============================] - 0s 2ms/step - loss: 0.3596 - accuracy: 0.8539 - val_loss: 0.4142 - val_accuracy: 0.8547\n"
     ]
    }
   ],
   "source": [
    "history = nn_model.fit(X_tr,y_tr,\n",
    "                      batch_size=64,\n",
    "                      epochs=500,\n",
    "                      validation_data=(X_vld,y_vld),\n",
    "                      verbose=1)"
   ]
  },
  {
   "cell_type": "code",
   "execution_count": null,
   "metadata": {},
   "outputs": [],
   "source": []
  }
 ],
 "metadata": {
  "kernelspec": {
   "display_name": "Python 3",
   "language": "python",
   "name": "python3"
  },
  "language_info": {
   "codemirror_mode": {
    "name": "ipython",
    "version": 3
   },
   "file_extension": ".py",
   "mimetype": "text/x-python",
   "name": "python",
   "nbconvert_exporter": "python",
   "pygments_lexer": "ipython3",
   "version": "3.7.6"
  }
 },
 "nbformat": 4,
 "nbformat_minor": 4
}
